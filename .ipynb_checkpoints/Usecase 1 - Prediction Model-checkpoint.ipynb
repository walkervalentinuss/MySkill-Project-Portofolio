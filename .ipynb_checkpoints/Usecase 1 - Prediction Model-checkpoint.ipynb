{
 "cells": [
  {
   "cell_type": "markdown",
   "metadata": {
    "id": "8vCIsNVmb5LC"
   },
   "source": [
    "### **PROBLEM STATEMENT**"
   ]
  },
  {
   "cell_type": "markdown",
   "metadata": {
    "id": "Dx1sh18Ab5LG"
   },
   "source": [
    "Kekhawatiran adanya keterlambatan pembayaran kartu kredit pada FinanKu yang akan merugikan bisnis.\n",
    "Sehingga orang-orang yang memiliki potensi untuk mengalami keterlambatan bayar bisa diprediksi lebih cepat untuk menentukan strategi yang sesuai dalam menghadapi kondisi di masa mendatang."
   ]
  },
  {
   "cell_type": "markdown",
   "metadata": {
    "id": "W29P1S4vb5LG"
   },
   "source": [
    "### **OBJECTIVE**"
   ]
  },
  {
   "cell_type": "markdown",
   "metadata": {
    "id": "sogKEjUCb5LH"
   },
   "source": [
    "Membuat sebuah model yang dapat memprediksi setidaknya 60% dari pelanggan yang akan mengalami telat bayar kartu kredit [Accuracy & Recall di atas 60%]"
   ]
  },
  {
   "cell_type": "markdown",
   "metadata": {
    "id": "P7Vu77oOb5LH"
   },
   "source": [
    "### **VARIABEL YANG TERSEDIA**"
   ]
  },
  {
   "cell_type": "markdown",
   "metadata": {
    "id": "UsST-uK_b5LI"
   },
   "source": [
    "Dari dataset yang dimiliki terdapat beberapa data yang tersedia:\n",
    "\n",
    "\n",
    "---\n",
    "\n",
    "\n",
    "**1. Customer ID:** Unique ID Customer\\\n",
    "**2. Branch:** Lokasi Cabang Nasabah Terdaftar\\\n",
    "**3. City:** Lokasi Kota Nasabah Terdaftar\\\n",
    "**4. Age:** Umur Nasabah Pada Periode Observasi\\\n",
    "**5. Avg. Annual Income/Month:** Rata-rata penghasilan nasabah dalam satu tahun\\\n",
    "**6. Balance (Q1-Q4):** Saldo mengendap yang dimiliki nasabah di akhir kuartal\\\n",
    "**7. Num of Products (Q1-Q4):** Jumlah kepemilikan produk nasabah di akhir kuartal\\\n",
    "**8. HasCrCard (Q1-Q4):** Status kepemilikan produk kartu kredit nasabah di akhir kuartal\\\n",
    "**9. Active Member (Q1-Q4):** Status keaktifan nasabah\\\n",
    "**10. Unpaid Tagging:** Status nasabah gagal bayar\n"
   ]
  },
  {
   "cell_type": "markdown",
   "metadata": {
    "id": "py8wzhmRb5LI"
   },
   "source": [
    "# **EXPERIMENT**"
   ]
  },
  {
   "cell_type": "markdown",
   "metadata": {
    "id": "J-omPSeOb5LJ"
   },
   "source": [
    "Periode Tinjauan:\n",
    "1. Nasabah direview selama satu tahun terakhir\n",
    "2. Nasabah direview selama 6 bulan terakhir\n",
    "\n",
    "Penyesuaian Variabel:\n",
    "1. Balance dilihat dari rata-rata selama horizon waktu & dilihat perubahan pada akhir tinjauan dan awal tinjauan\n",
    "2. Melihat kepemilikan jumlah produk dari rata-rata, maksimum, dan minimum pada periode tinjauan\n",
    "3. Status keaktifan nasabah dilihat dalam bentuk bulan"
   ]
  },
  {
   "cell_type": "code",
   "execution_count": 1,
   "metadata": {
    "id": "_GyeHggwb5LK",
    "tags": []
   },
   "outputs": [],
   "source": [
    "import pandas as pd\n",
    "import numpy as np\n",
    "import matplotlib.pyplot as plt\n",
    "import seaborn as sns\n",
    "import time\n",
    "from sklearn.linear_model import LogisticRegression, LogisticRegressionCV\n",
    "from sklearn.model_selection import GridSearchCV\n",
    "from xgboost import XGBClassifier\n",
    "from sklearn.metrics import confusion_matrix, classification_report, make_scorer,accuracy_score,precision_score,recall_score,f1_score\n",
    "from sklearn.ensemble import RandomForestClassifier\n",
    "from sklearn import metrics\n",
    "from jcopml.feature_importance import mean_score_decrease"
   ]
  },
  {
   "cell_type": "markdown",
   "metadata": {
    "id": "RnsddMVAb5LK",
    "tags": []
   },
   "source": [
    "# Import Package"
   ]
  },
  {
   "cell_type": "code",
   "execution_count": 2,
   "metadata": {
    "id": "cKlwzBbkb5LL"
   },
   "outputs": [],
   "source": [
    "pd.set_option('display.max_columns', None)"
   ]
  },
  {
   "cell_type": "markdown",
   "metadata": {
    "id": "V6jm9WNTb5LM"
   },
   "source": [
    "# **Data For Prediction**"
   ]
  },
  {
   "cell_type": "code",
   "execution_count": 3,
   "metadata": {
    "id": "t1a5qyb2gH75"
   },
   "outputs": [],
   "source": [
    "path_1 = \"https://raw.githubusercontent.com/brainspopper/dataset/main/FinanKu%20Data%20All.csv\"\n",
    "path_2 = \"https://raw.githubusercontent.com/brainspopper/dataset/main/FinanKu%20Data%20Validasi.csv\"\n",
    "df_all = pd.read_csv(path_1)\n",
    "df_val = pd.read_csv(path_2)"
   ]
  },
  {
   "cell_type": "markdown",
   "metadata": {
    "id": "yqbEYkYlb5LM"
   },
   "source": [
    "Dataset untuk Eksperimen 1"
   ]
  },
  {
   "cell_type": "code",
   "execution_count": 4,
   "metadata": {
    "colab": {
     "base_uri": "https://localhost:8080/",
     "height": 243
    },
    "id": "2O5uDIEJb5LM",
    "outputId": "44e9920f-ce66-4143-bdd9-460932cd2b88"
   },
   "outputs": [
    {
     "data": {
      "text/html": [
       "<div>\n",
       "<style scoped>\n",
       "    .dataframe tbody tr th:only-of-type {\n",
       "        vertical-align: middle;\n",
       "    }\n",
       "\n",
       "    .dataframe tbody tr th {\n",
       "        vertical-align: top;\n",
       "    }\n",
       "\n",
       "    .dataframe thead th {\n",
       "        text-align: right;\n",
       "    }\n",
       "</style>\n",
       "<table border=\"1\" class=\"dataframe\">\n",
       "  <thead>\n",
       "    <tr style=\"text-align: right;\">\n",
       "      <th></th>\n",
       "      <th>Customer ID</th>\n",
       "      <th>Branch Code</th>\n",
       "      <th>City</th>\n",
       "      <th>Age</th>\n",
       "      <th>Avg. Annual Income/Month</th>\n",
       "      <th>Balance Q1</th>\n",
       "      <th>NumOfProducts Q1</th>\n",
       "      <th>HasCrCard Q1</th>\n",
       "      <th>ActiveMember Q1</th>\n",
       "      <th>Balance Q2</th>\n",
       "      <th>NumOfProducts Q2</th>\n",
       "      <th>HasCrCard Q2</th>\n",
       "      <th>ActiveMember Q2</th>\n",
       "      <th>Balance Q3</th>\n",
       "      <th>NumOfProducts Q3</th>\n",
       "      <th>HasCrCard Q3</th>\n",
       "      <th>ActiveMember Q3</th>\n",
       "      <th>Balance Q4</th>\n",
       "      <th>NumOfProducts Q4</th>\n",
       "      <th>HasCrCard Q4</th>\n",
       "      <th>ActiveMember Q4</th>\n",
       "      <th>Unpaid Tagging</th>\n",
       "    </tr>\n",
       "  </thead>\n",
       "  <tbody>\n",
       "    <tr>\n",
       "      <th>0</th>\n",
       "      <td>15565701</td>\n",
       "      <td>1001</td>\n",
       "      <td>Jakarta</td>\n",
       "      <td>29</td>\n",
       "      <td>33000000</td>\n",
       "      <td>0.0</td>\n",
       "      <td>1</td>\n",
       "      <td>1</td>\n",
       "      <td>1</td>\n",
       "      <td>0.0</td>\n",
       "      <td>1</td>\n",
       "      <td>1</td>\n",
       "      <td>0</td>\n",
       "      <td>0.00</td>\n",
       "      <td>1</td>\n",
       "      <td>1</td>\n",
       "      <td>0</td>\n",
       "      <td>1187036.18</td>\n",
       "      <td>1</td>\n",
       "      <td>1</td>\n",
       "      <td>1</td>\n",
       "      <td>1</td>\n",
       "    </tr>\n",
       "    <tr>\n",
       "      <th>1</th>\n",
       "      <td>15565878</td>\n",
       "      <td>1005</td>\n",
       "      <td>Jakarta</td>\n",
       "      <td>68</td>\n",
       "      <td>17000000</td>\n",
       "      <td>0.0</td>\n",
       "      <td>2</td>\n",
       "      <td>1</td>\n",
       "      <td>1</td>\n",
       "      <td>0.0</td>\n",
       "      <td>2</td>\n",
       "      <td>1</td>\n",
       "      <td>0</td>\n",
       "      <td>0.00</td>\n",
       "      <td>2</td>\n",
       "      <td>1</td>\n",
       "      <td>0</td>\n",
       "      <td>0.00</td>\n",
       "      <td>2</td>\n",
       "      <td>1</td>\n",
       "      <td>0</td>\n",
       "      <td>0</td>\n",
       "    </tr>\n",
       "    <tr>\n",
       "      <th>2</th>\n",
       "      <td>15566091</td>\n",
       "      <td>1009</td>\n",
       "      <td>Jakarta</td>\n",
       "      <td>25</td>\n",
       "      <td>12000000</td>\n",
       "      <td>0.0</td>\n",
       "      <td>2</td>\n",
       "      <td>1</td>\n",
       "      <td>0</td>\n",
       "      <td>0.0</td>\n",
       "      <td>2</td>\n",
       "      <td>1</td>\n",
       "      <td>0</td>\n",
       "      <td>0.00</td>\n",
       "      <td>2</td>\n",
       "      <td>1</td>\n",
       "      <td>0</td>\n",
       "      <td>1351820.24</td>\n",
       "      <td>2</td>\n",
       "      <td>1</td>\n",
       "      <td>1</td>\n",
       "      <td>0</td>\n",
       "    </tr>\n",
       "    <tr>\n",
       "      <th>3</th>\n",
       "      <td>15566292</td>\n",
       "      <td>1008</td>\n",
       "      <td>Jakarta</td>\n",
       "      <td>42</td>\n",
       "      <td>19000000</td>\n",
       "      <td>0.0</td>\n",
       "      <td>2</td>\n",
       "      <td>1</td>\n",
       "      <td>1</td>\n",
       "      <td>0.0</td>\n",
       "      <td>2</td>\n",
       "      <td>1</td>\n",
       "      <td>0</td>\n",
       "      <td>0.00</td>\n",
       "      <td>2</td>\n",
       "      <td>1</td>\n",
       "      <td>0</td>\n",
       "      <td>0.00</td>\n",
       "      <td>2</td>\n",
       "      <td>1</td>\n",
       "      <td>0</td>\n",
       "      <td>0</td>\n",
       "    </tr>\n",
       "    <tr>\n",
       "      <th>4</th>\n",
       "      <td>15566312</td>\n",
       "      <td>1009</td>\n",
       "      <td>Jakarta</td>\n",
       "      <td>43</td>\n",
       "      <td>29000000</td>\n",
       "      <td>0.0</td>\n",
       "      <td>2</td>\n",
       "      <td>1</td>\n",
       "      <td>0</td>\n",
       "      <td>0.0</td>\n",
       "      <td>2</td>\n",
       "      <td>1</td>\n",
       "      <td>0</td>\n",
       "      <td>678905.68</td>\n",
       "      <td>2</td>\n",
       "      <td>1</td>\n",
       "      <td>1</td>\n",
       "      <td>431190.68</td>\n",
       "      <td>2</td>\n",
       "      <td>1</td>\n",
       "      <td>1</td>\n",
       "      <td>0</td>\n",
       "    </tr>\n",
       "  </tbody>\n",
       "</table>\n",
       "</div>"
      ],
      "text/plain": [
       "   Customer ID  Branch Code     City  Age  Avg. Annual Income/Month  \\\n",
       "0     15565701         1001  Jakarta   29                  33000000   \n",
       "1     15565878         1005  Jakarta   68                  17000000   \n",
       "2     15566091         1009  Jakarta   25                  12000000   \n",
       "3     15566292         1008  Jakarta   42                  19000000   \n",
       "4     15566312         1009  Jakarta   43                  29000000   \n",
       "\n",
       "   Balance Q1  NumOfProducts Q1  HasCrCard Q1  ActiveMember Q1  Balance Q2  \\\n",
       "0         0.0                 1             1                1         0.0   \n",
       "1         0.0                 2             1                1         0.0   \n",
       "2         0.0                 2             1                0         0.0   \n",
       "3         0.0                 2             1                1         0.0   \n",
       "4         0.0                 2             1                0         0.0   \n",
       "\n",
       "   NumOfProducts Q2  HasCrCard Q2  ActiveMember Q2  Balance Q3  \\\n",
       "0                 1             1                0        0.00   \n",
       "1                 2             1                0        0.00   \n",
       "2                 2             1                0        0.00   \n",
       "3                 2             1                0        0.00   \n",
       "4                 2             1                0   678905.68   \n",
       "\n",
       "   NumOfProducts Q3  HasCrCard Q3  ActiveMember Q3  Balance Q4  \\\n",
       "0                 1             1                0  1187036.18   \n",
       "1                 2             1                0        0.00   \n",
       "2                 2             1                0  1351820.24   \n",
       "3                 2             1                0        0.00   \n",
       "4                 2             1                1   431190.68   \n",
       "\n",
       "   NumOfProducts Q4  HasCrCard Q4  ActiveMember Q4  Unpaid Tagging  \n",
       "0                 1             1                1               1  \n",
       "1                 2             1                0               0  \n",
       "2                 2             1                1               0  \n",
       "3                 2             1                0               0  \n",
       "4                 2             1                1               0  "
      ]
     },
     "execution_count": 4,
     "metadata": {},
     "output_type": "execute_result"
    }
   ],
   "source": [
    "df1 = pd.read_csv(path_1)\n",
    "df1.head()"
   ]
  },
  {
   "cell_type": "markdown",
   "metadata": {
    "id": "-CU8H1ZIb5LN"
   },
   "source": [
    "Dataset untuk Eksperimen 2"
   ]
  },
  {
   "cell_type": "code",
   "execution_count": 5,
   "metadata": {
    "colab": {
     "base_uri": "https://localhost:8080/",
     "height": 243
    },
    "id": "saa9Xyvmb5LN",
    "outputId": "69343a9b-5b04-4613-e829-66de83d14e2b"
   },
   "outputs": [
    {
     "data": {
      "text/html": [
       "<div>\n",
       "<style scoped>\n",
       "    .dataframe tbody tr th:only-of-type {\n",
       "        vertical-align: middle;\n",
       "    }\n",
       "\n",
       "    .dataframe tbody tr th {\n",
       "        vertical-align: top;\n",
       "    }\n",
       "\n",
       "    .dataframe thead th {\n",
       "        text-align: right;\n",
       "    }\n",
       "</style>\n",
       "<table border=\"1\" class=\"dataframe\">\n",
       "  <thead>\n",
       "    <tr style=\"text-align: right;\">\n",
       "      <th></th>\n",
       "      <th>Customer ID</th>\n",
       "      <th>Branch Code</th>\n",
       "      <th>City</th>\n",
       "      <th>Age</th>\n",
       "      <th>Avg. Annual Income/Month</th>\n",
       "      <th>Balance Q1</th>\n",
       "      <th>NumOfProducts Q1</th>\n",
       "      <th>HasCrCard Q1</th>\n",
       "      <th>ActiveMember Q1</th>\n",
       "      <th>Balance Q2</th>\n",
       "      <th>NumOfProducts Q2</th>\n",
       "      <th>HasCrCard Q2</th>\n",
       "      <th>ActiveMember Q2</th>\n",
       "      <th>Balance Q3</th>\n",
       "      <th>NumOfProducts Q3</th>\n",
       "      <th>HasCrCard Q3</th>\n",
       "      <th>ActiveMember Q3</th>\n",
       "      <th>Balance Q4</th>\n",
       "      <th>NumOfProducts Q4</th>\n",
       "      <th>HasCrCard Q4</th>\n",
       "      <th>ActiveMember Q4</th>\n",
       "      <th>Unpaid Tagging</th>\n",
       "    </tr>\n",
       "  </thead>\n",
       "  <tbody>\n",
       "    <tr>\n",
       "      <th>0</th>\n",
       "      <td>15565701</td>\n",
       "      <td>1001</td>\n",
       "      <td>Jakarta</td>\n",
       "      <td>29</td>\n",
       "      <td>33000000</td>\n",
       "      <td>0.0</td>\n",
       "      <td>1</td>\n",
       "      <td>1</td>\n",
       "      <td>1</td>\n",
       "      <td>0.0</td>\n",
       "      <td>1</td>\n",
       "      <td>1</td>\n",
       "      <td>0</td>\n",
       "      <td>0.00</td>\n",
       "      <td>1</td>\n",
       "      <td>1</td>\n",
       "      <td>0</td>\n",
       "      <td>1187036.18</td>\n",
       "      <td>1</td>\n",
       "      <td>1</td>\n",
       "      <td>1</td>\n",
       "      <td>1</td>\n",
       "    </tr>\n",
       "    <tr>\n",
       "      <th>1</th>\n",
       "      <td>15565878</td>\n",
       "      <td>1005</td>\n",
       "      <td>Jakarta</td>\n",
       "      <td>68</td>\n",
       "      <td>17000000</td>\n",
       "      <td>0.0</td>\n",
       "      <td>2</td>\n",
       "      <td>1</td>\n",
       "      <td>1</td>\n",
       "      <td>0.0</td>\n",
       "      <td>2</td>\n",
       "      <td>1</td>\n",
       "      <td>0</td>\n",
       "      <td>0.00</td>\n",
       "      <td>2</td>\n",
       "      <td>1</td>\n",
       "      <td>0</td>\n",
       "      <td>0.00</td>\n",
       "      <td>2</td>\n",
       "      <td>1</td>\n",
       "      <td>0</td>\n",
       "      <td>0</td>\n",
       "    </tr>\n",
       "    <tr>\n",
       "      <th>2</th>\n",
       "      <td>15566091</td>\n",
       "      <td>1009</td>\n",
       "      <td>Jakarta</td>\n",
       "      <td>25</td>\n",
       "      <td>12000000</td>\n",
       "      <td>0.0</td>\n",
       "      <td>2</td>\n",
       "      <td>1</td>\n",
       "      <td>0</td>\n",
       "      <td>0.0</td>\n",
       "      <td>2</td>\n",
       "      <td>1</td>\n",
       "      <td>0</td>\n",
       "      <td>0.00</td>\n",
       "      <td>2</td>\n",
       "      <td>1</td>\n",
       "      <td>0</td>\n",
       "      <td>1351820.24</td>\n",
       "      <td>2</td>\n",
       "      <td>1</td>\n",
       "      <td>1</td>\n",
       "      <td>0</td>\n",
       "    </tr>\n",
       "    <tr>\n",
       "      <th>3</th>\n",
       "      <td>15566292</td>\n",
       "      <td>1008</td>\n",
       "      <td>Jakarta</td>\n",
       "      <td>42</td>\n",
       "      <td>19000000</td>\n",
       "      <td>0.0</td>\n",
       "      <td>2</td>\n",
       "      <td>1</td>\n",
       "      <td>1</td>\n",
       "      <td>0.0</td>\n",
       "      <td>2</td>\n",
       "      <td>1</td>\n",
       "      <td>0</td>\n",
       "      <td>0.00</td>\n",
       "      <td>2</td>\n",
       "      <td>1</td>\n",
       "      <td>0</td>\n",
       "      <td>0.00</td>\n",
       "      <td>2</td>\n",
       "      <td>1</td>\n",
       "      <td>0</td>\n",
       "      <td>0</td>\n",
       "    </tr>\n",
       "    <tr>\n",
       "      <th>4</th>\n",
       "      <td>15566312</td>\n",
       "      <td>1009</td>\n",
       "      <td>Jakarta</td>\n",
       "      <td>43</td>\n",
       "      <td>29000000</td>\n",
       "      <td>0.0</td>\n",
       "      <td>2</td>\n",
       "      <td>1</td>\n",
       "      <td>0</td>\n",
       "      <td>0.0</td>\n",
       "      <td>2</td>\n",
       "      <td>1</td>\n",
       "      <td>0</td>\n",
       "      <td>678905.68</td>\n",
       "      <td>2</td>\n",
       "      <td>1</td>\n",
       "      <td>1</td>\n",
       "      <td>431190.68</td>\n",
       "      <td>2</td>\n",
       "      <td>1</td>\n",
       "      <td>1</td>\n",
       "      <td>0</td>\n",
       "    </tr>\n",
       "  </tbody>\n",
       "</table>\n",
       "</div>"
      ],
      "text/plain": [
       "   Customer ID  Branch Code     City  Age  Avg. Annual Income/Month  \\\n",
       "0     15565701         1001  Jakarta   29                  33000000   \n",
       "1     15565878         1005  Jakarta   68                  17000000   \n",
       "2     15566091         1009  Jakarta   25                  12000000   \n",
       "3     15566292         1008  Jakarta   42                  19000000   \n",
       "4     15566312         1009  Jakarta   43                  29000000   \n",
       "\n",
       "   Balance Q1  NumOfProducts Q1  HasCrCard Q1  ActiveMember Q1  Balance Q2  \\\n",
       "0         0.0                 1             1                1         0.0   \n",
       "1         0.0                 2             1                1         0.0   \n",
       "2         0.0                 2             1                0         0.0   \n",
       "3         0.0                 2             1                1         0.0   \n",
       "4         0.0                 2             1                0         0.0   \n",
       "\n",
       "   NumOfProducts Q2  HasCrCard Q2  ActiveMember Q2  Balance Q3  \\\n",
       "0                 1             1                0        0.00   \n",
       "1                 2             1                0        0.00   \n",
       "2                 2             1                0        0.00   \n",
       "3                 2             1                0        0.00   \n",
       "4                 2             1                0   678905.68   \n",
       "\n",
       "   NumOfProducts Q3  HasCrCard Q3  ActiveMember Q3  Balance Q4  \\\n",
       "0                 1             1                0  1187036.18   \n",
       "1                 2             1                0        0.00   \n",
       "2                 2             1                0  1351820.24   \n",
       "3                 2             1                0        0.00   \n",
       "4                 2             1                1   431190.68   \n",
       "\n",
       "   NumOfProducts Q4  HasCrCard Q4  ActiveMember Q4  Unpaid Tagging  \n",
       "0                 1             1                1               1  \n",
       "1                 2             1                0               0  \n",
       "2                 2             1                1               0  \n",
       "3                 2             1                0               0  \n",
       "4                 2             1                1               0  "
      ]
     },
     "execution_count": 5,
     "metadata": {},
     "output_type": "execute_result"
    }
   ],
   "source": [
    "df2 = pd.read_csv(path_1)\n",
    "df2.head()"
   ]
  },
  {
   "cell_type": "markdown",
   "metadata": {
    "id": "SLYy_ko8kJrY"
   },
   "source": [
    "# **Data Understanding**"
   ]
  },
  {
   "cell_type": "markdown",
   "metadata": {
    "id": "a1YtHki-kvm0"
   },
   "source": [
    "Sebaran Nasabah Berdasarkan Lokasi\n",
    "\n",
    " - Sebaran Keseluruhan\n",
    " - Sebaran Nasabah Gagal Bayar"
   ]
  },
  {
   "cell_type": "code",
   "execution_count": 6,
   "metadata": {
    "id": "rxs8GxSTk4QF"
   },
   "outputs": [
    {
     "data": {
      "text/html": [
       "<div>\n",
       "<style scoped>\n",
       "    .dataframe tbody tr th:only-of-type {\n",
       "        vertical-align: middle;\n",
       "    }\n",
       "\n",
       "    .dataframe tbody tr th {\n",
       "        vertical-align: top;\n",
       "    }\n",
       "\n",
       "    .dataframe thead th {\n",
       "        text-align: right;\n",
       "    }\n",
       "</style>\n",
       "<table border=\"1\" class=\"dataframe\">\n",
       "  <thead>\n",
       "    <tr style=\"text-align: right;\">\n",
       "      <th></th>\n",
       "      <th>City</th>\n",
       "      <th>Distribution by City</th>\n",
       "    </tr>\n",
       "  </thead>\n",
       "  <tbody>\n",
       "    <tr>\n",
       "      <th>0</th>\n",
       "      <td>Surabaya</td>\n",
       "      <td>3767</td>\n",
       "    </tr>\n",
       "    <tr>\n",
       "      <th>1</th>\n",
       "      <td>Bandung</td>\n",
       "      <td>1898</td>\n",
       "    </tr>\n",
       "    <tr>\n",
       "      <th>2</th>\n",
       "      <td>Jakarta</td>\n",
       "      <td>1896</td>\n",
       "    </tr>\n",
       "  </tbody>\n",
       "</table>\n",
       "</div>"
      ],
      "text/plain": [
       "       City  Distribution by City\n",
       "0  Surabaya                  3767\n",
       "1   Bandung                  1898\n",
       "2   Jakarta                  1896"
      ]
     },
     "execution_count": 6,
     "metadata": {},
     "output_type": "execute_result"
    }
   ],
   "source": [
    "data1 = pd.DataFrame(\\\n",
    "                     #Mengkelompokkan Berdasarkan Kota\n",
    "                     df_all.groupby(by=[\"City\"])[\"Customer ID\"]\\\n",
    "                     #Diagregatkan dengan menghitung jumlahnya (count)\n",
    "                     .count()\\\n",
    "                     #Mengurutkan data\n",
    "                     .sort_values(ascending=False)\\\n",
    "                     #Mereset nama header\n",
    "                     .reset_index(name='Distribution by City'))\n",
    "data1"
   ]
  },
  {
   "cell_type": "code",
   "execution_count": 7,
   "metadata": {},
   "outputs": [
    {
     "data": {
      "text/html": [
       "<div>\n",
       "<style scoped>\n",
       "    .dataframe tbody tr th:only-of-type {\n",
       "        vertical-align: middle;\n",
       "    }\n",
       "\n",
       "    .dataframe tbody tr th {\n",
       "        vertical-align: top;\n",
       "    }\n",
       "\n",
       "    .dataframe thead th {\n",
       "        text-align: right;\n",
       "    }\n",
       "</style>\n",
       "<table border=\"1\" class=\"dataframe\">\n",
       "  <thead>\n",
       "    <tr style=\"text-align: right;\">\n",
       "      <th></th>\n",
       "      <th>City</th>\n",
       "      <th>Distribution by City</th>\n",
       "    </tr>\n",
       "  </thead>\n",
       "  <tbody>\n",
       "    <tr>\n",
       "      <th>0</th>\n",
       "      <td>Surabaya</td>\n",
       "      <td>1033</td>\n",
       "    </tr>\n",
       "    <tr>\n",
       "      <th>1</th>\n",
       "      <td>Bandung</td>\n",
       "      <td>496</td>\n",
       "    </tr>\n",
       "    <tr>\n",
       "      <th>2</th>\n",
       "      <td>Jakarta</td>\n",
       "      <td>490</td>\n",
       "    </tr>\n",
       "  </tbody>\n",
       "</table>\n",
       "</div>"
      ],
      "text/plain": [
       "       City  Distribution by City\n",
       "0  Surabaya                  1033\n",
       "1   Bandung                   496\n",
       "2   Jakarta                   490"
      ]
     },
     "execution_count": 7,
     "metadata": {},
     "output_type": "execute_result"
    }
   ],
   "source": [
    "data2 = pd.DataFrame(\\\n",
    "                     #Mengkelompokkan Berdasarkan Kota\n",
    "                     df_all[df_all[\"Unpaid Tagging\"]==1].groupby(by=[\"City\"])[\"Customer ID\"]\\\n",
    "                     #Diagregatkan dengan menghitung jumlahnya (count)\n",
    "                     .count()\\\n",
    "                     #Mengurutkan data\n",
    "                     .sort_values(ascending=False)\\\n",
    "                     #Mereset nama header\n",
    "                     .reset_index(name='Distribution by City'))\n",
    "data2"
   ]
  },
  {
   "cell_type": "markdown",
   "metadata": {
    "id": "_WP-0oEHk3uS"
   },
   "source": [
    "Sebaran Nasabah Berdasarkan Usia\n",
    "- Sebaran Keseluruhan\n",
    "- Sebaran Nasabah Gagal Bayar"
   ]
  },
  {
   "cell_type": "code",
   "execution_count": 8,
   "metadata": {
    "id": "f0Pffqgek7Z9"
   },
   "outputs": [
    {
     "data": {
      "text/plain": [
       "<Axes: title={'center': 'Cust. Distribution by Age'}, xlabel='Age', ylabel='# People'>"
      ]
     },
     "execution_count": 8,
     "metadata": {},
     "output_type": "execute_result"
    },
    {
     "data": {
      "image/png": "[encoded data removed]",
      "text/plain": [
       "<Figure size 1200x700 with 1 Axes>"
      ]
     },
     "metadata": {},
     "output_type": "display_data"
    }
   ],
   "source": [
    "data3 = pd.DataFrame(\\\n",
    "                     #Mengkelompokkan Berdasarkan Umur\n",
    "                     df_all.groupby(by=[\"Age\"])[\"Customer ID\"]\\\n",
    "                     #Diagregatkan dengan menghitung jumlahnya (count)\n",
    "                     .count()\\\n",
    "                     #Mereset nama header\n",
    "                     .reset_index(name='Distribution by Age'))\n",
    "\n",
    "data3.sort_values(\\\n",
    "                  by=['Age'], \\\n",
    "                  ascending=True,\\\n",
    "                  inplace=True)\n",
    "\n",
    "\n",
    "data3.plot(x='Age',\n",
    "           y=['Distribution by Age'],\n",
    "           kind='bar',\n",
    "           grid = False,\n",
    "           xlabel = 'Age',\n",
    "           ylabel = '# People',\n",
    "           figsize=(12,7),\n",
    "           rot = 0,\n",
    "           title = 'Cust. Distribution by Age',\n",
    "           secondary_y = False)"
   ]
  },
  {
   "cell_type": "code",
   "execution_count": 9,
   "metadata": {},
   "outputs": [
    {
     "data": {
      "text/plain": [
       "<Axes: title={'center': 'Unpaid Cust. Distribution by Age'}, xlabel='Age', ylabel='# People'>"
      ]
     },
     "execution_count": 9,
     "metadata": {},
     "output_type": "execute_result"
    },
    {
     "data": {
      "image/png": "[encoded data removed]",
      "text/plain": [
       "<Figure size 1200x700 with 1 Axes>"
      ]
     },
     "metadata": {},
     "output_type": "display_data"
    }
   ],
   "source": [
    "data4 = pd.DataFrame(\\\n",
    "                     #Mengkelompokkan Berdasarkan Umur\n",
    "                     df_all[df_all[\"Unpaid Tagging\"]==1].groupby(by=[\"Age\"])[\"Customer ID\"]\\\n",
    "                     #Diagregatkan dengan menghitung jumlahnya (count)\n",
    "                     .count()\\\n",
    "                     #Mereset nama header\n",
    "                     .reset_index(name='Distribution by Age'))\n",
    "\n",
    "data4.sort_values(\\\n",
    "                  by=['Age'], \\\n",
    "                  ascending=True,\\\n",
    "                  inplace=True)\n",
    "\n",
    "\n",
    "data4.plot(x='Age',\n",
    "           y=['Distribution by Age'],\n",
    "           kind='bar',\n",
    "           grid = False,\n",
    "           xlabel = 'Age',\n",
    "           ylabel = '# People',\n",
    "           figsize=(12,7),\n",
    "           rot = 0,\n",
    "           title = 'Unpaid Cust. Distribution by Age',\n",
    "           secondary_y = False)"
   ]
  },
  {
   "cell_type": "markdown",
   "metadata": {
    "id": "K9671oUKkXoP"
   },
   "source": [
    "Rata-rata Saldo Nasabah"
   ]
  },
  {
   "cell_type": "code",
   "execution_count": 10,
   "metadata": {
    "id": "EScRqQ1EkXv_"
   },
   "outputs": [],
   "source": [
    "df_checkbalance = df_all"
   ]
  },
  {
   "cell_type": "code",
   "execution_count": 11,
   "metadata": {},
   "outputs": [],
   "source": [
    "df_checkbalance['Total Balance'] = df_checkbalance['Balance Q1']+df_checkbalance['Balance Q2']+df_checkbalance['Balance Q3']+df_checkbalance['Balance Q4']\n",
    "df_checkbalance['Avg Balance'] = (df_checkbalance['Balance Q1']+df_checkbalance['Balance Q2']+df_checkbalance['Balance Q3']+df_checkbalance['Balance Q4'])/4"
   ]
  },
  {
   "cell_type": "code",
   "execution_count": 12,
   "metadata": {},
   "outputs": [
    {
     "data": {
      "text/html": [
       "<div>\n",
       "<style scoped>\n",
       "    .dataframe tbody tr th:only-of-type {\n",
       "        vertical-align: middle;\n",
       "    }\n",
       "\n",
       "    .dataframe tbody tr th {\n",
       "        vertical-align: top;\n",
       "    }\n",
       "\n",
       "    .dataframe thead th {\n",
       "        text-align: right;\n",
       "    }\n",
       "</style>\n",
       "<table border=\"1\" class=\"dataframe\">\n",
       "  <thead>\n",
       "    <tr style=\"text-align: right;\">\n",
       "      <th></th>\n",
       "      <th>Unpaid Tagging</th>\n",
       "      <th>Avg Annual Balance</th>\n",
       "    </tr>\n",
       "  </thead>\n",
       "  <tbody>\n",
       "    <tr>\n",
       "      <th>0</th>\n",
       "      <td>0</td>\n",
       "      <td>1.985924e+08</td>\n",
       "    </tr>\n",
       "    <tr>\n",
       "      <th>1</th>\n",
       "      <td>1</td>\n",
       "      <td>2.527238e+08</td>\n",
       "    </tr>\n",
       "  </tbody>\n",
       "</table>\n",
       "</div>"
      ],
      "text/plain": [
       "   Unpaid Tagging  Avg Annual Balance\n",
       "0               0        1.985924e+08\n",
       "1               1        2.527238e+08"
      ]
     },
     "execution_count": 12,
     "metadata": {},
     "output_type": "execute_result"
    }
   ],
   "source": [
    "data5 = pd.DataFrame(\\\n",
    "                     df_checkbalance.groupby(by=[\"Unpaid Tagging\"])[\"Total Balance\"]\\\n",
    "                     .mean()\\\n",
    "                     .reset_index(name='Avg Annual Balance'))\n",
    "data5"
   ]
  },
  {
   "cell_type": "code",
   "execution_count": 13,
   "metadata": {},
   "outputs": [
    {
     "data": {
      "text/html": [
       "<div>\n",
       "<style scoped>\n",
       "    .dataframe tbody tr th:only-of-type {\n",
       "        vertical-align: middle;\n",
       "    }\n",
       "\n",
       "    .dataframe tbody tr th {\n",
       "        vertical-align: top;\n",
       "    }\n",
       "\n",
       "    .dataframe thead th {\n",
       "        text-align: right;\n",
       "    }\n",
       "</style>\n",
       "<table border=\"1\" class=\"dataframe\">\n",
       "  <thead>\n",
       "    <tr style=\"text-align: right;\">\n",
       "      <th></th>\n",
       "      <th>Unpaid Tagging</th>\n",
       "      <th>Avg Quarterly Balance</th>\n",
       "    </tr>\n",
       "  </thead>\n",
       "  <tbody>\n",
       "    <tr>\n",
       "      <th>0</th>\n",
       "      <td>0</td>\n",
       "      <td>4.964809e+07</td>\n",
       "    </tr>\n",
       "    <tr>\n",
       "      <th>1</th>\n",
       "      <td>1</td>\n",
       "      <td>6.318095e+07</td>\n",
       "    </tr>\n",
       "  </tbody>\n",
       "</table>\n",
       "</div>"
      ],
      "text/plain": [
       "   Unpaid Tagging  Avg Quarterly Balance\n",
       "0               0           4.964809e+07\n",
       "1               1           6.318095e+07"
      ]
     },
     "execution_count": 13,
     "metadata": {},
     "output_type": "execute_result"
    }
   ],
   "source": [
    "data6 = pd.DataFrame(\\\n",
    "                     df_checkbalance.groupby(by=[\"Unpaid Tagging\"])[\"Avg Balance\"]\\\n",
    "                     .mean()\\\n",
    "                     .reset_index(name='Avg Quarterly Balance'))\n",
    "data6"
   ]
  },
  {
   "cell_type": "markdown",
   "metadata": {
    "id": "2ZRSqBTzksdU"
   },
   "source": [
    "Rata-rata Kepemilikan Produk"
   ]
  },
  {
   "cell_type": "code",
   "execution_count": 14,
   "metadata": {
    "id": "T5yuQy1skrzx"
   },
   "outputs": [],
   "source": [
    "df_checkbalance['Avg Product'] = (df_checkbalance['NumOfProducts Q1']+df_checkbalance['NumOfProducts Q2']+df_checkbalance['NumOfProducts Q3']+df_checkbalance['NumOfProducts Q4'])/4"
   ]
  },
  {
   "cell_type": "code",
   "execution_count": 15,
   "metadata": {},
   "outputs": [
    {
     "data": {
      "text/html": [
       "<div>\n",
       "<style scoped>\n",
       "    .dataframe tbody tr th:only-of-type {\n",
       "        vertical-align: middle;\n",
       "    }\n",
       "\n",
       "    .dataframe tbody tr th {\n",
       "        vertical-align: top;\n",
       "    }\n",
       "\n",
       "    .dataframe thead th {\n",
       "        text-align: right;\n",
       "    }\n",
       "</style>\n",
       "<table border=\"1\" class=\"dataframe\">\n",
       "  <thead>\n",
       "    <tr style=\"text-align: right;\">\n",
       "      <th></th>\n",
       "      <th>Unpaid Tagging</th>\n",
       "      <th>Avg Product Owned</th>\n",
       "    </tr>\n",
       "  </thead>\n",
       "  <tbody>\n",
       "    <tr>\n",
       "      <th>0</th>\n",
       "      <td>0</td>\n",
       "      <td>1.667223</td>\n",
       "    </tr>\n",
       "    <tr>\n",
       "      <th>1</th>\n",
       "      <td>1</td>\n",
       "      <td>1.609336</td>\n",
       "    </tr>\n",
       "  </tbody>\n",
       "</table>\n",
       "</div>"
      ],
      "text/plain": [
       "   Unpaid Tagging  Avg Product Owned\n",
       "0               0           1.667223\n",
       "1               1           1.609336"
      ]
     },
     "execution_count": 15,
     "metadata": {},
     "output_type": "execute_result"
    }
   ],
   "source": [
    "data7 = pd.DataFrame(\\\n",
    "                     df_checkbalance.groupby(by=[\"Unpaid Tagging\"])[\"Avg Product\"]\\\n",
    "                     .mean()\\\n",
    "                     .reset_index(name='Avg Product Owned'))\n",
    "data7"
   ]
  },
  {
   "cell_type": "code",
   "execution_count": 16,
   "metadata": {},
   "outputs": [],
   "source": [
    "df_all = df_all.drop(columns=['Total Balance', 'Avg Balance','Avg Product'])"
   ]
  },
  {
   "cell_type": "markdown",
   "metadata": {
    "id": "WmsSLozSb5LO"
   },
   "source": [
    "# **Data Preparation**"
   ]
  },
  {
   "cell_type": "markdown",
   "metadata": {
    "id": "YKM5mExHmM9n"
   },
   "source": [
    "## Pengecekan Data Duplikat dan *Missing Data*"
   ]
  },
  {
   "cell_type": "code",
   "execution_count": 17,
   "metadata": {
    "id": "PCOaWKA7mWSF"
   },
   "outputs": [
    {
     "data": {
      "text/plain": [
       "0"
      ]
     },
     "execution_count": 17,
     "metadata": {},
     "output_type": "execute_result"
    }
   ],
   "source": [
    "df_all.duplicated().sum()"
   ]
  },
  {
   "cell_type": "code",
   "execution_count": 18,
   "metadata": {
    "id": "OjXb-Y2ImaLD"
   },
   "outputs": [
    {
     "data": {
      "text/plain": [
       "Customer ID                 0\n",
       "Branch Code                 0\n",
       "City                        0\n",
       "Age                         0\n",
       "Avg. Annual Income/Month    0\n",
       "Balance Q1                  0\n",
       "NumOfProducts Q1            0\n",
       "HasCrCard Q1                0\n",
       "ActiveMember Q1             0\n",
       "Balance Q2                  0\n",
       "NumOfProducts Q2            0\n",
       "HasCrCard Q2                0\n",
       "ActiveMember Q2             0\n",
       "Balance Q3                  0\n",
       "NumOfProducts Q3            0\n",
       "HasCrCard Q3                0\n",
       "ActiveMember Q3             0\n",
       "Balance Q4                  0\n",
       "NumOfProducts Q4            0\n",
       "HasCrCard Q4                0\n",
       "ActiveMember Q4             0\n",
       "Unpaid Tagging              0\n",
       "dtype: int64"
      ]
     },
     "execution_count": 18,
     "metadata": {},
     "output_type": "execute_result"
    }
   ],
   "source": [
    "df_all.isnull().sum()"
   ]
  },
  {
   "cell_type": "markdown",
   "metadata": {
    "id": "tk9aP6Rqb5LO"
   },
   "source": [
    "## Penambahan Variabel Relevan"
   ]
  },
  {
   "cell_type": "markdown",
   "metadata": {
    "id": "mXjmBYsbnNK6"
   },
   "source": [
    "**Rata-rata Saldo & Perubahan Saldo Selama Periode Observasi**\n",
    "\n",
    "Melihat saldo nasabah dalam scope observasi\n",
    "1. Experiment 1: Rata-rata saldo nasabah dalam 1 tahun terakhir & Perubahan Saldo di Q4 terhadap Q1\n",
    "2. Experiment 2: Rata-rata saldo nasabah dalam 6 bulan terakhir & Perubahan Saldo di Q4 terhadap Q2"
   ]
  },
  {
   "cell_type": "markdown",
   "metadata": {
    "id": "QE_8Ie02b5LO"
   },
   "source": [
    "Eksperimen 1"
   ]
  },
  {
   "cell_type": "code",
   "execution_count": 19,
   "metadata": {
    "id": "j-dL13nUb5LO"
   },
   "outputs": [],
   "source": [
    "df1['Mean Balance'] = (df1['Balance Q1']+df1['Balance Q2']+df1['Balance Q3']+df1['Balance Q4'])/4\n",
    "df1['Delta Balance'] = df1['Balance Q4']-df1['Balance Q1']"
   ]
  },
  {
   "cell_type": "code",
   "execution_count": 20,
   "metadata": {
    "colab": {
     "base_uri": "https://localhost:8080/",
     "height": 243
    },
    "id": "KKN-rcr9wi3J",
    "outputId": "310ce851-6be8-4fb1-d2c8-8a39d5a408ff"
   },
   "outputs": [
    {
     "data": {
      "text/html": [
       "<div>\n",
       "<style scoped>\n",
       "    .dataframe tbody tr th:only-of-type {\n",
       "        vertical-align: middle;\n",
       "    }\n",
       "\n",
       "    .dataframe tbody tr th {\n",
       "        vertical-align: top;\n",
       "    }\n",
       "\n",
       "    .dataframe thead th {\n",
       "        text-align: right;\n",
       "    }\n",
       "</style>\n",
       "<table border=\"1\" class=\"dataframe\">\n",
       "  <thead>\n",
       "    <tr style=\"text-align: right;\">\n",
       "      <th></th>\n",
       "      <th>Customer ID</th>\n",
       "      <th>Branch Code</th>\n",
       "      <th>City</th>\n",
       "      <th>Age</th>\n",
       "      <th>Avg. Annual Income/Month</th>\n",
       "      <th>Balance Q1</th>\n",
       "      <th>NumOfProducts Q1</th>\n",
       "      <th>HasCrCard Q1</th>\n",
       "      <th>ActiveMember Q1</th>\n",
       "      <th>Balance Q2</th>\n",
       "      <th>NumOfProducts Q2</th>\n",
       "      <th>HasCrCard Q2</th>\n",
       "      <th>ActiveMember Q2</th>\n",
       "      <th>Balance Q3</th>\n",
       "      <th>NumOfProducts Q3</th>\n",
       "      <th>HasCrCard Q3</th>\n",
       "      <th>ActiveMember Q3</th>\n",
       "      <th>Balance Q4</th>\n",
       "      <th>NumOfProducts Q4</th>\n",
       "      <th>HasCrCard Q4</th>\n",
       "      <th>ActiveMember Q4</th>\n",
       "      <th>Unpaid Tagging</th>\n",
       "      <th>Mean Balance</th>\n",
       "      <th>Delta Balance</th>\n",
       "    </tr>\n",
       "  </thead>\n",
       "  <tbody>\n",
       "    <tr>\n",
       "      <th>0</th>\n",
       "      <td>15565701</td>\n",
       "      <td>1001</td>\n",
       "      <td>Jakarta</td>\n",
       "      <td>29</td>\n",
       "      <td>33000000</td>\n",
       "      <td>0.0</td>\n",
       "      <td>1</td>\n",
       "      <td>1</td>\n",
       "      <td>1</td>\n",
       "      <td>0.0</td>\n",
       "      <td>1</td>\n",
       "      <td>1</td>\n",
       "      <td>0</td>\n",
       "      <td>0.00</td>\n",
       "      <td>1</td>\n",
       "      <td>1</td>\n",
       "      <td>0</td>\n",
       "      <td>1187036.18</td>\n",
       "      <td>1</td>\n",
       "      <td>1</td>\n",
       "      <td>1</td>\n",
       "      <td>1</td>\n",
       "      <td>296759.045</td>\n",
       "      <td>1187036.18</td>\n",
       "    </tr>\n",
       "    <tr>\n",
       "      <th>1</th>\n",
       "      <td>15565878</td>\n",
       "      <td>1005</td>\n",
       "      <td>Jakarta</td>\n",
       "      <td>68</td>\n",
       "      <td>17000000</td>\n",
       "      <td>0.0</td>\n",
       "      <td>2</td>\n",
       "      <td>1</td>\n",
       "      <td>1</td>\n",
       "      <td>0.0</td>\n",
       "      <td>2</td>\n",
       "      <td>1</td>\n",
       "      <td>0</td>\n",
       "      <td>0.00</td>\n",
       "      <td>2</td>\n",
       "      <td>1</td>\n",
       "      <td>0</td>\n",
       "      <td>0.00</td>\n",
       "      <td>2</td>\n",
       "      <td>1</td>\n",
       "      <td>0</td>\n",
       "      <td>0</td>\n",
       "      <td>0.000</td>\n",
       "      <td>0.00</td>\n",
       "    </tr>\n",
       "    <tr>\n",
       "      <th>2</th>\n",
       "      <td>15566091</td>\n",
       "      <td>1009</td>\n",
       "      <td>Jakarta</td>\n",
       "      <td>25</td>\n",
       "      <td>12000000</td>\n",
       "      <td>0.0</td>\n",
       "      <td>2</td>\n",
       "      <td>1</td>\n",
       "      <td>0</td>\n",
       "      <td>0.0</td>\n",
       "      <td>2</td>\n",
       "      <td>1</td>\n",
       "      <td>0</td>\n",
       "      <td>0.00</td>\n",
       "      <td>2</td>\n",
       "      <td>1</td>\n",
       "      <td>0</td>\n",
       "      <td>1351820.24</td>\n",
       "      <td>2</td>\n",
       "      <td>1</td>\n",
       "      <td>1</td>\n",
       "      <td>0</td>\n",
       "      <td>337955.060</td>\n",
       "      <td>1351820.24</td>\n",
       "    </tr>\n",
       "    <tr>\n",
       "      <th>3</th>\n",
       "      <td>15566292</td>\n",
       "      <td>1008</td>\n",
       "      <td>Jakarta</td>\n",
       "      <td>42</td>\n",
       "      <td>19000000</td>\n",
       "      <td>0.0</td>\n",
       "      <td>2</td>\n",
       "      <td>1</td>\n",
       "      <td>1</td>\n",
       "      <td>0.0</td>\n",
       "      <td>2</td>\n",
       "      <td>1</td>\n",
       "      <td>0</td>\n",
       "      <td>0.00</td>\n",
       "      <td>2</td>\n",
       "      <td>1</td>\n",
       "      <td>0</td>\n",
       "      <td>0.00</td>\n",
       "      <td>2</td>\n",
       "      <td>1</td>\n",
       "      <td>0</td>\n",
       "      <td>0</td>\n",
       "      <td>0.000</td>\n",
       "      <td>0.00</td>\n",
       "    </tr>\n",
       "    <tr>\n",
       "      <th>4</th>\n",
       "      <td>15566312</td>\n",
       "      <td>1009</td>\n",
       "      <td>Jakarta</td>\n",
       "      <td>43</td>\n",
       "      <td>29000000</td>\n",
       "      <td>0.0</td>\n",
       "      <td>2</td>\n",
       "      <td>1</td>\n",
       "      <td>0</td>\n",
       "      <td>0.0</td>\n",
       "      <td>2</td>\n",
       "      <td>1</td>\n",
       "      <td>0</td>\n",
       "      <td>678905.68</td>\n",
       "      <td>2</td>\n",
       "      <td>1</td>\n",
       "      <td>1</td>\n",
       "      <td>431190.68</td>\n",
       "      <td>2</td>\n",
       "      <td>1</td>\n",
       "      <td>1</td>\n",
       "      <td>0</td>\n",
       "      <td>277524.090</td>\n",
       "      <td>431190.68</td>\n",
       "    </tr>\n",
       "  </tbody>\n",
       "</table>\n",
       "</div>"
      ],
      "text/plain": [
       "   Customer ID  Branch Code     City  Age  Avg. Annual Income/Month  \\\n",
       "0     15565701         1001  Jakarta   29                  33000000   \n",
       "1     15565878         1005  Jakarta   68                  17000000   \n",
       "2     15566091         1009  Jakarta   25                  12000000   \n",
       "3     15566292         1008  Jakarta   42                  19000000   \n",
       "4     15566312         1009  Jakarta   43                  29000000   \n",
       "\n",
       "   Balance Q1  NumOfProducts Q1  HasCrCard Q1  ActiveMember Q1  Balance Q2  \\\n",
       "0         0.0                 1             1                1         0.0   \n",
       "1         0.0                 2             1                1         0.0   \n",
       "2         0.0                 2             1                0         0.0   \n",
       "3         0.0                 2             1                1         0.0   \n",
       "4         0.0                 2             1                0         0.0   \n",
       "\n",
       "   NumOfProducts Q2  HasCrCard Q2  ActiveMember Q2  Balance Q3  \\\n",
       "0                 1             1                0        0.00   \n",
       "1                 2             1                0        0.00   \n",
       "2                 2             1                0        0.00   \n",
       "3                 2             1                0        0.00   \n",
       "4                 2             1                0   678905.68   \n",
       "\n",
       "   NumOfProducts Q3  HasCrCard Q3  ActiveMember Q3  Balance Q4  \\\n",
       "0                 1             1                0  1187036.18   \n",
       "1                 2             1                0        0.00   \n",
       "2                 2             1                0  1351820.24   \n",
       "3                 2             1                0        0.00   \n",
       "4                 2             1                1   431190.68   \n",
       "\n",
       "   NumOfProducts Q4  HasCrCard Q4  ActiveMember Q4  Unpaid Tagging  \\\n",
       "0                 1             1                1               1   \n",
       "1                 2             1                0               0   \n",
       "2                 2             1                1               0   \n",
       "3                 2             1                0               0   \n",
       "4                 2             1                1               0   \n",
       "\n",
       "   Mean Balance  Delta Balance  \n",
       "0    296759.045     1187036.18  \n",
       "1         0.000           0.00  \n",
       "2    337955.060     1351820.24  \n",
       "3         0.000           0.00  \n",
       "4    277524.090      431190.68  "
      ]
     },
     "execution_count": 20,
     "metadata": {},
     "output_type": "execute_result"
    }
   ],
   "source": [
    "df1.head()"
   ]
  },
  {
   "cell_type": "markdown",
   "metadata": {
    "id": "OMsKdqi_b5LQ"
   },
   "source": [
    "Eksperimen 2"
   ]
  },
  {
   "cell_type": "code",
   "execution_count": 21,
   "metadata": {
    "id": "4mVMLLrdb5LQ"
   },
   "outputs": [],
   "source": [
    "df2['Mean Balance'] = (df2['Balance Q3']+df2['Balance Q4'])/2\n",
    "df2['Delta Balance'] = df2['Balance Q4']-df2['Balance Q2']"
   ]
  },
  {
   "cell_type": "code",
   "execution_count": 22,
   "metadata": {
    "colab": {
     "base_uri": "https://localhost:8080/",
     "height": 243
    },
    "id": "e7PMVo_gwe_Y",
    "outputId": "685d6868-2188-46c6-d89d-f45cd7e27d55"
   },
   "outputs": [
    {
     "data": {
      "text/html": [
       "<div>\n",
       "<style scoped>\n",
       "    .dataframe tbody tr th:only-of-type {\n",
       "        vertical-align: middle;\n",
       "    }\n",
       "\n",
       "    .dataframe tbody tr th {\n",
       "        vertical-align: top;\n",
       "    }\n",
       "\n",
       "    .dataframe thead th {\n",
       "        text-align: right;\n",
       "    }\n",
       "</style>\n",
       "<table border=\"1\" class=\"dataframe\">\n",
       "  <thead>\n",
       "    <tr style=\"text-align: right;\">\n",
       "      <th></th>\n",
       "      <th>Customer ID</th>\n",
       "      <th>Branch Code</th>\n",
       "      <th>City</th>\n",
       "      <th>Age</th>\n",
       "      <th>Avg. Annual Income/Month</th>\n",
       "      <th>Balance Q1</th>\n",
       "      <th>NumOfProducts Q1</th>\n",
       "      <th>HasCrCard Q1</th>\n",
       "      <th>ActiveMember Q1</th>\n",
       "      <th>Balance Q2</th>\n",
       "      <th>NumOfProducts Q2</th>\n",
       "      <th>HasCrCard Q2</th>\n",
       "      <th>ActiveMember Q2</th>\n",
       "      <th>Balance Q3</th>\n",
       "      <th>NumOfProducts Q3</th>\n",
       "      <th>HasCrCard Q3</th>\n",
       "      <th>ActiveMember Q3</th>\n",
       "      <th>Balance Q4</th>\n",
       "      <th>NumOfProducts Q4</th>\n",
       "      <th>HasCrCard Q4</th>\n",
       "      <th>ActiveMember Q4</th>\n",
       "      <th>Unpaid Tagging</th>\n",
       "      <th>Mean Balance</th>\n",
       "      <th>Delta Balance</th>\n",
       "    </tr>\n",
       "  </thead>\n",
       "  <tbody>\n",
       "    <tr>\n",
       "      <th>0</th>\n",
       "      <td>15565701</td>\n",
       "      <td>1001</td>\n",
       "      <td>Jakarta</td>\n",
       "      <td>29</td>\n",
       "      <td>33000000</td>\n",
       "      <td>0.0</td>\n",
       "      <td>1</td>\n",
       "      <td>1</td>\n",
       "      <td>1</td>\n",
       "      <td>0.0</td>\n",
       "      <td>1</td>\n",
       "      <td>1</td>\n",
       "      <td>0</td>\n",
       "      <td>0.00</td>\n",
       "      <td>1</td>\n",
       "      <td>1</td>\n",
       "      <td>0</td>\n",
       "      <td>1187036.18</td>\n",
       "      <td>1</td>\n",
       "      <td>1</td>\n",
       "      <td>1</td>\n",
       "      <td>1</td>\n",
       "      <td>593518.09</td>\n",
       "      <td>1187036.18</td>\n",
       "    </tr>\n",
       "    <tr>\n",
       "      <th>1</th>\n",
       "      <td>15565878</td>\n",
       "      <td>1005</td>\n",
       "      <td>Jakarta</td>\n",
       "      <td>68</td>\n",
       "      <td>17000000</td>\n",
       "      <td>0.0</td>\n",
       "      <td>2</td>\n",
       "      <td>1</td>\n",
       "      <td>1</td>\n",
       "      <td>0.0</td>\n",
       "      <td>2</td>\n",
       "      <td>1</td>\n",
       "      <td>0</td>\n",
       "      <td>0.00</td>\n",
       "      <td>2</td>\n",
       "      <td>1</td>\n",
       "      <td>0</td>\n",
       "      <td>0.00</td>\n",
       "      <td>2</td>\n",
       "      <td>1</td>\n",
       "      <td>0</td>\n",
       "      <td>0</td>\n",
       "      <td>0.00</td>\n",
       "      <td>0.00</td>\n",
       "    </tr>\n",
       "    <tr>\n",
       "      <th>2</th>\n",
       "      <td>15566091</td>\n",
       "      <td>1009</td>\n",
       "      <td>Jakarta</td>\n",
       "      <td>25</td>\n",
       "      <td>12000000</td>\n",
       "      <td>0.0</td>\n",
       "      <td>2</td>\n",
       "      <td>1</td>\n",
       "      <td>0</td>\n",
       "      <td>0.0</td>\n",
       "      <td>2</td>\n",
       "      <td>1</td>\n",
       "      <td>0</td>\n",
       "      <td>0.00</td>\n",
       "      <td>2</td>\n",
       "      <td>1</td>\n",
       "      <td>0</td>\n",
       "      <td>1351820.24</td>\n",
       "      <td>2</td>\n",
       "      <td>1</td>\n",
       "      <td>1</td>\n",
       "      <td>0</td>\n",
       "      <td>675910.12</td>\n",
       "      <td>1351820.24</td>\n",
       "    </tr>\n",
       "    <tr>\n",
       "      <th>3</th>\n",
       "      <td>15566292</td>\n",
       "      <td>1008</td>\n",
       "      <td>Jakarta</td>\n",
       "      <td>42</td>\n",
       "      <td>19000000</td>\n",
       "      <td>0.0</td>\n",
       "      <td>2</td>\n",
       "      <td>1</td>\n",
       "      <td>1</td>\n",
       "      <td>0.0</td>\n",
       "      <td>2</td>\n",
       "      <td>1</td>\n",
       "      <td>0</td>\n",
       "      <td>0.00</td>\n",
       "      <td>2</td>\n",
       "      <td>1</td>\n",
       "      <td>0</td>\n",
       "      <td>0.00</td>\n",
       "      <td>2</td>\n",
       "      <td>1</td>\n",
       "      <td>0</td>\n",
       "      <td>0</td>\n",
       "      <td>0.00</td>\n",
       "      <td>0.00</td>\n",
       "    </tr>\n",
       "    <tr>\n",
       "      <th>4</th>\n",
       "      <td>15566312</td>\n",
       "      <td>1009</td>\n",
       "      <td>Jakarta</td>\n",
       "      <td>43</td>\n",
       "      <td>29000000</td>\n",
       "      <td>0.0</td>\n",
       "      <td>2</td>\n",
       "      <td>1</td>\n",
       "      <td>0</td>\n",
       "      <td>0.0</td>\n",
       "      <td>2</td>\n",
       "      <td>1</td>\n",
       "      <td>0</td>\n",
       "      <td>678905.68</td>\n",
       "      <td>2</td>\n",
       "      <td>1</td>\n",
       "      <td>1</td>\n",
       "      <td>431190.68</td>\n",
       "      <td>2</td>\n",
       "      <td>1</td>\n",
       "      <td>1</td>\n",
       "      <td>0</td>\n",
       "      <td>555048.18</td>\n",
       "      <td>431190.68</td>\n",
       "    </tr>\n",
       "  </tbody>\n",
       "</table>\n",
       "</div>"
      ],
      "text/plain": [
       "   Customer ID  Branch Code     City  Age  Avg. Annual Income/Month  \\\n",
       "0     15565701         1001  Jakarta   29                  33000000   \n",
       "1     15565878         1005  Jakarta   68                  17000000   \n",
       "2     15566091         1009  Jakarta   25                  12000000   \n",
       "3     15566292         1008  Jakarta   42                  19000000   \n",
       "4     15566312         1009  Jakarta   43                  29000000   \n",
       "\n",
       "   Balance Q1  NumOfProducts Q1  HasCrCard Q1  ActiveMember Q1  Balance Q2  \\\n",
       "0         0.0                 1             1                1         0.0   \n",
       "1         0.0                 2             1                1         0.0   \n",
       "2         0.0                 2             1                0         0.0   \n",
       "3         0.0                 2             1                1         0.0   \n",
       "4         0.0                 2             1                0         0.0   \n",
       "\n",
       "   NumOfProducts Q2  HasCrCard Q2  ActiveMember Q2  Balance Q3  \\\n",
       "0                 1             1                0        0.00   \n",
       "1                 2             1                0        0.00   \n",
       "2                 2             1                0        0.00   \n",
       "3                 2             1                0        0.00   \n",
       "4                 2             1                0   678905.68   \n",
       "\n",
       "   NumOfProducts Q3  HasCrCard Q3  ActiveMember Q3  Balance Q4  \\\n",
       "0                 1             1                0  1187036.18   \n",
       "1                 2             1                0        0.00   \n",
       "2                 2             1                0  1351820.24   \n",
       "3                 2             1                0        0.00   \n",
       "4                 2             1                1   431190.68   \n",
       "\n",
       "   NumOfProducts Q4  HasCrCard Q4  ActiveMember Q4  Unpaid Tagging  \\\n",
       "0                 1             1                1               1   \n",
       "1                 2             1                0               0   \n",
       "2                 2             1                1               0   \n",
       "3                 2             1                0               0   \n",
       "4                 2             1                1               0   \n",
       "\n",
       "   Mean Balance  Delta Balance  \n",
       "0     593518.09     1187036.18  \n",
       "1          0.00           0.00  \n",
       "2     675910.12     1351820.24  \n",
       "3          0.00           0.00  \n",
       "4     555048.18      431190.68  "
      ]
     },
     "execution_count": 22,
     "metadata": {},
     "output_type": "execute_result"
    }
   ],
   "source": [
    "df2.head()"
   ]
  },
  {
   "cell_type": "markdown",
   "metadata": {
    "id": "oueFfZsFb5LR"
   },
   "source": [
    "**Status Keaktifan**\n",
    "\n",
    "Melihat periode nasabah aktif dalam scope observasi\n",
    "1. Experiment 1 --> Keaktifan nasabah (dalam bulan) di 1 tahun terakhir\n",
    "2. Experiment 2 --> Keaktifan nasabah (dalam bulan) di 6 bulan terakhir"
   ]
  },
  {
   "cell_type": "markdown",
   "metadata": {
    "id": "0UCwJAW5b5LR"
   },
   "source": [
    "Eksperimen 1"
   ]
  },
  {
   "cell_type": "code",
   "execution_count": 23,
   "metadata": {
    "id": "jwopLQp_b5LS"
   },
   "outputs": [],
   "source": [
    "df1['Active Months'] = (df1['ActiveMember Q1']+df1['ActiveMember Q2']+df1['ActiveMember Q3']+df1['ActiveMember Q4'])*3"
   ]
  },
  {
   "cell_type": "code",
   "execution_count": 24,
   "metadata": {
    "colab": {
     "base_uri": "https://localhost:8080/",
     "height": 243
    },
    "id": "VUWCBWOvwn-m",
    "outputId": "ca0f82f2-41d1-4368-bf27-8a8b11279d07"
   },
   "outputs": [
    {
     "data": {
      "text/html": [
       "<div>\n",
       "<style scoped>\n",
       "    .dataframe tbody tr th:only-of-type {\n",
       "        vertical-align: middle;\n",
       "    }\n",
       "\n",
       "    .dataframe tbody tr th {\n",
       "        vertical-align: top;\n",
       "    }\n",
       "\n",
       "    .dataframe thead th {\n",
       "        text-align: right;\n",
       "    }\n",
       "</style>\n",
       "<table border=\"1\" class=\"dataframe\">\n",
       "  <thead>\n",
       "    <tr style=\"text-align: right;\">\n",
       "      <th></th>\n",
       "      <th>Customer ID</th>\n",
       "      <th>Branch Code</th>\n",
       "      <th>City</th>\n",
       "      <th>Age</th>\n",
       "      <th>Avg. Annual Income/Month</th>\n",
       "      <th>Balance Q1</th>\n",
       "      <th>NumOfProducts Q1</th>\n",
       "      <th>HasCrCard Q1</th>\n",
       "      <th>ActiveMember Q1</th>\n",
       "      <th>Balance Q2</th>\n",
       "      <th>NumOfProducts Q2</th>\n",
       "      <th>HasCrCard Q2</th>\n",
       "      <th>ActiveMember Q2</th>\n",
       "      <th>Balance Q3</th>\n",
       "      <th>NumOfProducts Q3</th>\n",
       "      <th>HasCrCard Q3</th>\n",
       "      <th>ActiveMember Q3</th>\n",
       "      <th>Balance Q4</th>\n",
       "      <th>NumOfProducts Q4</th>\n",
       "      <th>HasCrCard Q4</th>\n",
       "      <th>ActiveMember Q4</th>\n",
       "      <th>Unpaid Tagging</th>\n",
       "      <th>Mean Balance</th>\n",
       "      <th>Delta Balance</th>\n",
       "      <th>Active Months</th>\n",
       "    </tr>\n",
       "  </thead>\n",
       "  <tbody>\n",
       "    <tr>\n",
       "      <th>0</th>\n",
       "      <td>15565701</td>\n",
       "      <td>1001</td>\n",
       "      <td>Jakarta</td>\n",
       "      <td>29</td>\n",
       "      <td>33000000</td>\n",
       "      <td>0.0</td>\n",
       "      <td>1</td>\n",
       "      <td>1</td>\n",
       "      <td>1</td>\n",
       "      <td>0.0</td>\n",
       "      <td>1</td>\n",
       "      <td>1</td>\n",
       "      <td>0</td>\n",
       "      <td>0.00</td>\n",
       "      <td>1</td>\n",
       "      <td>1</td>\n",
       "      <td>0</td>\n",
       "      <td>1187036.18</td>\n",
       "      <td>1</td>\n",
       "      <td>1</td>\n",
       "      <td>1</td>\n",
       "      <td>1</td>\n",
       "      <td>296759.045</td>\n",
       "      <td>1187036.18</td>\n",
       "      <td>6</td>\n",
       "    </tr>\n",
       "    <tr>\n",
       "      <th>1</th>\n",
       "      <td>15565878</td>\n",
       "      <td>1005</td>\n",
       "      <td>Jakarta</td>\n",
       "      <td>68</td>\n",
       "      <td>17000000</td>\n",
       "      <td>0.0</td>\n",
       "      <td>2</td>\n",
       "      <td>1</td>\n",
       "      <td>1</td>\n",
       "      <td>0.0</td>\n",
       "      <td>2</td>\n",
       "      <td>1</td>\n",
       "      <td>0</td>\n",
       "      <td>0.00</td>\n",
       "      <td>2</td>\n",
       "      <td>1</td>\n",
       "      <td>0</td>\n",
       "      <td>0.00</td>\n",
       "      <td>2</td>\n",
       "      <td>1</td>\n",
       "      <td>0</td>\n",
       "      <td>0</td>\n",
       "      <td>0.000</td>\n",
       "      <td>0.00</td>\n",
       "      <td>3</td>\n",
       "    </tr>\n",
       "    <tr>\n",
       "      <th>2</th>\n",
       "      <td>15566091</td>\n",
       "      <td>1009</td>\n",
       "      <td>Jakarta</td>\n",
       "      <td>25</td>\n",
       "      <td>12000000</td>\n",
       "      <td>0.0</td>\n",
       "      <td>2</td>\n",
       "      <td>1</td>\n",
       "      <td>0</td>\n",
       "      <td>0.0</td>\n",
       "      <td>2</td>\n",
       "      <td>1</td>\n",
       "      <td>0</td>\n",
       "      <td>0.00</td>\n",
       "      <td>2</td>\n",
       "      <td>1</td>\n",
       "      <td>0</td>\n",
       "      <td>1351820.24</td>\n",
       "      <td>2</td>\n",
       "      <td>1</td>\n",
       "      <td>1</td>\n",
       "      <td>0</td>\n",
       "      <td>337955.060</td>\n",
       "      <td>1351820.24</td>\n",
       "      <td>3</td>\n",
       "    </tr>\n",
       "    <tr>\n",
       "      <th>3</th>\n",
       "      <td>15566292</td>\n",
       "      <td>1008</td>\n",
       "      <td>Jakarta</td>\n",
       "      <td>42</td>\n",
       "      <td>19000000</td>\n",
       "      <td>0.0</td>\n",
       "      <td>2</td>\n",
       "      <td>1</td>\n",
       "      <td>1</td>\n",
       "      <td>0.0</td>\n",
       "      <td>2</td>\n",
       "      <td>1</td>\n",
       "      <td>0</td>\n",
       "      <td>0.00</td>\n",
       "      <td>2</td>\n",
       "      <td>1</td>\n",
       "      <td>0</td>\n",
       "      <td>0.00</td>\n",
       "      <td>2</td>\n",
       "      <td>1</td>\n",
       "      <td>0</td>\n",
       "      <td>0</td>\n",
       "      <td>0.000</td>\n",
       "      <td>0.00</td>\n",
       "      <td>3</td>\n",
       "    </tr>\n",
       "    <tr>\n",
       "      <th>4</th>\n",
       "      <td>15566312</td>\n",
       "      <td>1009</td>\n",
       "      <td>Jakarta</td>\n",
       "      <td>43</td>\n",
       "      <td>29000000</td>\n",
       "      <td>0.0</td>\n",
       "      <td>2</td>\n",
       "      <td>1</td>\n",
       "      <td>0</td>\n",
       "      <td>0.0</td>\n",
       "      <td>2</td>\n",
       "      <td>1</td>\n",
       "      <td>0</td>\n",
       "      <td>678905.68</td>\n",
       "      <td>2</td>\n",
       "      <td>1</td>\n",
       "      <td>1</td>\n",
       "      <td>431190.68</td>\n",
       "      <td>2</td>\n",
       "      <td>1</td>\n",
       "      <td>1</td>\n",
       "      <td>0</td>\n",
       "      <td>277524.090</td>\n",
       "      <td>431190.68</td>\n",
       "      <td>6</td>\n",
       "    </tr>\n",
       "  </tbody>\n",
       "</table>\n",
       "</div>"
      ],
      "text/plain": [
       "   Customer ID  Branch Code     City  Age  Avg. Annual Income/Month  \\\n",
       "0     15565701         1001  Jakarta   29                  33000000   \n",
       "1     15565878         1005  Jakarta   68                  17000000   \n",
       "2     15566091         1009  Jakarta   25                  12000000   \n",
       "3     15566292         1008  Jakarta   42                  19000000   \n",
       "4     15566312         1009  Jakarta   43                  29000000   \n",
       "\n",
       "   Balance Q1  NumOfProducts Q1  HasCrCard Q1  ActiveMember Q1  Balance Q2  \\\n",
       "0         0.0                 1             1                1         0.0   \n",
       "1         0.0                 2             1                1         0.0   \n",
       "2         0.0                 2             1                0         0.0   \n",
       "3         0.0                 2             1                1         0.0   \n",
       "4         0.0                 2             1                0         0.0   \n",
       "\n",
       "   NumOfProducts Q2  HasCrCard Q2  ActiveMember Q2  Balance Q3  \\\n",
       "0                 1             1                0        0.00   \n",
       "1                 2             1                0        0.00   \n",
       "2                 2             1                0        0.00   \n",
       "3                 2             1                0        0.00   \n",
       "4                 2             1                0   678905.68   \n",
       "\n",
       "   NumOfProducts Q3  HasCrCard Q3  ActiveMember Q3  Balance Q4  \\\n",
       "0                 1             1                0  1187036.18   \n",
       "1                 2             1                0        0.00   \n",
       "2                 2             1                0  1351820.24   \n",
       "3                 2             1                0        0.00   \n",
       "4                 2             1                1   431190.68   \n",
       "\n",
       "   NumOfProducts Q4  HasCrCard Q4  ActiveMember Q4  Unpaid Tagging  \\\n",
       "0                 1             1                1               1   \n",
       "1                 2             1                0               0   \n",
       "2                 2             1                1               0   \n",
       "3                 2             1                0               0   \n",
       "4                 2             1                1               0   \n",
       "\n",
       "   Mean Balance  Delta Balance  Active Months  \n",
       "0    296759.045     1187036.18              6  \n",
       "1         0.000           0.00              3  \n",
       "2    337955.060     1351820.24              3  \n",
       "3         0.000           0.00              3  \n",
       "4    277524.090      431190.68              6  "
      ]
     },
     "execution_count": 24,
     "metadata": {},
     "output_type": "execute_result"
    }
   ],
   "source": [
    "df1.head()"
   ]
  },
  {
   "cell_type": "markdown",
   "metadata": {
    "id": "eg0rsYN5b5LS"
   },
   "source": [
    "Eksperimen 2"
   ]
  },
  {
   "cell_type": "code",
   "execution_count": 25,
   "metadata": {
    "id": "eaVdfeGVb5LS"
   },
   "outputs": [],
   "source": [
    "df2['Active Months'] = (df2['ActiveMember Q3']+df2['ActiveMember Q4'])*3"
   ]
  },
  {
   "cell_type": "code",
   "execution_count": 26,
   "metadata": {
    "colab": {
     "base_uri": "https://localhost:8080/",
     "height": 243
    },
    "id": "MqGh_5zkw4o8",
    "outputId": "c261eb10-cb3f-447b-a83a-588d8b2aa874"
   },
   "outputs": [
    {
     "data": {
      "text/html": [
       "<div>\n",
       "<style scoped>\n",
       "    .dataframe tbody tr th:only-of-type {\n",
       "        vertical-align: middle;\n",
       "    }\n",
       "\n",
       "    .dataframe tbody tr th {\n",
       "        vertical-align: top;\n",
       "    }\n",
       "\n",
       "    .dataframe thead th {\n",
       "        text-align: right;\n",
       "    }\n",
       "</style>\n",
       "<table border=\"1\" class=\"dataframe\">\n",
       "  <thead>\n",
       "    <tr style=\"text-align: right;\">\n",
       "      <th></th>\n",
       "      <th>Customer ID</th>\n",
       "      <th>Branch Code</th>\n",
       "      <th>City</th>\n",
       "      <th>Age</th>\n",
       "      <th>Avg. Annual Income/Month</th>\n",
       "      <th>Balance Q1</th>\n",
       "      <th>NumOfProducts Q1</th>\n",
       "      <th>HasCrCard Q1</th>\n",
       "      <th>ActiveMember Q1</th>\n",
       "      <th>Balance Q2</th>\n",
       "      <th>NumOfProducts Q2</th>\n",
       "      <th>HasCrCard Q2</th>\n",
       "      <th>ActiveMember Q2</th>\n",
       "      <th>Balance Q3</th>\n",
       "      <th>NumOfProducts Q3</th>\n",
       "      <th>HasCrCard Q3</th>\n",
       "      <th>ActiveMember Q3</th>\n",
       "      <th>Balance Q4</th>\n",
       "      <th>NumOfProducts Q4</th>\n",
       "      <th>HasCrCard Q4</th>\n",
       "      <th>ActiveMember Q4</th>\n",
       "      <th>Unpaid Tagging</th>\n",
       "      <th>Mean Balance</th>\n",
       "      <th>Delta Balance</th>\n",
       "      <th>Active Months</th>\n",
       "    </tr>\n",
       "  </thead>\n",
       "  <tbody>\n",
       "    <tr>\n",
       "      <th>0</th>\n",
       "      <td>15565701</td>\n",
       "      <td>1001</td>\n",
       "      <td>Jakarta</td>\n",
       "      <td>29</td>\n",
       "      <td>33000000</td>\n",
       "      <td>0.0</td>\n",
       "      <td>1</td>\n",
       "      <td>1</td>\n",
       "      <td>1</td>\n",
       "      <td>0.0</td>\n",
       "      <td>1</td>\n",
       "      <td>1</td>\n",
       "      <td>0</td>\n",
       "      <td>0.00</td>\n",
       "      <td>1</td>\n",
       "      <td>1</td>\n",
       "      <td>0</td>\n",
       "      <td>1187036.18</td>\n",
       "      <td>1</td>\n",
       "      <td>1</td>\n",
       "      <td>1</td>\n",
       "      <td>1</td>\n",
       "      <td>593518.09</td>\n",
       "      <td>1187036.18</td>\n",
       "      <td>3</td>\n",
       "    </tr>\n",
       "    <tr>\n",
       "      <th>1</th>\n",
       "      <td>15565878</td>\n",
       "      <td>1005</td>\n",
       "      <td>Jakarta</td>\n",
       "      <td>68</td>\n",
       "      <td>17000000</td>\n",
       "      <td>0.0</td>\n",
       "      <td>2</td>\n",
       "      <td>1</td>\n",
       "      <td>1</td>\n",
       "      <td>0.0</td>\n",
       "      <td>2</td>\n",
       "      <td>1</td>\n",
       "      <td>0</td>\n",
       "      <td>0.00</td>\n",
       "      <td>2</td>\n",
       "      <td>1</td>\n",
       "      <td>0</td>\n",
       "      <td>0.00</td>\n",
       "      <td>2</td>\n",
       "      <td>1</td>\n",
       "      <td>0</td>\n",
       "      <td>0</td>\n",
       "      <td>0.00</td>\n",
       "      <td>0.00</td>\n",
       "      <td>0</td>\n",
       "    </tr>\n",
       "    <tr>\n",
       "      <th>2</th>\n",
       "      <td>15566091</td>\n",
       "      <td>1009</td>\n",
       "      <td>Jakarta</td>\n",
       "      <td>25</td>\n",
       "      <td>12000000</td>\n",
       "      <td>0.0</td>\n",
       "      <td>2</td>\n",
       "      <td>1</td>\n",
       "      <td>0</td>\n",
       "      <td>0.0</td>\n",
       "      <td>2</td>\n",
       "      <td>1</td>\n",
       "      <td>0</td>\n",
       "      <td>0.00</td>\n",
       "      <td>2</td>\n",
       "      <td>1</td>\n",
       "      <td>0</td>\n",
       "      <td>1351820.24</td>\n",
       "      <td>2</td>\n",
       "      <td>1</td>\n",
       "      <td>1</td>\n",
       "      <td>0</td>\n",
       "      <td>675910.12</td>\n",
       "      <td>1351820.24</td>\n",
       "      <td>3</td>\n",
       "    </tr>\n",
       "    <tr>\n",
       "      <th>3</th>\n",
       "      <td>15566292</td>\n",
       "      <td>1008</td>\n",
       "      <td>Jakarta</td>\n",
       "      <td>42</td>\n",
       "      <td>19000000</td>\n",
       "      <td>0.0</td>\n",
       "      <td>2</td>\n",
       "      <td>1</td>\n",
       "      <td>1</td>\n",
       "      <td>0.0</td>\n",
       "      <td>2</td>\n",
       "      <td>1</td>\n",
       "      <td>0</td>\n",
       "      <td>0.00</td>\n",
       "      <td>2</td>\n",
       "      <td>1</td>\n",
       "      <td>0</td>\n",
       "      <td>0.00</td>\n",
       "      <td>2</td>\n",
       "      <td>1</td>\n",
       "      <td>0</td>\n",
       "      <td>0</td>\n",
       "      <td>0.00</td>\n",
       "      <td>0.00</td>\n",
       "      <td>0</td>\n",
       "    </tr>\n",
       "    <tr>\n",
       "      <th>4</th>\n",
       "      <td>15566312</td>\n",
       "      <td>1009</td>\n",
       "      <td>Jakarta</td>\n",
       "      <td>43</td>\n",
       "      <td>29000000</td>\n",
       "      <td>0.0</td>\n",
       "      <td>2</td>\n",
       "      <td>1</td>\n",
       "      <td>0</td>\n",
       "      <td>0.0</td>\n",
       "      <td>2</td>\n",
       "      <td>1</td>\n",
       "      <td>0</td>\n",
       "      <td>678905.68</td>\n",
       "      <td>2</td>\n",
       "      <td>1</td>\n",
       "      <td>1</td>\n",
       "      <td>431190.68</td>\n",
       "      <td>2</td>\n",
       "      <td>1</td>\n",
       "      <td>1</td>\n",
       "      <td>0</td>\n",
       "      <td>555048.18</td>\n",
       "      <td>431190.68</td>\n",
       "      <td>6</td>\n",
       "    </tr>\n",
       "  </tbody>\n",
       "</table>\n",
       "</div>"
      ],
      "text/plain": [
       "   Customer ID  Branch Code     City  Age  Avg. Annual Income/Month  \\\n",
       "0     15565701         1001  Jakarta   29                  33000000   \n",
       "1     15565878         1005  Jakarta   68                  17000000   \n",
       "2     15566091         1009  Jakarta   25                  12000000   \n",
       "3     15566292         1008  Jakarta   42                  19000000   \n",
       "4     15566312         1009  Jakarta   43                  29000000   \n",
       "\n",
       "   Balance Q1  NumOfProducts Q1  HasCrCard Q1  ActiveMember Q1  Balance Q2  \\\n",
       "0         0.0                 1             1                1         0.0   \n",
       "1         0.0                 2             1                1         0.0   \n",
       "2         0.0                 2             1                0         0.0   \n",
       "3         0.0                 2             1                1         0.0   \n",
       "4         0.0                 2             1                0         0.0   \n",
       "\n",
       "   NumOfProducts Q2  HasCrCard Q2  ActiveMember Q2  Balance Q3  \\\n",
       "0                 1             1                0        0.00   \n",
       "1                 2             1                0        0.00   \n",
       "2                 2             1                0        0.00   \n",
       "3                 2             1                0        0.00   \n",
       "4                 2             1                0   678905.68   \n",
       "\n",
       "   NumOfProducts Q3  HasCrCard Q3  ActiveMember Q3  Balance Q4  \\\n",
       "0                 1             1                0  1187036.18   \n",
       "1                 2             1                0        0.00   \n",
       "2                 2             1                0  1351820.24   \n",
       "3                 2             1                0        0.00   \n",
       "4                 2             1                1   431190.68   \n",
       "\n",
       "   NumOfProducts Q4  HasCrCard Q4  ActiveMember Q4  Unpaid Tagging  \\\n",
       "0                 1             1                1               1   \n",
       "1                 2             1                0               0   \n",
       "2                 2             1                1               0   \n",
       "3                 2             1                0               0   \n",
       "4                 2             1                1               0   \n",
       "\n",
       "   Mean Balance  Delta Balance  Active Months  \n",
       "0     593518.09     1187036.18              3  \n",
       "1          0.00           0.00              0  \n",
       "2     675910.12     1351820.24              3  \n",
       "3          0.00           0.00              0  \n",
       "4     555048.18      431190.68              6  "
      ]
     },
     "execution_count": 26,
     "metadata": {},
     "output_type": "execute_result"
    }
   ],
   "source": [
    "df2.head()"
   ]
  },
  {
   "cell_type": "markdown",
   "metadata": {
    "id": "0o6L2aoAb5LT"
   },
   "source": [
    "**Penambahan/Pengurangan Product Holding**\n",
    "\n",
    "Melihat fluktuasi kepemilikan produk nasabah dalam periode observasi"
   ]
  },
  {
   "cell_type": "markdown",
   "metadata": {
    "id": "XeWN-Bexb5LT"
   },
   "source": [
    "Eksperimen 1"
   ]
  },
  {
   "cell_type": "code",
   "execution_count": 27,
   "metadata": {
    "id": "h9Ei4hkEb5LT"
   },
   "outputs": [],
   "source": [
    "df1['Diff PH'] = df1['NumOfProducts Q4']-df1['NumOfProducts Q1']"
   ]
  },
  {
   "cell_type": "code",
   "execution_count": 28,
   "metadata": {
    "colab": {
     "base_uri": "https://localhost:8080/",
     "height": 243
    },
    "id": "bY8hqupXw9Np",
    "outputId": "573fe46a-4602-4c75-e1fa-0011e9871a5b"
   },
   "outputs": [
    {
     "data": {
      "text/html": [
       "<div>\n",
       "<style scoped>\n",
       "    .dataframe tbody tr th:only-of-type {\n",
       "        vertical-align: middle;\n",
       "    }\n",
       "\n",
       "    .dataframe tbody tr th {\n",
       "        vertical-align: top;\n",
       "    }\n",
       "\n",
       "    .dataframe thead th {\n",
       "        text-align: right;\n",
       "    }\n",
       "</style>\n",
       "<table border=\"1\" class=\"dataframe\">\n",
       "  <thead>\n",
       "    <tr style=\"text-align: right;\">\n",
       "      <th></th>\n",
       "      <th>Customer ID</th>\n",
       "      <th>Branch Code</th>\n",
       "      <th>City</th>\n",
       "      <th>Age</th>\n",
       "      <th>Avg. Annual Income/Month</th>\n",
       "      <th>Balance Q1</th>\n",
       "      <th>NumOfProducts Q1</th>\n",
       "      <th>HasCrCard Q1</th>\n",
       "      <th>ActiveMember Q1</th>\n",
       "      <th>Balance Q2</th>\n",
       "      <th>NumOfProducts Q2</th>\n",
       "      <th>HasCrCard Q2</th>\n",
       "      <th>ActiveMember Q2</th>\n",
       "      <th>Balance Q3</th>\n",
       "      <th>NumOfProducts Q3</th>\n",
       "      <th>HasCrCard Q3</th>\n",
       "      <th>ActiveMember Q3</th>\n",
       "      <th>Balance Q4</th>\n",
       "      <th>NumOfProducts Q4</th>\n",
       "      <th>HasCrCard Q4</th>\n",
       "      <th>ActiveMember Q4</th>\n",
       "      <th>Unpaid Tagging</th>\n",
       "      <th>Mean Balance</th>\n",
       "      <th>Delta Balance</th>\n",
       "      <th>Active Months</th>\n",
       "      <th>Diff PH</th>\n",
       "    </tr>\n",
       "  </thead>\n",
       "  <tbody>\n",
       "    <tr>\n",
       "      <th>0</th>\n",
       "      <td>15565701</td>\n",
       "      <td>1001</td>\n",
       "      <td>Jakarta</td>\n",
       "      <td>29</td>\n",
       "      <td>33000000</td>\n",
       "      <td>0.0</td>\n",
       "      <td>1</td>\n",
       "      <td>1</td>\n",
       "      <td>1</td>\n",
       "      <td>0.0</td>\n",
       "      <td>1</td>\n",
       "      <td>1</td>\n",
       "      <td>0</td>\n",
       "      <td>0.00</td>\n",
       "      <td>1</td>\n",
       "      <td>1</td>\n",
       "      <td>0</td>\n",
       "      <td>1187036.18</td>\n",
       "      <td>1</td>\n",
       "      <td>1</td>\n",
       "      <td>1</td>\n",
       "      <td>1</td>\n",
       "      <td>296759.045</td>\n",
       "      <td>1187036.18</td>\n",
       "      <td>6</td>\n",
       "      <td>0</td>\n",
       "    </tr>\n",
       "    <tr>\n",
       "      <th>1</th>\n",
       "      <td>15565878</td>\n",
       "      <td>1005</td>\n",
       "      <td>Jakarta</td>\n",
       "      <td>68</td>\n",
       "      <td>17000000</td>\n",
       "      <td>0.0</td>\n",
       "      <td>2</td>\n",
       "      <td>1</td>\n",
       "      <td>1</td>\n",
       "      <td>0.0</td>\n",
       "      <td>2</td>\n",
       "      <td>1</td>\n",
       "      <td>0</td>\n",
       "      <td>0.00</td>\n",
       "      <td>2</td>\n",
       "      <td>1</td>\n",
       "      <td>0</td>\n",
       "      <td>0.00</td>\n",
       "      <td>2</td>\n",
       "      <td>1</td>\n",
       "      <td>0</td>\n",
       "      <td>0</td>\n",
       "      <td>0.000</td>\n",
       "      <td>0.00</td>\n",
       "      <td>3</td>\n",
       "      <td>0</td>\n",
       "    </tr>\n",
       "    <tr>\n",
       "      <th>2</th>\n",
       "      <td>15566091</td>\n",
       "      <td>1009</td>\n",
       "      <td>Jakarta</td>\n",
       "      <td>25</td>\n",
       "      <td>12000000</td>\n",
       "      <td>0.0</td>\n",
       "      <td>2</td>\n",
       "      <td>1</td>\n",
       "      <td>0</td>\n",
       "      <td>0.0</td>\n",
       "      <td>2</td>\n",
       "      <td>1</td>\n",
       "      <td>0</td>\n",
       "      <td>0.00</td>\n",
       "      <td>2</td>\n",
       "      <td>1</td>\n",
       "      <td>0</td>\n",
       "      <td>1351820.24</td>\n",
       "      <td>2</td>\n",
       "      <td>1</td>\n",
       "      <td>1</td>\n",
       "      <td>0</td>\n",
       "      <td>337955.060</td>\n",
       "      <td>1351820.24</td>\n",
       "      <td>3</td>\n",
       "      <td>0</td>\n",
       "    </tr>\n",
       "    <tr>\n",
       "      <th>3</th>\n",
       "      <td>15566292</td>\n",
       "      <td>1008</td>\n",
       "      <td>Jakarta</td>\n",
       "      <td>42</td>\n",
       "      <td>19000000</td>\n",
       "      <td>0.0</td>\n",
       "      <td>2</td>\n",
       "      <td>1</td>\n",
       "      <td>1</td>\n",
       "      <td>0.0</td>\n",
       "      <td>2</td>\n",
       "      <td>1</td>\n",
       "      <td>0</td>\n",
       "      <td>0.00</td>\n",
       "      <td>2</td>\n",
       "      <td>1</td>\n",
       "      <td>0</td>\n",
       "      <td>0.00</td>\n",
       "      <td>2</td>\n",
       "      <td>1</td>\n",
       "      <td>0</td>\n",
       "      <td>0</td>\n",
       "      <td>0.000</td>\n",
       "      <td>0.00</td>\n",
       "      <td>3</td>\n",
       "      <td>0</td>\n",
       "    </tr>\n",
       "    <tr>\n",
       "      <th>4</th>\n",
       "      <td>15566312</td>\n",
       "      <td>1009</td>\n",
       "      <td>Jakarta</td>\n",
       "      <td>43</td>\n",
       "      <td>29000000</td>\n",
       "      <td>0.0</td>\n",
       "      <td>2</td>\n",
       "      <td>1</td>\n",
       "      <td>0</td>\n",
       "      <td>0.0</td>\n",
       "      <td>2</td>\n",
       "      <td>1</td>\n",
       "      <td>0</td>\n",
       "      <td>678905.68</td>\n",
       "      <td>2</td>\n",
       "      <td>1</td>\n",
       "      <td>1</td>\n",
       "      <td>431190.68</td>\n",
       "      <td>2</td>\n",
       "      <td>1</td>\n",
       "      <td>1</td>\n",
       "      <td>0</td>\n",
       "      <td>277524.090</td>\n",
       "      <td>431190.68</td>\n",
       "      <td>6</td>\n",
       "      <td>0</td>\n",
       "    </tr>\n",
       "  </tbody>\n",
       "</table>\n",
       "</div>"
      ],
      "text/plain": [
       "   Customer ID  Branch Code     City  Age  Avg. Annual Income/Month  \\\n",
       "0     15565701         1001  Jakarta   29                  33000000   \n",
       "1     15565878         1005  Jakarta   68                  17000000   \n",
       "2     15566091         1009  Jakarta   25                  12000000   \n",
       "3     15566292         1008  Jakarta   42                  19000000   \n",
       "4     15566312         1009  Jakarta   43                  29000000   \n",
       "\n",
       "   Balance Q1  NumOfProducts Q1  HasCrCard Q1  ActiveMember Q1  Balance Q2  \\\n",
       "0         0.0                 1             1                1         0.0   \n",
       "1         0.0                 2             1                1         0.0   \n",
       "2         0.0                 2             1                0         0.0   \n",
       "3         0.0                 2             1                1         0.0   \n",
       "4         0.0                 2             1                0         0.0   \n",
       "\n",
       "   NumOfProducts Q2  HasCrCard Q2  ActiveMember Q2  Balance Q3  \\\n",
       "0                 1             1                0        0.00   \n",
       "1                 2             1                0        0.00   \n",
       "2                 2             1                0        0.00   \n",
       "3                 2             1                0        0.00   \n",
       "4                 2             1                0   678905.68   \n",
       "\n",
       "   NumOfProducts Q3  HasCrCard Q3  ActiveMember Q3  Balance Q4  \\\n",
       "0                 1             1                0  1187036.18   \n",
       "1                 2             1                0        0.00   \n",
       "2                 2             1                0  1351820.24   \n",
       "3                 2             1                0        0.00   \n",
       "4                 2             1                1   431190.68   \n",
       "\n",
       "   NumOfProducts Q4  HasCrCard Q4  ActiveMember Q4  Unpaid Tagging  \\\n",
       "0                 1             1                1               1   \n",
       "1                 2             1                0               0   \n",
       "2                 2             1                1               0   \n",
       "3                 2             1                0               0   \n",
       "4                 2             1                1               0   \n",
       "\n",
       "   Mean Balance  Delta Balance  Active Months  Diff PH  \n",
       "0    296759.045     1187036.18              6        0  \n",
       "1         0.000           0.00              3        0  \n",
       "2    337955.060     1351820.24              3        0  \n",
       "3         0.000           0.00              3        0  \n",
       "4    277524.090      431190.68              6        0  "
      ]
     },
     "execution_count": 28,
     "metadata": {},
     "output_type": "execute_result"
    }
   ],
   "source": [
    "df1.head()"
   ]
  },
  {
   "cell_type": "markdown",
   "metadata": {
    "id": "xwEltXedb5LU"
   },
   "source": [
    "Eksperimen 2"
   ]
  },
  {
   "cell_type": "code",
   "execution_count": 29,
   "metadata": {
    "id": "HBwo2WBrb5LV"
   },
   "outputs": [],
   "source": [
    "df2['Diff PH'] = df2['NumOfProducts Q4']-df1['NumOfProducts Q2']"
   ]
  },
  {
   "cell_type": "code",
   "execution_count": 30,
   "metadata": {
    "colab": {
     "base_uri": "https://localhost:8080/",
     "height": 243
    },
    "id": "khLsJG8VvvB4",
    "outputId": "bef0ea2a-cdf2-497f-901d-e3deca3e6bed"
   },
   "outputs": [
    {
     "data": {
      "text/html": [
       "<div>\n",
       "<style scoped>\n",
       "    .dataframe tbody tr th:only-of-type {\n",
       "        vertical-align: middle;\n",
       "    }\n",
       "\n",
       "    .dataframe tbody tr th {\n",
       "        vertical-align: top;\n",
       "    }\n",
       "\n",
       "    .dataframe thead th {\n",
       "        text-align: right;\n",
       "    }\n",
       "</style>\n",
       "<table border=\"1\" class=\"dataframe\">\n",
       "  <thead>\n",
       "    <tr style=\"text-align: right;\">\n",
       "      <th></th>\n",
       "      <th>Customer ID</th>\n",
       "      <th>Branch Code</th>\n",
       "      <th>City</th>\n",
       "      <th>Age</th>\n",
       "      <th>Avg. Annual Income/Month</th>\n",
       "      <th>Balance Q1</th>\n",
       "      <th>NumOfProducts Q1</th>\n",
       "      <th>HasCrCard Q1</th>\n",
       "      <th>ActiveMember Q1</th>\n",
       "      <th>Balance Q2</th>\n",
       "      <th>NumOfProducts Q2</th>\n",
       "      <th>HasCrCard Q2</th>\n",
       "      <th>ActiveMember Q2</th>\n",
       "      <th>Balance Q3</th>\n",
       "      <th>NumOfProducts Q3</th>\n",
       "      <th>HasCrCard Q3</th>\n",
       "      <th>ActiveMember Q3</th>\n",
       "      <th>Balance Q4</th>\n",
       "      <th>NumOfProducts Q4</th>\n",
       "      <th>HasCrCard Q4</th>\n",
       "      <th>ActiveMember Q4</th>\n",
       "      <th>Unpaid Tagging</th>\n",
       "      <th>Mean Balance</th>\n",
       "      <th>Delta Balance</th>\n",
       "      <th>Active Months</th>\n",
       "      <th>Diff PH</th>\n",
       "    </tr>\n",
       "  </thead>\n",
       "  <tbody>\n",
       "    <tr>\n",
       "      <th>0</th>\n",
       "      <td>15565701</td>\n",
       "      <td>1001</td>\n",
       "      <td>Jakarta</td>\n",
       "      <td>29</td>\n",
       "      <td>33000000</td>\n",
       "      <td>0.0</td>\n",
       "      <td>1</td>\n",
       "      <td>1</td>\n",
       "      <td>1</td>\n",
       "      <td>0.0</td>\n",
       "      <td>1</td>\n",
       "      <td>1</td>\n",
       "      <td>0</td>\n",
       "      <td>0.00</td>\n",
       "      <td>1</td>\n",
       "      <td>1</td>\n",
       "      <td>0</td>\n",
       "      <td>1187036.18</td>\n",
       "      <td>1</td>\n",
       "      <td>1</td>\n",
       "      <td>1</td>\n",
       "      <td>1</td>\n",
       "      <td>593518.09</td>\n",
       "      <td>1187036.18</td>\n",
       "      <td>3</td>\n",
       "      <td>0</td>\n",
       "    </tr>\n",
       "    <tr>\n",
       "      <th>1</th>\n",
       "      <td>15565878</td>\n",
       "      <td>1005</td>\n",
       "      <td>Jakarta</td>\n",
       "      <td>68</td>\n",
       "      <td>17000000</td>\n",
       "      <td>0.0</td>\n",
       "      <td>2</td>\n",
       "      <td>1</td>\n",
       "      <td>1</td>\n",
       "      <td>0.0</td>\n",
       "      <td>2</td>\n",
       "      <td>1</td>\n",
       "      <td>0</td>\n",
       "      <td>0.00</td>\n",
       "      <td>2</td>\n",
       "      <td>1</td>\n",
       "      <td>0</td>\n",
       "      <td>0.00</td>\n",
       "      <td>2</td>\n",
       "      <td>1</td>\n",
       "      <td>0</td>\n",
       "      <td>0</td>\n",
       "      <td>0.00</td>\n",
       "      <td>0.00</td>\n",
       "      <td>0</td>\n",
       "      <td>0</td>\n",
       "    </tr>\n",
       "    <tr>\n",
       "      <th>2</th>\n",
       "      <td>15566091</td>\n",
       "      <td>1009</td>\n",
       "      <td>Jakarta</td>\n",
       "      <td>25</td>\n",
       "      <td>12000000</td>\n",
       "      <td>0.0</td>\n",
       "      <td>2</td>\n",
       "      <td>1</td>\n",
       "      <td>0</td>\n",
       "      <td>0.0</td>\n",
       "      <td>2</td>\n",
       "      <td>1</td>\n",
       "      <td>0</td>\n",
       "      <td>0.00</td>\n",
       "      <td>2</td>\n",
       "      <td>1</td>\n",
       "      <td>0</td>\n",
       "      <td>1351820.24</td>\n",
       "      <td>2</td>\n",
       "      <td>1</td>\n",
       "      <td>1</td>\n",
       "      <td>0</td>\n",
       "      <td>675910.12</td>\n",
       "      <td>1351820.24</td>\n",
       "      <td>3</td>\n",
       "      <td>0</td>\n",
       "    </tr>\n",
       "    <tr>\n",
       "      <th>3</th>\n",
       "      <td>15566292</td>\n",
       "      <td>1008</td>\n",
       "      <td>Jakarta</td>\n",
       "      <td>42</td>\n",
       "      <td>19000000</td>\n",
       "      <td>0.0</td>\n",
       "      <td>2</td>\n",
       "      <td>1</td>\n",
       "      <td>1</td>\n",
       "      <td>0.0</td>\n",
       "      <td>2</td>\n",
       "      <td>1</td>\n",
       "      <td>0</td>\n",
       "      <td>0.00</td>\n",
       "      <td>2</td>\n",
       "      <td>1</td>\n",
       "      <td>0</td>\n",
       "      <td>0.00</td>\n",
       "      <td>2</td>\n",
       "      <td>1</td>\n",
       "      <td>0</td>\n",
       "      <td>0</td>\n",
       "      <td>0.00</td>\n",
       "      <td>0.00</td>\n",
       "      <td>0</td>\n",
       "      <td>0</td>\n",
       "    </tr>\n",
       "    <tr>\n",
       "      <th>4</th>\n",
       "      <td>15566312</td>\n",
       "      <td>1009</td>\n",
       "      <td>Jakarta</td>\n",
       "      <td>43</td>\n",
       "      <td>29000000</td>\n",
       "      <td>0.0</td>\n",
       "      <td>2</td>\n",
       "      <td>1</td>\n",
       "      <td>0</td>\n",
       "      <td>0.0</td>\n",
       "      <td>2</td>\n",
       "      <td>1</td>\n",
       "      <td>0</td>\n",
       "      <td>678905.68</td>\n",
       "      <td>2</td>\n",
       "      <td>1</td>\n",
       "      <td>1</td>\n",
       "      <td>431190.68</td>\n",
       "      <td>2</td>\n",
       "      <td>1</td>\n",
       "      <td>1</td>\n",
       "      <td>0</td>\n",
       "      <td>555048.18</td>\n",
       "      <td>431190.68</td>\n",
       "      <td>6</td>\n",
       "      <td>0</td>\n",
       "    </tr>\n",
       "  </tbody>\n",
       "</table>\n",
       "</div>"
      ],
      "text/plain": [
       "   Customer ID  Branch Code     City  Age  Avg. Annual Income/Month  \\\n",
       "0     15565701         1001  Jakarta   29                  33000000   \n",
       "1     15565878         1005  Jakarta   68                  17000000   \n",
       "2     15566091         1009  Jakarta   25                  12000000   \n",
       "3     15566292         1008  Jakarta   42                  19000000   \n",
       "4     15566312         1009  Jakarta   43                  29000000   \n",
       "\n",
       "   Balance Q1  NumOfProducts Q1  HasCrCard Q1  ActiveMember Q1  Balance Q2  \\\n",
       "0         0.0                 1             1                1         0.0   \n",
       "1         0.0                 2             1                1         0.0   \n",
       "2         0.0                 2             1                0         0.0   \n",
       "3         0.0                 2             1                1         0.0   \n",
       "4         0.0                 2             1                0         0.0   \n",
       "\n",
       "   NumOfProducts Q2  HasCrCard Q2  ActiveMember Q2  Balance Q3  \\\n",
       "0                 1             1                0        0.00   \n",
       "1                 2             1                0        0.00   \n",
       "2                 2             1                0        0.00   \n",
       "3                 2             1                0        0.00   \n",
       "4                 2             1                0   678905.68   \n",
       "\n",
       "   NumOfProducts Q3  HasCrCard Q3  ActiveMember Q3  Balance Q4  \\\n",
       "0                 1             1                0  1187036.18   \n",
       "1                 2             1                0        0.00   \n",
       "2                 2             1                0  1351820.24   \n",
       "3                 2             1                0        0.00   \n",
       "4                 2             1                1   431190.68   \n",
       "\n",
       "   NumOfProducts Q4  HasCrCard Q4  ActiveMember Q4  Unpaid Tagging  \\\n",
       "0                 1             1                1               1   \n",
       "1                 2             1                0               0   \n",
       "2                 2             1                1               0   \n",
       "3                 2             1                0               0   \n",
       "4                 2             1                1               0   \n",
       "\n",
       "   Mean Balance  Delta Balance  Active Months  Diff PH  \n",
       "0     593518.09     1187036.18              3        0  \n",
       "1          0.00           0.00              0        0  \n",
       "2     675910.12     1351820.24              3        0  \n",
       "3          0.00           0.00              0        0  \n",
       "4     555048.18      431190.68              6        0  "
      ]
     },
     "execution_count": 30,
     "metadata": {},
     "output_type": "execute_result"
    }
   ],
   "source": [
    "df2.head()"
   ]
  },
  {
   "cell_type": "markdown",
   "metadata": {
    "id": "8YnaH98iq22g"
   },
   "source": [
    "**Lama Kepemilikan Kartu Kredit Dalam Periode Observasi**"
   ]
  },
  {
   "cell_type": "code",
   "execution_count": 31,
   "metadata": {
    "id": "6pAv_wKpq2P1"
   },
   "outputs": [],
   "source": [
    "def assign_cr1(df):\n",
    "    if df['HasCrCard Q1'] == 1:\n",
    "        return 12\n",
    "    elif df['HasCrCard Q2'] == 1:\n",
    "        return 9\n",
    "    elif df['HasCrCard Q3'] == 1:\n",
    "        return 6\n",
    "    else:\n",
    "        return 3\n",
    "    return np.nan"
   ]
  },
  {
   "cell_type": "markdown",
   "metadata": {
    "id": "7uIEO8UAuQeG"
   },
   "source": [
    "Eksperimen 1"
   ]
  },
  {
   "cell_type": "code",
   "execution_count": 32,
   "metadata": {
    "id": "5vaqgdHKsTK-"
   },
   "outputs": [],
   "source": [
    "df1['Vintage_CR'] = df1.apply(assign_cr1, axis = 1)"
   ]
  },
  {
   "cell_type": "code",
   "execution_count": 33,
   "metadata": {
    "colab": {
     "base_uri": "https://localhost:8080/",
     "height": 243
    },
    "id": "Af_B2B7_xJ1s",
    "outputId": "bc61565f-1117-480d-ea65-2e53b28410d4"
   },
   "outputs": [
    {
     "data": {
      "text/html": [
       "<div>\n",
       "<style scoped>\n",
       "    .dataframe tbody tr th:only-of-type {\n",
       "        vertical-align: middle;\n",
       "    }\n",
       "\n",
       "    .dataframe tbody tr th {\n",
       "        vertical-align: top;\n",
       "    }\n",
       "\n",
       "    .dataframe thead th {\n",
       "        text-align: right;\n",
       "    }\n",
       "</style>\n",
       "<table border=\"1\" class=\"dataframe\">\n",
       "  <thead>\n",
       "    <tr style=\"text-align: right;\">\n",
       "      <th></th>\n",
       "      <th>Customer ID</th>\n",
       "      <th>Branch Code</th>\n",
       "      <th>City</th>\n",
       "      <th>Age</th>\n",
       "      <th>Avg. Annual Income/Month</th>\n",
       "      <th>Balance Q1</th>\n",
       "      <th>NumOfProducts Q1</th>\n",
       "      <th>HasCrCard Q1</th>\n",
       "      <th>ActiveMember Q1</th>\n",
       "      <th>Balance Q2</th>\n",
       "      <th>NumOfProducts Q2</th>\n",
       "      <th>HasCrCard Q2</th>\n",
       "      <th>ActiveMember Q2</th>\n",
       "      <th>Balance Q3</th>\n",
       "      <th>NumOfProducts Q3</th>\n",
       "      <th>HasCrCard Q3</th>\n",
       "      <th>ActiveMember Q3</th>\n",
       "      <th>Balance Q4</th>\n",
       "      <th>NumOfProducts Q4</th>\n",
       "      <th>HasCrCard Q4</th>\n",
       "      <th>ActiveMember Q4</th>\n",
       "      <th>Unpaid Tagging</th>\n",
       "      <th>Mean Balance</th>\n",
       "      <th>Delta Balance</th>\n",
       "      <th>Active Months</th>\n",
       "      <th>Diff PH</th>\n",
       "      <th>Vintage_CR</th>\n",
       "    </tr>\n",
       "  </thead>\n",
       "  <tbody>\n",
       "    <tr>\n",
       "      <th>0</th>\n",
       "      <td>15565701</td>\n",
       "      <td>1001</td>\n",
       "      <td>Jakarta</td>\n",
       "      <td>29</td>\n",
       "      <td>33000000</td>\n",
       "      <td>0.0</td>\n",
       "      <td>1</td>\n",
       "      <td>1</td>\n",
       "      <td>1</td>\n",
       "      <td>0.0</td>\n",
       "      <td>1</td>\n",
       "      <td>1</td>\n",
       "      <td>0</td>\n",
       "      <td>0.00</td>\n",
       "      <td>1</td>\n",
       "      <td>1</td>\n",
       "      <td>0</td>\n",
       "      <td>1187036.18</td>\n",
       "      <td>1</td>\n",
       "      <td>1</td>\n",
       "      <td>1</td>\n",
       "      <td>1</td>\n",
       "      <td>296759.045</td>\n",
       "      <td>1187036.18</td>\n",
       "      <td>6</td>\n",
       "      <td>0</td>\n",
       "      <td>12</td>\n",
       "    </tr>\n",
       "    <tr>\n",
       "      <th>1</th>\n",
       "      <td>15565878</td>\n",
       "      <td>1005</td>\n",
       "      <td>Jakarta</td>\n",
       "      <td>68</td>\n",
       "      <td>17000000</td>\n",
       "      <td>0.0</td>\n",
       "      <td>2</td>\n",
       "      <td>1</td>\n",
       "      <td>1</td>\n",
       "      <td>0.0</td>\n",
       "      <td>2</td>\n",
       "      <td>1</td>\n",
       "      <td>0</td>\n",
       "      <td>0.00</td>\n",
       "      <td>2</td>\n",
       "      <td>1</td>\n",
       "      <td>0</td>\n",
       "      <td>0.00</td>\n",
       "      <td>2</td>\n",
       "      <td>1</td>\n",
       "      <td>0</td>\n",
       "      <td>0</td>\n",
       "      <td>0.000</td>\n",
       "      <td>0.00</td>\n",
       "      <td>3</td>\n",
       "      <td>0</td>\n",
       "      <td>12</td>\n",
       "    </tr>\n",
       "    <tr>\n",
       "      <th>2</th>\n",
       "      <td>15566091</td>\n",
       "      <td>1009</td>\n",
       "      <td>Jakarta</td>\n",
       "      <td>25</td>\n",
       "      <td>12000000</td>\n",
       "      <td>0.0</td>\n",
       "      <td>2</td>\n",
       "      <td>1</td>\n",
       "      <td>0</td>\n",
       "      <td>0.0</td>\n",
       "      <td>2</td>\n",
       "      <td>1</td>\n",
       "      <td>0</td>\n",
       "      <td>0.00</td>\n",
       "      <td>2</td>\n",
       "      <td>1</td>\n",
       "      <td>0</td>\n",
       "      <td>1351820.24</td>\n",
       "      <td>2</td>\n",
       "      <td>1</td>\n",
       "      <td>1</td>\n",
       "      <td>0</td>\n",
       "      <td>337955.060</td>\n",
       "      <td>1351820.24</td>\n",
       "      <td>3</td>\n",
       "      <td>0</td>\n",
       "      <td>12</td>\n",
       "    </tr>\n",
       "    <tr>\n",
       "      <th>3</th>\n",
       "      <td>15566292</td>\n",
       "      <td>1008</td>\n",
       "      <td>Jakarta</td>\n",
       "      <td>42</td>\n",
       "      <td>19000000</td>\n",
       "      <td>0.0</td>\n",
       "      <td>2</td>\n",
       "      <td>1</td>\n",
       "      <td>1</td>\n",
       "      <td>0.0</td>\n",
       "      <td>2</td>\n",
       "      <td>1</td>\n",
       "      <td>0</td>\n",
       "      <td>0.00</td>\n",
       "      <td>2</td>\n",
       "      <td>1</td>\n",
       "      <td>0</td>\n",
       "      <td>0.00</td>\n",
       "      <td>2</td>\n",
       "      <td>1</td>\n",
       "      <td>0</td>\n",
       "      <td>0</td>\n",
       "      <td>0.000</td>\n",
       "      <td>0.00</td>\n",
       "      <td>3</td>\n",
       "      <td>0</td>\n",
       "      <td>12</td>\n",
       "    </tr>\n",
       "    <tr>\n",
       "      <th>4</th>\n",
       "      <td>15566312</td>\n",
       "      <td>1009</td>\n",
       "      <td>Jakarta</td>\n",
       "      <td>43</td>\n",
       "      <td>29000000</td>\n",
       "      <td>0.0</td>\n",
       "      <td>2</td>\n",
       "      <td>1</td>\n",
       "      <td>0</td>\n",
       "      <td>0.0</td>\n",
       "      <td>2</td>\n",
       "      <td>1</td>\n",
       "      <td>0</td>\n",
       "      <td>678905.68</td>\n",
       "      <td>2</td>\n",
       "      <td>1</td>\n",
       "      <td>1</td>\n",
       "      <td>431190.68</td>\n",
       "      <td>2</td>\n",
       "      <td>1</td>\n",
       "      <td>1</td>\n",
       "      <td>0</td>\n",
       "      <td>277524.090</td>\n",
       "      <td>431190.68</td>\n",
       "      <td>6</td>\n",
       "      <td>0</td>\n",
       "      <td>12</td>\n",
       "    </tr>\n",
       "  </tbody>\n",
       "</table>\n",
       "</div>"
      ],
      "text/plain": [
       "   Customer ID  Branch Code     City  Age  Avg. Annual Income/Month  \\\n",
       "0     15565701         1001  Jakarta   29                  33000000   \n",
       "1     15565878         1005  Jakarta   68                  17000000   \n",
       "2     15566091         1009  Jakarta   25                  12000000   \n",
       "3     15566292         1008  Jakarta   42                  19000000   \n",
       "4     15566312         1009  Jakarta   43                  29000000   \n",
       "\n",
       "   Balance Q1  NumOfProducts Q1  HasCrCard Q1  ActiveMember Q1  Balance Q2  \\\n",
       "0         0.0                 1             1                1         0.0   \n",
       "1         0.0                 2             1                1         0.0   \n",
       "2         0.0                 2             1                0         0.0   \n",
       "3         0.0                 2             1                1         0.0   \n",
       "4         0.0                 2             1                0         0.0   \n",
       "\n",
       "   NumOfProducts Q2  HasCrCard Q2  ActiveMember Q2  Balance Q3  \\\n",
       "0                 1             1                0        0.00   \n",
       "1                 2             1                0        0.00   \n",
       "2                 2             1                0        0.00   \n",
       "3                 2             1                0        0.00   \n",
       "4                 2             1                0   678905.68   \n",
       "\n",
       "   NumOfProducts Q3  HasCrCard Q3  ActiveMember Q3  Balance Q4  \\\n",
       "0                 1             1                0  1187036.18   \n",
       "1                 2             1                0        0.00   \n",
       "2                 2             1                0  1351820.24   \n",
       "3                 2             1                0        0.00   \n",
       "4                 2             1                1   431190.68   \n",
       "\n",
       "   NumOfProducts Q4  HasCrCard Q4  ActiveMember Q4  Unpaid Tagging  \\\n",
       "0                 1             1                1               1   \n",
       "1                 2             1                0               0   \n",
       "2                 2             1                1               0   \n",
       "3                 2             1                0               0   \n",
       "4                 2             1                1               0   \n",
       "\n",
       "   Mean Balance  Delta Balance  Active Months  Diff PH  Vintage_CR  \n",
       "0    296759.045     1187036.18              6        0          12  \n",
       "1         0.000           0.00              3        0          12  \n",
       "2    337955.060     1351820.24              3        0          12  \n",
       "3         0.000           0.00              3        0          12  \n",
       "4    277524.090      431190.68              6        0          12  "
      ]
     },
     "execution_count": 33,
     "metadata": {},
     "output_type": "execute_result"
    }
   ],
   "source": [
    "df1.head()"
   ]
  },
  {
   "cell_type": "markdown",
   "metadata": {
    "id": "5mmt3peIueeg"
   },
   "source": [
    "Eksperimen 2"
   ]
  },
  {
   "cell_type": "code",
   "execution_count": 34,
   "metadata": {
    "id": "p3ye3GALuS0m"
   },
   "outputs": [],
   "source": [
    "df2['Vintage_CR'] = df2.apply(assign_cr1, axis = 1)"
   ]
  },
  {
   "cell_type": "code",
   "execution_count": 35,
   "metadata": {
    "colab": {
     "base_uri": "https://localhost:8080/",
     "height": 243
    },
    "id": "EmvSRTilxM3i",
    "outputId": "5b339246-5955-4a79-e61c-ba54765e07f8"
   },
   "outputs": [
    {
     "data": {
      "text/html": [
       "<div>\n",
       "<style scoped>\n",
       "    .dataframe tbody tr th:only-of-type {\n",
       "        vertical-align: middle;\n",
       "    }\n",
       "\n",
       "    .dataframe tbody tr th {\n",
       "        vertical-align: top;\n",
       "    }\n",
       "\n",
       "    .dataframe thead th {\n",
       "        text-align: right;\n",
       "    }\n",
       "</style>\n",
       "<table border=\"1\" class=\"dataframe\">\n",
       "  <thead>\n",
       "    <tr style=\"text-align: right;\">\n",
       "      <th></th>\n",
       "      <th>Customer ID</th>\n",
       "      <th>Branch Code</th>\n",
       "      <th>City</th>\n",
       "      <th>Age</th>\n",
       "      <th>Avg. Annual Income/Month</th>\n",
       "      <th>Balance Q1</th>\n",
       "      <th>NumOfProducts Q1</th>\n",
       "      <th>HasCrCard Q1</th>\n",
       "      <th>ActiveMember Q1</th>\n",
       "      <th>Balance Q2</th>\n",
       "      <th>NumOfProducts Q2</th>\n",
       "      <th>HasCrCard Q2</th>\n",
       "      <th>ActiveMember Q2</th>\n",
       "      <th>Balance Q3</th>\n",
       "      <th>NumOfProducts Q3</th>\n",
       "      <th>HasCrCard Q3</th>\n",
       "      <th>ActiveMember Q3</th>\n",
       "      <th>Balance Q4</th>\n",
       "      <th>NumOfProducts Q4</th>\n",
       "      <th>HasCrCard Q4</th>\n",
       "      <th>ActiveMember Q4</th>\n",
       "      <th>Unpaid Tagging</th>\n",
       "      <th>Mean Balance</th>\n",
       "      <th>Delta Balance</th>\n",
       "      <th>Active Months</th>\n",
       "      <th>Diff PH</th>\n",
       "      <th>Vintage_CR</th>\n",
       "    </tr>\n",
       "  </thead>\n",
       "  <tbody>\n",
       "    <tr>\n",
       "      <th>0</th>\n",
       "      <td>15565701</td>\n",
       "      <td>1001</td>\n",
       "      <td>Jakarta</td>\n",
       "      <td>29</td>\n",
       "      <td>33000000</td>\n",
       "      <td>0.0</td>\n",
       "      <td>1</td>\n",
       "      <td>1</td>\n",
       "      <td>1</td>\n",
       "      <td>0.0</td>\n",
       "      <td>1</td>\n",
       "      <td>1</td>\n",
       "      <td>0</td>\n",
       "      <td>0.00</td>\n",
       "      <td>1</td>\n",
       "      <td>1</td>\n",
       "      <td>0</td>\n",
       "      <td>1187036.18</td>\n",
       "      <td>1</td>\n",
       "      <td>1</td>\n",
       "      <td>1</td>\n",
       "      <td>1</td>\n",
       "      <td>593518.09</td>\n",
       "      <td>1187036.18</td>\n",
       "      <td>3</td>\n",
       "      <td>0</td>\n",
       "      <td>12</td>\n",
       "    </tr>\n",
       "    <tr>\n",
       "      <th>1</th>\n",
       "      <td>15565878</td>\n",
       "      <td>1005</td>\n",
       "      <td>Jakarta</td>\n",
       "      <td>68</td>\n",
       "      <td>17000000</td>\n",
       "      <td>0.0</td>\n",
       "      <td>2</td>\n",
       "      <td>1</td>\n",
       "      <td>1</td>\n",
       "      <td>0.0</td>\n",
       "      <td>2</td>\n",
       "      <td>1</td>\n",
       "      <td>0</td>\n",
       "      <td>0.00</td>\n",
       "      <td>2</td>\n",
       "      <td>1</td>\n",
       "      <td>0</td>\n",
       "      <td>0.00</td>\n",
       "      <td>2</td>\n",
       "      <td>1</td>\n",
       "      <td>0</td>\n",
       "      <td>0</td>\n",
       "      <td>0.00</td>\n",
       "      <td>0.00</td>\n",
       "      <td>0</td>\n",
       "      <td>0</td>\n",
       "      <td>12</td>\n",
       "    </tr>\n",
       "    <tr>\n",
       "      <th>2</th>\n",
       "      <td>15566091</td>\n",
       "      <td>1009</td>\n",
       "      <td>Jakarta</td>\n",
       "      <td>25</td>\n",
       "      <td>12000000</td>\n",
       "      <td>0.0</td>\n",
       "      <td>2</td>\n",
       "      <td>1</td>\n",
       "      <td>0</td>\n",
       "      <td>0.0</td>\n",
       "      <td>2</td>\n",
       "      <td>1</td>\n",
       "      <td>0</td>\n",
       "      <td>0.00</td>\n",
       "      <td>2</td>\n",
       "      <td>1</td>\n",
       "      <td>0</td>\n",
       "      <td>1351820.24</td>\n",
       "      <td>2</td>\n",
       "      <td>1</td>\n",
       "      <td>1</td>\n",
       "      <td>0</td>\n",
       "      <td>675910.12</td>\n",
       "      <td>1351820.24</td>\n",
       "      <td>3</td>\n",
       "      <td>0</td>\n",
       "      <td>12</td>\n",
       "    </tr>\n",
       "    <tr>\n",
       "      <th>3</th>\n",
       "      <td>15566292</td>\n",
       "      <td>1008</td>\n",
       "      <td>Jakarta</td>\n",
       "      <td>42</td>\n",
       "      <td>19000000</td>\n",
       "      <td>0.0</td>\n",
       "      <td>2</td>\n",
       "      <td>1</td>\n",
       "      <td>1</td>\n",
       "      <td>0.0</td>\n",
       "      <td>2</td>\n",
       "      <td>1</td>\n",
       "      <td>0</td>\n",
       "      <td>0.00</td>\n",
       "      <td>2</td>\n",
       "      <td>1</td>\n",
       "      <td>0</td>\n",
       "      <td>0.00</td>\n",
       "      <td>2</td>\n",
       "      <td>1</td>\n",
       "      <td>0</td>\n",
       "      <td>0</td>\n",
       "      <td>0.00</td>\n",
       "      <td>0.00</td>\n",
       "      <td>0</td>\n",
       "      <td>0</td>\n",
       "      <td>12</td>\n",
       "    </tr>\n",
       "    <tr>\n",
       "      <th>4</th>\n",
       "      <td>15566312</td>\n",
       "      <td>1009</td>\n",
       "      <td>Jakarta</td>\n",
       "      <td>43</td>\n",
       "      <td>29000000</td>\n",
       "      <td>0.0</td>\n",
       "      <td>2</td>\n",
       "      <td>1</td>\n",
       "      <td>0</td>\n",
       "      <td>0.0</td>\n",
       "      <td>2</td>\n",
       "      <td>1</td>\n",
       "      <td>0</td>\n",
       "      <td>678905.68</td>\n",
       "      <td>2</td>\n",
       "      <td>1</td>\n",
       "      <td>1</td>\n",
       "      <td>431190.68</td>\n",
       "      <td>2</td>\n",
       "      <td>1</td>\n",
       "      <td>1</td>\n",
       "      <td>0</td>\n",
       "      <td>555048.18</td>\n",
       "      <td>431190.68</td>\n",
       "      <td>6</td>\n",
       "      <td>0</td>\n",
       "      <td>12</td>\n",
       "    </tr>\n",
       "  </tbody>\n",
       "</table>\n",
       "</div>"
      ],
      "text/plain": [
       "   Customer ID  Branch Code     City  Age  Avg. Annual Income/Month  \\\n",
       "0     15565701         1001  Jakarta   29                  33000000   \n",
       "1     15565878         1005  Jakarta   68                  17000000   \n",
       "2     15566091         1009  Jakarta   25                  12000000   \n",
       "3     15566292         1008  Jakarta   42                  19000000   \n",
       "4     15566312         1009  Jakarta   43                  29000000   \n",
       "\n",
       "   Balance Q1  NumOfProducts Q1  HasCrCard Q1  ActiveMember Q1  Balance Q2  \\\n",
       "0         0.0                 1             1                1         0.0   \n",
       "1         0.0                 2             1                1         0.0   \n",
       "2         0.0                 2             1                0         0.0   \n",
       "3         0.0                 2             1                1         0.0   \n",
       "4         0.0                 2             1                0         0.0   \n",
       "\n",
       "   NumOfProducts Q2  HasCrCard Q2  ActiveMember Q2  Balance Q3  \\\n",
       "0                 1             1                0        0.00   \n",
       "1                 2             1                0        0.00   \n",
       "2                 2             1                0        0.00   \n",
       "3                 2             1                0        0.00   \n",
       "4                 2             1                0   678905.68   \n",
       "\n",
       "   NumOfProducts Q3  HasCrCard Q3  ActiveMember Q3  Balance Q4  \\\n",
       "0                 1             1                0  1187036.18   \n",
       "1                 2             1                0        0.00   \n",
       "2                 2             1                0  1351820.24   \n",
       "3                 2             1                0        0.00   \n",
       "4                 2             1                1   431190.68   \n",
       "\n",
       "   NumOfProducts Q4  HasCrCard Q4  ActiveMember Q4  Unpaid Tagging  \\\n",
       "0                 1             1                1               1   \n",
       "1                 2             1                0               0   \n",
       "2                 2             1                1               0   \n",
       "3                 2             1                0               0   \n",
       "4                 2             1                1               0   \n",
       "\n",
       "   Mean Balance  Delta Balance  Active Months  Diff PH  Vintage_CR  \n",
       "0     593518.09     1187036.18              3        0          12  \n",
       "1          0.00           0.00              0        0          12  \n",
       "2     675910.12     1351820.24              3        0          12  \n",
       "3          0.00           0.00              0        0          12  \n",
       "4     555048.18      431190.68              6        0          12  "
      ]
     },
     "execution_count": 35,
     "metadata": {},
     "output_type": "execute_result"
    }
   ],
   "source": [
    "df2.head()"
   ]
  },
  {
   "cell_type": "markdown",
   "metadata": {
    "id": "-HpVZVneb5LV"
   },
   "source": [
    "## Penghapusan Variabel"
   ]
  },
  {
   "cell_type": "markdown",
   "metadata": {
    "id": "oh-DARVxuj4_"
   },
   "source": [
    "Status Kepemilikan Sudah Digantikan Dengan Lama Kepemilikan Kartu Kredit"
   ]
  },
  {
   "cell_type": "code",
   "execution_count": 36,
   "metadata": {
    "id": "g2aBjKdYb5LV"
   },
   "outputs": [],
   "source": [
    "df1 = df1.drop(columns = ['HasCrCard Q1', 'HasCrCard Q2', 'HasCrCard Q3', 'HasCrCard Q4'])\n",
    "df2 = df2.drop(columns = ['HasCrCard Q1', 'HasCrCard Q2', 'HasCrCard Q3', 'HasCrCard Q4'])"
   ]
  },
  {
   "cell_type": "markdown",
   "metadata": {
    "id": "e6980l2QupsU"
   },
   "source": [
    "Balance Per Quarter sudah digantikan dengan rata-rata saldo dalam periode observasi & selisih saldo di awal dan akhir periode observasi"
   ]
  },
  {
   "cell_type": "code",
   "execution_count": 37,
   "metadata": {
    "id": "Z-XnykAeb5LW"
   },
   "outputs": [],
   "source": [
    "df1 = df1.drop(columns = ['Balance Q1', 'Balance Q2', 'Balance Q3', 'Balance Q4'])\n",
    "df2 = df2.drop(columns = ['Balance Q1', 'Balance Q2', 'Balance Q3', 'Balance Q4'])"
   ]
  },
  {
   "cell_type": "markdown",
   "metadata": {
    "id": "JnOOXZyDu3vq"
   },
   "source": [
    "Jumlah Kepemilikan Produk sudah digantikan dengan fluktuasi kepemilikan produk pada periode observasi"
   ]
  },
  {
   "cell_type": "code",
   "execution_count": 38,
   "metadata": {
    "id": "RKlfyS1kb5LW"
   },
   "outputs": [],
   "source": [
    "df1 = df1.drop(columns = ['NumOfProducts Q1', 'NumOfProducts Q2', 'NumOfProducts Q3', 'NumOfProducts Q4'])\n",
    "df2 = df2.drop(columns = ['NumOfProducts Q1', 'NumOfProducts Q2', 'NumOfProducts Q3', 'NumOfProducts Q4'])"
   ]
  },
  {
   "cell_type": "markdown",
   "metadata": {
    "id": "qfNbJsCfu_p6"
   },
   "source": [
    "Status Keaktifan Nasabah Per Quarter sudah digantikan dengan Status Keaktifan dalam Bulan"
   ]
  },
  {
   "cell_type": "code",
   "execution_count": 39,
   "metadata": {
    "id": "XEENd8iXb5LW"
   },
   "outputs": [],
   "source": [
    "df1 = df1.drop(columns = ['ActiveMember Q1', 'ActiveMember Q2', 'ActiveMember Q3', 'ActiveMember Q4'])\n",
    "df2 = df2.drop(columns = ['ActiveMember Q1', 'ActiveMember Q2', 'ActiveMember Q3', 'ActiveMember Q4'])"
   ]
  },
  {
   "cell_type": "markdown",
   "metadata": {
    "id": "KUfhghWqb5LX"
   },
   "source": [
    "## Data Transformation"
   ]
  },
  {
   "cell_type": "markdown",
   "metadata": {
    "id": "DlHLdgElzX5e"
   },
   "source": [
    "Pemisahan Variabel Prediktor\n",
    "\n",
    "---"
   ]
  },
  {
   "cell_type": "code",
   "execution_count": 40,
   "metadata": {
    "id": "Tm1jiCCtb5LX"
   },
   "outputs": [],
   "source": [
    "predictor1 = df1[df1.columns.difference(['Customer ID', 'Unpaid Tagging'])]\n",
    "predictor2 = df2[df2.columns.difference(['Customer ID', 'Unpaid Tagging'])]"
   ]
  },
  {
   "cell_type": "code",
   "execution_count": 41,
   "metadata": {
    "colab": {
     "base_uri": "https://localhost:8080/",
     "height": 206
    },
    "id": "wRO7gg5zb5LX",
    "outputId": "063efc90-bd74-49f2-c50d-6aeab1ffac4b",
    "scrolled": true
   },
   "outputs": [
    {
     "data": {
      "text/html": [
       "<div>\n",
       "<style scoped>\n",
       "    .dataframe tbody tr th:only-of-type {\n",
       "        vertical-align: middle;\n",
       "    }\n",
       "\n",
       "    .dataframe tbody tr th {\n",
       "        vertical-align: top;\n",
       "    }\n",
       "\n",
       "    .dataframe thead th {\n",
       "        text-align: right;\n",
       "    }\n",
       "</style>\n",
       "<table border=\"1\" class=\"dataframe\">\n",
       "  <thead>\n",
       "    <tr style=\"text-align: right;\">\n",
       "      <th></th>\n",
       "      <th>Active Months</th>\n",
       "      <th>Age</th>\n",
       "      <th>Avg. Annual Income/Month</th>\n",
       "      <th>Branch Code</th>\n",
       "      <th>City</th>\n",
       "      <th>Delta Balance</th>\n",
       "      <th>Diff PH</th>\n",
       "      <th>Mean Balance</th>\n",
       "      <th>Vintage_CR</th>\n",
       "    </tr>\n",
       "  </thead>\n",
       "  <tbody>\n",
       "    <tr>\n",
       "      <th>0</th>\n",
       "      <td>6</td>\n",
       "      <td>29</td>\n",
       "      <td>33000000</td>\n",
       "      <td>1001</td>\n",
       "      <td>Jakarta</td>\n",
       "      <td>1187036.18</td>\n",
       "      <td>0</td>\n",
       "      <td>296759.045</td>\n",
       "      <td>12</td>\n",
       "    </tr>\n",
       "    <tr>\n",
       "      <th>1</th>\n",
       "      <td>3</td>\n",
       "      <td>68</td>\n",
       "      <td>17000000</td>\n",
       "      <td>1005</td>\n",
       "      <td>Jakarta</td>\n",
       "      <td>0.00</td>\n",
       "      <td>0</td>\n",
       "      <td>0.000</td>\n",
       "      <td>12</td>\n",
       "    </tr>\n",
       "    <tr>\n",
       "      <th>2</th>\n",
       "      <td>3</td>\n",
       "      <td>25</td>\n",
       "      <td>12000000</td>\n",
       "      <td>1009</td>\n",
       "      <td>Jakarta</td>\n",
       "      <td>1351820.24</td>\n",
       "      <td>0</td>\n",
       "      <td>337955.060</td>\n",
       "      <td>12</td>\n",
       "    </tr>\n",
       "    <tr>\n",
       "      <th>3</th>\n",
       "      <td>3</td>\n",
       "      <td>42</td>\n",
       "      <td>19000000</td>\n",
       "      <td>1008</td>\n",
       "      <td>Jakarta</td>\n",
       "      <td>0.00</td>\n",
       "      <td>0</td>\n",
       "      <td>0.000</td>\n",
       "      <td>12</td>\n",
       "    </tr>\n",
       "    <tr>\n",
       "      <th>4</th>\n",
       "      <td>6</td>\n",
       "      <td>43</td>\n",
       "      <td>29000000</td>\n",
       "      <td>1009</td>\n",
       "      <td>Jakarta</td>\n",
       "      <td>431190.68</td>\n",
       "      <td>0</td>\n",
       "      <td>277524.090</td>\n",
       "      <td>12</td>\n",
       "    </tr>\n",
       "  </tbody>\n",
       "</table>\n",
       "</div>"
      ],
      "text/plain": [
       "   Active Months  Age  Avg. Annual Income/Month  Branch Code     City  \\\n",
       "0              6   29                  33000000         1001  Jakarta   \n",
       "1              3   68                  17000000         1005  Jakarta   \n",
       "2              3   25                  12000000         1009  Jakarta   \n",
       "3              3   42                  19000000         1008  Jakarta   \n",
       "4              6   43                  29000000         1009  Jakarta   \n",
       "\n",
       "   Delta Balance  Diff PH  Mean Balance  Vintage_CR  \n",
       "0     1187036.18        0    296759.045          12  \n",
       "1           0.00        0         0.000          12  \n",
       "2     1351820.24        0    337955.060          12  \n",
       "3           0.00        0         0.000          12  \n",
       "4      431190.68        0    277524.090          12  "
      ]
     },
     "execution_count": 41,
     "metadata": {},
     "output_type": "execute_result"
    }
   ],
   "source": [
    "predictor1.head()"
   ]
  },
  {
   "cell_type": "code",
   "execution_count": 42,
   "metadata": {
    "colab": {
     "base_uri": "https://localhost:8080/",
     "height": 206
    },
    "id": "z0ENn1_ub5LY",
    "outputId": "202ce950-dec2-43f3-e117-8bfc17cea74e"
   },
   "outputs": [
    {
     "data": {
      "text/html": [
       "<div>\n",
       "<style scoped>\n",
       "    .dataframe tbody tr th:only-of-type {\n",
       "        vertical-align: middle;\n",
       "    }\n",
       "\n",
       "    .dataframe tbody tr th {\n",
       "        vertical-align: top;\n",
       "    }\n",
       "\n",
       "    .dataframe thead th {\n",
       "        text-align: right;\n",
       "    }\n",
       "</style>\n",
       "<table border=\"1\" class=\"dataframe\">\n",
       "  <thead>\n",
       "    <tr style=\"text-align: right;\">\n",
       "      <th></th>\n",
       "      <th>Active Months</th>\n",
       "      <th>Age</th>\n",
       "      <th>Avg. Annual Income/Month</th>\n",
       "      <th>Branch Code</th>\n",
       "      <th>City</th>\n",
       "      <th>Delta Balance</th>\n",
       "      <th>Diff PH</th>\n",
       "      <th>Mean Balance</th>\n",
       "      <th>Vintage_CR</th>\n",
       "    </tr>\n",
       "  </thead>\n",
       "  <tbody>\n",
       "    <tr>\n",
       "      <th>0</th>\n",
       "      <td>3</td>\n",
       "      <td>29</td>\n",
       "      <td>33000000</td>\n",
       "      <td>1001</td>\n",
       "      <td>Jakarta</td>\n",
       "      <td>1187036.18</td>\n",
       "      <td>0</td>\n",
       "      <td>593518.09</td>\n",
       "      <td>12</td>\n",
       "    </tr>\n",
       "    <tr>\n",
       "      <th>1</th>\n",
       "      <td>0</td>\n",
       "      <td>68</td>\n",
       "      <td>17000000</td>\n",
       "      <td>1005</td>\n",
       "      <td>Jakarta</td>\n",
       "      <td>0.00</td>\n",
       "      <td>0</td>\n",
       "      <td>0.00</td>\n",
       "      <td>12</td>\n",
       "    </tr>\n",
       "    <tr>\n",
       "      <th>2</th>\n",
       "      <td>3</td>\n",
       "      <td>25</td>\n",
       "      <td>12000000</td>\n",
       "      <td>1009</td>\n",
       "      <td>Jakarta</td>\n",
       "      <td>1351820.24</td>\n",
       "      <td>0</td>\n",
       "      <td>675910.12</td>\n",
       "      <td>12</td>\n",
       "    </tr>\n",
       "    <tr>\n",
       "      <th>3</th>\n",
       "      <td>0</td>\n",
       "      <td>42</td>\n",
       "      <td>19000000</td>\n",
       "      <td>1008</td>\n",
       "      <td>Jakarta</td>\n",
       "      <td>0.00</td>\n",
       "      <td>0</td>\n",
       "      <td>0.00</td>\n",
       "      <td>12</td>\n",
       "    </tr>\n",
       "    <tr>\n",
       "      <th>4</th>\n",
       "      <td>6</td>\n",
       "      <td>43</td>\n",
       "      <td>29000000</td>\n",
       "      <td>1009</td>\n",
       "      <td>Jakarta</td>\n",
       "      <td>431190.68</td>\n",
       "      <td>0</td>\n",
       "      <td>555048.18</td>\n",
       "      <td>12</td>\n",
       "    </tr>\n",
       "  </tbody>\n",
       "</table>\n",
       "</div>"
      ],
      "text/plain": [
       "   Active Months  Age  Avg. Annual Income/Month  Branch Code     City  \\\n",
       "0              3   29                  33000000         1001  Jakarta   \n",
       "1              0   68                  17000000         1005  Jakarta   \n",
       "2              3   25                  12000000         1009  Jakarta   \n",
       "3              0   42                  19000000         1008  Jakarta   \n",
       "4              6   43                  29000000         1009  Jakarta   \n",
       "\n",
       "   Delta Balance  Diff PH  Mean Balance  Vintage_CR  \n",
       "0     1187036.18        0     593518.09          12  \n",
       "1           0.00        0          0.00          12  \n",
       "2     1351820.24        0     675910.12          12  \n",
       "3           0.00        0          0.00          12  \n",
       "4      431190.68        0     555048.18          12  "
      ]
     },
     "execution_count": 42,
     "metadata": {},
     "output_type": "execute_result"
    }
   ],
   "source": [
    "predictor2.head()"
   ]
  },
  {
   "cell_type": "markdown",
   "metadata": {
    "id": "uFDEKAHvzGXq"
   },
   "source": [
    "Melakukan Encoding untuk Data Category\n",
    "\n",
    "---\n",
    "\\\n",
    "Variable Category:\n",
    "1. Branch Code\n",
    "2. City\n",
    "\n",
    "Untuk branch code perlu diubah menjadi string agar dianggap sebagai data kategori"
   ]
  },
  {
   "cell_type": "code",
   "execution_count": 43,
   "metadata": {
    "colab": {
     "base_uri": "https://localhost:8080/"
    },
    "id": "6_U4x45pb5LY",
    "outputId": "ccbdfe09-1298-4a40-ca40-1f489bdc2647"
   },
   "outputs": [
    {
     "name": "stderr",
     "output_type": "stream",
     "text": [
      "C:\\Users\\walkervalentinus\\AppData\\Local\\Temp\\ipykernel_17956\\1205290035.py:1: SettingWithCopyWarning: \n",
      "A value is trying to be set on a copy of a slice from a DataFrame.\n",
      "Try using .loc[row_indexer,col_indexer] = value instead\n",
      "\n",
      "See the caveats in the documentation: https://pandas.pydata.org/pandas-docs/stable/user_guide/indexing.html#returning-a-view-versus-a-copy\n",
      "  predictor1['Branch Code'] = predictor1['Branch Code'].astype(str)\n",
      "C:\\Users\\walkervalentinus\\AppData\\Local\\Temp\\ipykernel_17956\\1205290035.py:2: SettingWithCopyWarning: \n",
      "A value is trying to be set on a copy of a slice from a DataFrame.\n",
      "Try using .loc[row_indexer,col_indexer] = value instead\n",
      "\n",
      "See the caveats in the documentation: https://pandas.pydata.org/pandas-docs/stable/user_guide/indexing.html#returning-a-view-versus-a-copy\n",
      "  predictor2['Branch Code'] = predictor2['Branch Code'].astype(str)\n"
     ]
    }
   ],
   "source": [
    "predictor1['Branch Code'] = predictor1['Branch Code'].astype(str)\n",
    "predictor2['Branch Code'] = predictor2['Branch Code'].astype(str)"
   ]
  },
  {
   "cell_type": "code",
   "execution_count": 44,
   "metadata": {
    "colab": {
     "base_uri": "https://localhost:8080/"
    },
    "id": "pR61FiQGb5LY",
    "outputId": "f3818247-356d-4493-9553-a322449e9d84"
   },
   "outputs": [
    {
     "name": "stdout",
     "output_type": "stream",
     "text": [
      "<class 'pandas.core.frame.DataFrame'>\n",
      "RangeIndex: 7561 entries, 0 to 7560\n",
      "Data columns (total 9 columns):\n",
      " #   Column                    Non-Null Count  Dtype  \n",
      "---  ------                    --------------  -----  \n",
      " 0   Active Months             7561 non-null   int64  \n",
      " 1   Age                       7561 non-null   int64  \n",
      " 2   Avg. Annual Income/Month  7561 non-null   int64  \n",
      " 3   Branch Code               7561 non-null   object \n",
      " 4   City                      7561 non-null   object \n",
      " 5   Delta Balance             7561 non-null   float64\n",
      " 6   Diff PH                   7561 non-null   int64  \n",
      " 7   Mean Balance              7561 non-null   float64\n",
      " 8   Vintage_CR                7561 non-null   int64  \n",
      "dtypes: float64(2), int64(5), object(2)\n",
      "memory usage: 531.8+ KB\n"
     ]
    }
   ],
   "source": [
    "predictor1.info()"
   ]
  },
  {
   "cell_type": "code",
   "execution_count": 45,
   "metadata": {
    "colab": {
     "base_uri": "https://localhost:8080/"
    },
    "id": "z-aWMkvwb5LZ",
    "outputId": "9d6e402e-521a-4fd4-89b0-189f7c9a60a9"
   },
   "outputs": [
    {
     "name": "stdout",
     "output_type": "stream",
     "text": [
      "<class 'pandas.core.frame.DataFrame'>\n",
      "RangeIndex: 7561 entries, 0 to 7560\n",
      "Data columns (total 9 columns):\n",
      " #   Column                    Non-Null Count  Dtype  \n",
      "---  ------                    --------------  -----  \n",
      " 0   Active Months             7561 non-null   int64  \n",
      " 1   Age                       7561 non-null   int64  \n",
      " 2   Avg. Annual Income/Month  7561 non-null   int64  \n",
      " 3   Branch Code               7561 non-null   object \n",
      " 4   City                      7561 non-null   object \n",
      " 5   Delta Balance             7561 non-null   float64\n",
      " 6   Diff PH                   7561 non-null   int64  \n",
      " 7   Mean Balance              7561 non-null   float64\n",
      " 8   Vintage_CR                7561 non-null   int64  \n",
      "dtypes: float64(2), int64(5), object(2)\n",
      "memory usage: 531.8+ KB\n"
     ]
    }
   ],
   "source": [
    "predictor2.info()"
   ]
  },
  {
   "cell_type": "code",
   "execution_count": 46,
   "metadata": {
    "id": "IShuGC0Mb5LZ"
   },
   "outputs": [],
   "source": [
    "predictor1 = pd.get_dummies(predictor1)\n",
    "predictor2 = pd.get_dummies(predictor2)"
   ]
  },
  {
   "cell_type": "code",
   "execution_count": 47,
   "metadata": {
    "colab": {
     "base_uri": "https://localhost:8080/",
     "height": 243
    },
    "id": "vZ3J8-ZEb5LZ",
    "outputId": "326a89fa-7676-4dbb-bb86-8319b2a75941"
   },
   "outputs": [
    {
     "data": {
      "text/html": [
       "<div>\n",
       "<style scoped>\n",
       "    .dataframe tbody tr th:only-of-type {\n",
       "        vertical-align: middle;\n",
       "    }\n",
       "\n",
       "    .dataframe tbody tr th {\n",
       "        vertical-align: top;\n",
       "    }\n",
       "\n",
       "    .dataframe thead th {\n",
       "        text-align: right;\n",
       "    }\n",
       "</style>\n",
       "<table border=\"1\" class=\"dataframe\">\n",
       "  <thead>\n",
       "    <tr style=\"text-align: right;\">\n",
       "      <th></th>\n",
       "      <th>Active Months</th>\n",
       "      <th>Age</th>\n",
       "      <th>Avg. Annual Income/Month</th>\n",
       "      <th>Delta Balance</th>\n",
       "      <th>Diff PH</th>\n",
       "      <th>Mean Balance</th>\n",
       "      <th>Vintage_CR</th>\n",
       "      <th>Branch Code_1001</th>\n",
       "      <th>Branch Code_1002</th>\n",
       "      <th>Branch Code_1003</th>\n",
       "      <th>Branch Code_1004</th>\n",
       "      <th>Branch Code_1005</th>\n",
       "      <th>Branch Code_1006</th>\n",
       "      <th>Branch Code_1007</th>\n",
       "      <th>Branch Code_1008</th>\n",
       "      <th>Branch Code_1009</th>\n",
       "      <th>Branch Code_1011</th>\n",
       "      <th>Branch Code_1012</th>\n",
       "      <th>Branch Code_1013</th>\n",
       "      <th>Branch Code_1014</th>\n",
       "      <th>Branch Code_1015</th>\n",
       "      <th>Branch Code_1021</th>\n",
       "      <th>Branch Code_1022</th>\n",
       "      <th>Branch Code_1023</th>\n",
       "      <th>Branch Code_1024</th>\n",
       "      <th>City_Bandung</th>\n",
       "      <th>City_Jakarta</th>\n",
       "      <th>City_Surabaya</th>\n",
       "    </tr>\n",
       "  </thead>\n",
       "  <tbody>\n",
       "    <tr>\n",
       "      <th>0</th>\n",
       "      <td>6</td>\n",
       "      <td>29</td>\n",
       "      <td>33000000</td>\n",
       "      <td>1187036.18</td>\n",
       "      <td>0</td>\n",
       "      <td>296759.045</td>\n",
       "      <td>12</td>\n",
       "      <td>True</td>\n",
       "      <td>False</td>\n",
       "      <td>False</td>\n",
       "      <td>False</td>\n",
       "      <td>False</td>\n",
       "      <td>False</td>\n",
       "      <td>False</td>\n",
       "      <td>False</td>\n",
       "      <td>False</td>\n",
       "      <td>False</td>\n",
       "      <td>False</td>\n",
       "      <td>False</td>\n",
       "      <td>False</td>\n",
       "      <td>False</td>\n",
       "      <td>False</td>\n",
       "      <td>False</td>\n",
       "      <td>False</td>\n",
       "      <td>False</td>\n",
       "      <td>False</td>\n",
       "      <td>True</td>\n",
       "      <td>False</td>\n",
       "    </tr>\n",
       "    <tr>\n",
       "      <th>1</th>\n",
       "      <td>3</td>\n",
       "      <td>68</td>\n",
       "      <td>17000000</td>\n",
       "      <td>0.00</td>\n",
       "      <td>0</td>\n",
       "      <td>0.000</td>\n",
       "      <td>12</td>\n",
       "      <td>False</td>\n",
       "      <td>False</td>\n",
       "      <td>False</td>\n",
       "      <td>False</td>\n",
       "      <td>True</td>\n",
       "      <td>False</td>\n",
       "      <td>False</td>\n",
       "      <td>False</td>\n",
       "      <td>False</td>\n",
       "      <td>False</td>\n",
       "      <td>False</td>\n",
       "      <td>False</td>\n",
       "      <td>False</td>\n",
       "      <td>False</td>\n",
       "      <td>False</td>\n",
       "      <td>False</td>\n",
       "      <td>False</td>\n",
       "      <td>False</td>\n",
       "      <td>False</td>\n",
       "      <td>True</td>\n",
       "      <td>False</td>\n",
       "    </tr>\n",
       "    <tr>\n",
       "      <th>2</th>\n",
       "      <td>3</td>\n",
       "      <td>25</td>\n",
       "      <td>12000000</td>\n",
       "      <td>1351820.24</td>\n",
       "      <td>0</td>\n",
       "      <td>337955.060</td>\n",
       "      <td>12</td>\n",
       "      <td>False</td>\n",
       "      <td>False</td>\n",
       "      <td>False</td>\n",
       "      <td>False</td>\n",
       "      <td>False</td>\n",
       "      <td>False</td>\n",
       "      <td>False</td>\n",
       "      <td>False</td>\n",
       "      <td>True</td>\n",
       "      <td>False</td>\n",
       "      <td>False</td>\n",
       "      <td>False</td>\n",
       "      <td>False</td>\n",
       "      <td>False</td>\n",
       "      <td>False</td>\n",
       "      <td>False</td>\n",
       "      <td>False</td>\n",
       "      <td>False</td>\n",
       "      <td>False</td>\n",
       "      <td>True</td>\n",
       "      <td>False</td>\n",
       "    </tr>\n",
       "    <tr>\n",
       "      <th>3</th>\n",
       "      <td>3</td>\n",
       "      <td>42</td>\n",
       "      <td>19000000</td>\n",
       "      <td>0.00</td>\n",
       "      <td>0</td>\n",
       "      <td>0.000</td>\n",
       "      <td>12</td>\n",
       "      <td>False</td>\n",
       "      <td>False</td>\n",
       "      <td>False</td>\n",
       "      <td>False</td>\n",
       "      <td>False</td>\n",
       "      <td>False</td>\n",
       "      <td>False</td>\n",
       "      <td>True</td>\n",
       "      <td>False</td>\n",
       "      <td>False</td>\n",
       "      <td>False</td>\n",
       "      <td>False</td>\n",
       "      <td>False</td>\n",
       "      <td>False</td>\n",
       "      <td>False</td>\n",
       "      <td>False</td>\n",
       "      <td>False</td>\n",
       "      <td>False</td>\n",
       "      <td>False</td>\n",
       "      <td>True</td>\n",
       "      <td>False</td>\n",
       "    </tr>\n",
       "    <tr>\n",
       "      <th>4</th>\n",
       "      <td>6</td>\n",
       "      <td>43</td>\n",
       "      <td>29000000</td>\n",
       "      <td>431190.68</td>\n",
       "      <td>0</td>\n",
       "      <td>277524.090</td>\n",
       "      <td>12</td>\n",
       "      <td>False</td>\n",
       "      <td>False</td>\n",
       "      <td>False</td>\n",
       "      <td>False</td>\n",
       "      <td>False</td>\n",
       "      <td>False</td>\n",
       "      <td>False</td>\n",
       "      <td>False</td>\n",
       "      <td>True</td>\n",
       "      <td>False</td>\n",
       "      <td>False</td>\n",
       "      <td>False</td>\n",
       "      <td>False</td>\n",
       "      <td>False</td>\n",
       "      <td>False</td>\n",
       "      <td>False</td>\n",
       "      <td>False</td>\n",
       "      <td>False</td>\n",
       "      <td>False</td>\n",
       "      <td>True</td>\n",
       "      <td>False</td>\n",
       "    </tr>\n",
       "  </tbody>\n",
       "</table>\n",
       "</div>"
      ],
      "text/plain": [
       "   Active Months  Age  Avg. Annual Income/Month  Delta Balance  Diff PH  \\\n",
       "0              6   29                  33000000     1187036.18        0   \n",
       "1              3   68                  17000000           0.00        0   \n",
       "2              3   25                  12000000     1351820.24        0   \n",
       "3              3   42                  19000000           0.00        0   \n",
       "4              6   43                  29000000      431190.68        0   \n",
       "\n",
       "   Mean Balance  Vintage_CR  Branch Code_1001  Branch Code_1002  \\\n",
       "0    296759.045          12              True             False   \n",
       "1         0.000          12             False             False   \n",
       "2    337955.060          12             False             False   \n",
       "3         0.000          12             False             False   \n",
       "4    277524.090          12             False             False   \n",
       "\n",
       "   Branch Code_1003  Branch Code_1004  Branch Code_1005  Branch Code_1006  \\\n",
       "0             False             False             False             False   \n",
       "1             False             False              True             False   \n",
       "2             False             False             False             False   \n",
       "3             False             False             False             False   \n",
       "4             False             False             False             False   \n",
       "\n",
       "   Branch Code_1007  Branch Code_1008  Branch Code_1009  Branch Code_1011  \\\n",
       "0             False             False             False             False   \n",
       "1             False             False             False             False   \n",
       "2             False             False              True             False   \n",
       "3             False              True             False             False   \n",
       "4             False             False              True             False   \n",
       "\n",
       "   Branch Code_1012  Branch Code_1013  Branch Code_1014  Branch Code_1015  \\\n",
       "0             False             False             False             False   \n",
       "1             False             False             False             False   \n",
       "2             False             False             False             False   \n",
       "3             False             False             False             False   \n",
       "4             False             False             False             False   \n",
       "\n",
       "   Branch Code_1021  Branch Code_1022  Branch Code_1023  Branch Code_1024  \\\n",
       "0             False             False             False             False   \n",
       "1             False             False             False             False   \n",
       "2             False             False             False             False   \n",
       "3             False             False             False             False   \n",
       "4             False             False             False             False   \n",
       "\n",
       "   City_Bandung  City_Jakarta  City_Surabaya  \n",
       "0         False          True          False  \n",
       "1         False          True          False  \n",
       "2         False          True          False  \n",
       "3         False          True          False  \n",
       "4         False          True          False  "
      ]
     },
     "execution_count": 47,
     "metadata": {},
     "output_type": "execute_result"
    }
   ],
   "source": [
    "predictor1.head()"
   ]
  },
  {
   "cell_type": "code",
   "execution_count": 48,
   "metadata": {
    "colab": {
     "base_uri": "https://localhost:8080/",
     "height": 243
    },
    "id": "ate42LDlb5La",
    "outputId": "3031e1fe-1ed3-425a-c802-49869c27d11f"
   },
   "outputs": [
    {
     "data": {
      "text/html": [
       "<div>\n",
       "<style scoped>\n",
       "    .dataframe tbody tr th:only-of-type {\n",
       "        vertical-align: middle;\n",
       "    }\n",
       "\n",
       "    .dataframe tbody tr th {\n",
       "        vertical-align: top;\n",
       "    }\n",
       "\n",
       "    .dataframe thead th {\n",
       "        text-align: right;\n",
       "    }\n",
       "</style>\n",
       "<table border=\"1\" class=\"dataframe\">\n",
       "  <thead>\n",
       "    <tr style=\"text-align: right;\">\n",
       "      <th></th>\n",
       "      <th>Active Months</th>\n",
       "      <th>Age</th>\n",
       "      <th>Avg. Annual Income/Month</th>\n",
       "      <th>Delta Balance</th>\n",
       "      <th>Diff PH</th>\n",
       "      <th>Mean Balance</th>\n",
       "      <th>Vintage_CR</th>\n",
       "      <th>Branch Code_1001</th>\n",
       "      <th>Branch Code_1002</th>\n",
       "      <th>Branch Code_1003</th>\n",
       "      <th>Branch Code_1004</th>\n",
       "      <th>Branch Code_1005</th>\n",
       "      <th>Branch Code_1006</th>\n",
       "      <th>Branch Code_1007</th>\n",
       "      <th>Branch Code_1008</th>\n",
       "      <th>Branch Code_1009</th>\n",
       "      <th>Branch Code_1011</th>\n",
       "      <th>Branch Code_1012</th>\n",
       "      <th>Branch Code_1013</th>\n",
       "      <th>Branch Code_1014</th>\n",
       "      <th>Branch Code_1015</th>\n",
       "      <th>Branch Code_1021</th>\n",
       "      <th>Branch Code_1022</th>\n",
       "      <th>Branch Code_1023</th>\n",
       "      <th>Branch Code_1024</th>\n",
       "      <th>City_Bandung</th>\n",
       "      <th>City_Jakarta</th>\n",
       "      <th>City_Surabaya</th>\n",
       "    </tr>\n",
       "  </thead>\n",
       "  <tbody>\n",
       "    <tr>\n",
       "      <th>0</th>\n",
       "      <td>3</td>\n",
       "      <td>29</td>\n",
       "      <td>33000000</td>\n",
       "      <td>1187036.18</td>\n",
       "      <td>0</td>\n",
       "      <td>593518.09</td>\n",
       "      <td>12</td>\n",
       "      <td>True</td>\n",
       "      <td>False</td>\n",
       "      <td>False</td>\n",
       "      <td>False</td>\n",
       "      <td>False</td>\n",
       "      <td>False</td>\n",
       "      <td>False</td>\n",
       "      <td>False</td>\n",
       "      <td>False</td>\n",
       "      <td>False</td>\n",
       "      <td>False</td>\n",
       "      <td>False</td>\n",
       "      <td>False</td>\n",
       "      <td>False</td>\n",
       "      <td>False</td>\n",
       "      <td>False</td>\n",
       "      <td>False</td>\n",
       "      <td>False</td>\n",
       "      <td>False</td>\n",
       "      <td>True</td>\n",
       "      <td>False</td>\n",
       "    </tr>\n",
       "    <tr>\n",
       "      <th>1</th>\n",
       "      <td>0</td>\n",
       "      <td>68</td>\n",
       "      <td>17000000</td>\n",
       "      <td>0.00</td>\n",
       "      <td>0</td>\n",
       "      <td>0.00</td>\n",
       "      <td>12</td>\n",
       "      <td>False</td>\n",
       "      <td>False</td>\n",
       "      <td>False</td>\n",
       "      <td>False</td>\n",
       "      <td>True</td>\n",
       "      <td>False</td>\n",
       "      <td>False</td>\n",
       "      <td>False</td>\n",
       "      <td>False</td>\n",
       "      <td>False</td>\n",
       "      <td>False</td>\n",
       "      <td>False</td>\n",
       "      <td>False</td>\n",
       "      <td>False</td>\n",
       "      <td>False</td>\n",
       "      <td>False</td>\n",
       "      <td>False</td>\n",
       "      <td>False</td>\n",
       "      <td>False</td>\n",
       "      <td>True</td>\n",
       "      <td>False</td>\n",
       "    </tr>\n",
       "    <tr>\n",
       "      <th>2</th>\n",
       "      <td>3</td>\n",
       "      <td>25</td>\n",
       "      <td>12000000</td>\n",
       "      <td>1351820.24</td>\n",
       "      <td>0</td>\n",
       "      <td>675910.12</td>\n",
       "      <td>12</td>\n",
       "      <td>False</td>\n",
       "      <td>False</td>\n",
       "      <td>False</td>\n",
       "      <td>False</td>\n",
       "      <td>False</td>\n",
       "      <td>False</td>\n",
       "      <td>False</td>\n",
       "      <td>False</td>\n",
       "      <td>True</td>\n",
       "      <td>False</td>\n",
       "      <td>False</td>\n",
       "      <td>False</td>\n",
       "      <td>False</td>\n",
       "      <td>False</td>\n",
       "      <td>False</td>\n",
       "      <td>False</td>\n",
       "      <td>False</td>\n",
       "      <td>False</td>\n",
       "      <td>False</td>\n",
       "      <td>True</td>\n",
       "      <td>False</td>\n",
       "    </tr>\n",
       "    <tr>\n",
       "      <th>3</th>\n",
       "      <td>0</td>\n",
       "      <td>42</td>\n",
       "      <td>19000000</td>\n",
       "      <td>0.00</td>\n",
       "      <td>0</td>\n",
       "      <td>0.00</td>\n",
       "      <td>12</td>\n",
       "      <td>False</td>\n",
       "      <td>False</td>\n",
       "      <td>False</td>\n",
       "      <td>False</td>\n",
       "      <td>False</td>\n",
       "      <td>False</td>\n",
       "      <td>False</td>\n",
       "      <td>True</td>\n",
       "      <td>False</td>\n",
       "      <td>False</td>\n",
       "      <td>False</td>\n",
       "      <td>False</td>\n",
       "      <td>False</td>\n",
       "      <td>False</td>\n",
       "      <td>False</td>\n",
       "      <td>False</td>\n",
       "      <td>False</td>\n",
       "      <td>False</td>\n",
       "      <td>False</td>\n",
       "      <td>True</td>\n",
       "      <td>False</td>\n",
       "    </tr>\n",
       "    <tr>\n",
       "      <th>4</th>\n",
       "      <td>6</td>\n",
       "      <td>43</td>\n",
       "      <td>29000000</td>\n",
       "      <td>431190.68</td>\n",
       "      <td>0</td>\n",
       "      <td>555048.18</td>\n",
       "      <td>12</td>\n",
       "      <td>False</td>\n",
       "      <td>False</td>\n",
       "      <td>False</td>\n",
       "      <td>False</td>\n",
       "      <td>False</td>\n",
       "      <td>False</td>\n",
       "      <td>False</td>\n",
       "      <td>False</td>\n",
       "      <td>True</td>\n",
       "      <td>False</td>\n",
       "      <td>False</td>\n",
       "      <td>False</td>\n",
       "      <td>False</td>\n",
       "      <td>False</td>\n",
       "      <td>False</td>\n",
       "      <td>False</td>\n",
       "      <td>False</td>\n",
       "      <td>False</td>\n",
       "      <td>False</td>\n",
       "      <td>True</td>\n",
       "      <td>False</td>\n",
       "    </tr>\n",
       "  </tbody>\n",
       "</table>\n",
       "</div>"
      ],
      "text/plain": [
       "   Active Months  Age  Avg. Annual Income/Month  Delta Balance  Diff PH  \\\n",
       "0              3   29                  33000000     1187036.18        0   \n",
       "1              0   68                  17000000           0.00        0   \n",
       "2              3   25                  12000000     1351820.24        0   \n",
       "3              0   42                  19000000           0.00        0   \n",
       "4              6   43                  29000000      431190.68        0   \n",
       "\n",
       "   Mean Balance  Vintage_CR  Branch Code_1001  Branch Code_1002  \\\n",
       "0     593518.09          12              True             False   \n",
       "1          0.00          12             False             False   \n",
       "2     675910.12          12             False             False   \n",
       "3          0.00          12             False             False   \n",
       "4     555048.18          12             False             False   \n",
       "\n",
       "   Branch Code_1003  Branch Code_1004  Branch Code_1005  Branch Code_1006  \\\n",
       "0             False             False             False             False   \n",
       "1             False             False              True             False   \n",
       "2             False             False             False             False   \n",
       "3             False             False             False             False   \n",
       "4             False             False             False             False   \n",
       "\n",
       "   Branch Code_1007  Branch Code_1008  Branch Code_1009  Branch Code_1011  \\\n",
       "0             False             False             False             False   \n",
       "1             False             False             False             False   \n",
       "2             False             False              True             False   \n",
       "3             False              True             False             False   \n",
       "4             False             False              True             False   \n",
       "\n",
       "   Branch Code_1012  Branch Code_1013  Branch Code_1014  Branch Code_1015  \\\n",
       "0             False             False             False             False   \n",
       "1             False             False             False             False   \n",
       "2             False             False             False             False   \n",
       "3             False             False             False             False   \n",
       "4             False             False             False             False   \n",
       "\n",
       "   Branch Code_1021  Branch Code_1022  Branch Code_1023  Branch Code_1024  \\\n",
       "0             False             False             False             False   \n",
       "1             False             False             False             False   \n",
       "2             False             False             False             False   \n",
       "3             False             False             False             False   \n",
       "4             False             False             False             False   \n",
       "\n",
       "   City_Bandung  City_Jakarta  City_Surabaya  \n",
       "0         False          True          False  \n",
       "1         False          True          False  \n",
       "2         False          True          False  \n",
       "3         False          True          False  \n",
       "4         False          True          False  "
      ]
     },
     "execution_count": 48,
     "metadata": {},
     "output_type": "execute_result"
    }
   ],
   "source": [
    "predictor2.head()"
   ]
  },
  {
   "cell_type": "code",
   "execution_count": 49,
   "metadata": {
    "id": "qR7-lEIKb5La"
   },
   "outputs": [],
   "source": [
    "predname = predictor1.columns\n",
    "predname_num = predictor1.columns[0:11]\n",
    "predname_cat = predictor1.columns[11:32]"
   ]
  },
  {
   "cell_type": "code",
   "execution_count": 50,
   "metadata": {
    "colab": {
     "base_uri": "https://localhost:8080/"
    },
    "id": "sDkF9d7Jb5La",
    "outputId": "c2b775ac-d0a6-473b-965d-ff40232a26a7"
   },
   "outputs": [
    {
     "data": {
      "text/plain": [
       "Index(['Active Months', 'Age', 'Avg. Annual Income/Month', 'Delta Balance',\n",
       "       'Diff PH', 'Mean Balance', 'Vintage_CR', 'Branch Code_1001',\n",
       "       'Branch Code_1002', 'Branch Code_1003', 'Branch Code_1004',\n",
       "       'Branch Code_1005', 'Branch Code_1006', 'Branch Code_1007',\n",
       "       'Branch Code_1008', 'Branch Code_1009', 'Branch Code_1011',\n",
       "       'Branch Code_1012', 'Branch Code_1013', 'Branch Code_1014',\n",
       "       'Branch Code_1015', 'Branch Code_1021', 'Branch Code_1022',\n",
       "       'Branch Code_1023', 'Branch Code_1024', 'City_Bandung', 'City_Jakarta',\n",
       "       'City_Surabaya'],\n",
       "      dtype='object')"
      ]
     },
     "execution_count": 50,
     "metadata": {},
     "output_type": "execute_result"
    }
   ],
   "source": [
    "predname"
   ]
  },
  {
   "cell_type": "code",
   "execution_count": 51,
   "metadata": {
    "colab": {
     "base_uri": "https://localhost:8080/"
    },
    "id": "BQHfd-8mb5Lb",
    "outputId": "848b92e1-4e1e-4227-d56b-1d14a98ba636",
    "scrolled": true
   },
   "outputs": [
    {
     "data": {
      "text/plain": [
       "Index(['Active Months', 'Age', 'Avg. Annual Income/Month', 'Delta Balance',\n",
       "       'Diff PH', 'Mean Balance', 'Vintage_CR', 'Branch Code_1001',\n",
       "       'Branch Code_1002', 'Branch Code_1003', 'Branch Code_1004'],\n",
       "      dtype='object')"
      ]
     },
     "execution_count": 51,
     "metadata": {},
     "output_type": "execute_result"
    }
   ],
   "source": [
    "predname_num"
   ]
  },
  {
   "cell_type": "code",
   "execution_count": 52,
   "metadata": {
    "colab": {
     "base_uri": "https://localhost:8080/"
    },
    "id": "mucNqBM_b5Lb",
    "outputId": "5b703e0c-a71c-4f92-bf22-c2fba7214721"
   },
   "outputs": [
    {
     "data": {
      "text/plain": [
       "Index(['Branch Code_1005', 'Branch Code_1006', 'Branch Code_1007',\n",
       "       'Branch Code_1008', 'Branch Code_1009', 'Branch Code_1011',\n",
       "       'Branch Code_1012', 'Branch Code_1013', 'Branch Code_1014',\n",
       "       'Branch Code_1015', 'Branch Code_1021', 'Branch Code_1022',\n",
       "       'Branch Code_1023', 'Branch Code_1024', 'City_Bandung', 'City_Jakarta',\n",
       "       'City_Surabaya'],\n",
       "      dtype='object')"
      ]
     },
     "execution_count": 52,
     "metadata": {},
     "output_type": "execute_result"
    }
   ],
   "source": [
    "predname_cat"
   ]
  },
  {
   "cell_type": "code",
   "execution_count": 53,
   "metadata": {
    "id": "J6VE0-U1b5Lb"
   },
   "outputs": [],
   "source": [
    "X1_num = predictor1[predname_num]\n",
    "X2_num = predictor2[predname_num]\n",
    "X1_cat = predictor1[predname_cat]\n",
    "X2_cat = predictor2[predname_cat]"
   ]
  },
  {
   "cell_type": "markdown",
   "metadata": {
    "id": "15Swza8Db5Lc"
   },
   "source": [
    "Standardisasi Data Numerik"
   ]
  },
  {
   "cell_type": "code",
   "execution_count": 54,
   "metadata": {
    "colab": {
     "base_uri": "https://localhost:8080/",
     "height": 206
    },
    "id": "0oAspV-Wb5Lc",
    "outputId": "f65a7238-dfd2-476b-c746-abdd910194bf"
   },
   "outputs": [
    {
     "data": {
      "text/html": [
       "<div>\n",
       "<style scoped>\n",
       "    .dataframe tbody tr th:only-of-type {\n",
       "        vertical-align: middle;\n",
       "    }\n",
       "\n",
       "    .dataframe tbody tr th {\n",
       "        vertical-align: top;\n",
       "    }\n",
       "\n",
       "    .dataframe thead th {\n",
       "        text-align: right;\n",
       "    }\n",
       "</style>\n",
       "<table border=\"1\" class=\"dataframe\">\n",
       "  <thead>\n",
       "    <tr style=\"text-align: right;\">\n",
       "      <th></th>\n",
       "      <th>0</th>\n",
       "      <th>1</th>\n",
       "      <th>2</th>\n",
       "      <th>3</th>\n",
       "      <th>4</th>\n",
       "      <th>5</th>\n",
       "      <th>6</th>\n",
       "      <th>7</th>\n",
       "      <th>8</th>\n",
       "      <th>9</th>\n",
       "      <th>10</th>\n",
       "    </tr>\n",
       "  </thead>\n",
       "  <tbody>\n",
       "    <tr>\n",
       "      <th>0</th>\n",
       "      <td>-0.135176</td>\n",
       "      <td>-1.185374</td>\n",
       "      <td>0.663649</td>\n",
       "      <td>1.964593</td>\n",
       "      <td>-0.531491</td>\n",
       "      <td>-0.947970</td>\n",
       "      <td>0.296502</td>\n",
       "      <td>5.902044</td>\n",
       "      <td>-0.170668</td>\n",
       "      <td>-0.170668</td>\n",
       "      <td>-0.17513</td>\n",
       "    </tr>\n",
       "    <tr>\n",
       "      <th>1</th>\n",
       "      <td>-1.013239</td>\n",
       "      <td>1.580668</td>\n",
       "      <td>-0.680854</td>\n",
       "      <td>-0.319523</td>\n",
       "      <td>-0.531491</td>\n",
       "      <td>-0.953281</td>\n",
       "      <td>0.296502</td>\n",
       "      <td>-0.169433</td>\n",
       "      <td>-0.170668</td>\n",
       "      <td>-0.170668</td>\n",
       "      <td>-0.17513</td>\n",
       "    </tr>\n",
       "    <tr>\n",
       "      <th>2</th>\n",
       "      <td>-1.013239</td>\n",
       "      <td>-1.469071</td>\n",
       "      <td>-1.101011</td>\n",
       "      <td>2.281673</td>\n",
       "      <td>-0.531491</td>\n",
       "      <td>-0.947232</td>\n",
       "      <td>0.296502</td>\n",
       "      <td>-0.169433</td>\n",
       "      <td>-0.170668</td>\n",
       "      <td>-0.170668</td>\n",
       "      <td>-0.17513</td>\n",
       "    </tr>\n",
       "    <tr>\n",
       "      <th>3</th>\n",
       "      <td>-1.013239</td>\n",
       "      <td>-0.263360</td>\n",
       "      <td>-0.512791</td>\n",
       "      <td>-0.319523</td>\n",
       "      <td>-0.531491</td>\n",
       "      <td>-0.953281</td>\n",
       "      <td>0.296502</td>\n",
       "      <td>-0.169433</td>\n",
       "      <td>-0.170668</td>\n",
       "      <td>-0.170668</td>\n",
       "      <td>-0.17513</td>\n",
       "    </tr>\n",
       "    <tr>\n",
       "      <th>4</th>\n",
       "      <td>-0.135176</td>\n",
       "      <td>-0.192436</td>\n",
       "      <td>0.327524</td>\n",
       "      <td>0.510182</td>\n",
       "      <td>-0.531491</td>\n",
       "      <td>-0.948314</td>\n",
       "      <td>0.296502</td>\n",
       "      <td>-0.169433</td>\n",
       "      <td>-0.170668</td>\n",
       "      <td>-0.170668</td>\n",
       "      <td>-0.17513</td>\n",
       "    </tr>\n",
       "  </tbody>\n",
       "</table>\n",
       "</div>"
      ],
      "text/plain": [
       "         0         1         2         3         4         5         6   \\\n",
       "0 -0.135176 -1.185374  0.663649  1.964593 -0.531491 -0.947970  0.296502   \n",
       "1 -1.013239  1.580668 -0.680854 -0.319523 -0.531491 -0.953281  0.296502   \n",
       "2 -1.013239 -1.469071 -1.101011  2.281673 -0.531491 -0.947232  0.296502   \n",
       "3 -1.013239 -0.263360 -0.512791 -0.319523 -0.531491 -0.953281  0.296502   \n",
       "4 -0.135176 -0.192436  0.327524  0.510182 -0.531491 -0.948314  0.296502   \n",
       "\n",
       "         7         8         9        10  \n",
       "0  5.902044 -0.170668 -0.170668 -0.17513  \n",
       "1 -0.169433 -0.170668 -0.170668 -0.17513  \n",
       "2 -0.169433 -0.170668 -0.170668 -0.17513  \n",
       "3 -0.169433 -0.170668 -0.170668 -0.17513  \n",
       "4 -0.169433 -0.170668 -0.170668 -0.17513  "
      ]
     },
     "execution_count": 54,
     "metadata": {},
     "output_type": "execute_result"
    }
   ],
   "source": [
    "from sklearn.preprocessing import StandardScaler\n",
    "pt = StandardScaler()\n",
    "X1_num = pd.DataFrame(pt.fit_transform(X1_num))\n",
    "X1_num.head()"
   ]
  },
  {
   "cell_type": "code",
   "execution_count": 55,
   "metadata": {
    "colab": {
     "base_uri": "https://localhost:8080/",
     "height": 206
    },
    "id": "OD1yr7OTb5Lc",
    "outputId": "304f8987-cad2-456f-cbd8-036f35d8a184"
   },
   "outputs": [
    {
     "data": {
      "text/html": [
       "<div>\n",
       "<style scoped>\n",
       "    .dataframe tbody tr th:only-of-type {\n",
       "        vertical-align: middle;\n",
       "    }\n",
       "\n",
       "    .dataframe tbody tr th {\n",
       "        vertical-align: top;\n",
       "    }\n",
       "\n",
       "    .dataframe thead th {\n",
       "        text-align: right;\n",
       "    }\n",
       "</style>\n",
       "<table border=\"1\" class=\"dataframe\">\n",
       "  <thead>\n",
       "    <tr style=\"text-align: right;\">\n",
       "      <th></th>\n",
       "      <th>Active Months</th>\n",
       "      <th>Age</th>\n",
       "      <th>Avg. Annual Income/Month</th>\n",
       "      <th>Delta Balance</th>\n",
       "      <th>Diff PH</th>\n",
       "      <th>Mean Balance</th>\n",
       "      <th>Vintage_CR</th>\n",
       "      <th>Branch Code_1001</th>\n",
       "      <th>Branch Code_1002</th>\n",
       "      <th>Branch Code_1003</th>\n",
       "      <th>Branch Code_1004</th>\n",
       "    </tr>\n",
       "  </thead>\n",
       "  <tbody>\n",
       "    <tr>\n",
       "      <th>0</th>\n",
       "      <td>-0.135176</td>\n",
       "      <td>-1.185374</td>\n",
       "      <td>0.663649</td>\n",
       "      <td>1.964593</td>\n",
       "      <td>-0.531491</td>\n",
       "      <td>-0.947970</td>\n",
       "      <td>0.296502</td>\n",
       "      <td>5.902044</td>\n",
       "      <td>-0.170668</td>\n",
       "      <td>-0.170668</td>\n",
       "      <td>-0.17513</td>\n",
       "    </tr>\n",
       "    <tr>\n",
       "      <th>1</th>\n",
       "      <td>-1.013239</td>\n",
       "      <td>1.580668</td>\n",
       "      <td>-0.680854</td>\n",
       "      <td>-0.319523</td>\n",
       "      <td>-0.531491</td>\n",
       "      <td>-0.953281</td>\n",
       "      <td>0.296502</td>\n",
       "      <td>-0.169433</td>\n",
       "      <td>-0.170668</td>\n",
       "      <td>-0.170668</td>\n",
       "      <td>-0.17513</td>\n",
       "    </tr>\n",
       "    <tr>\n",
       "      <th>2</th>\n",
       "      <td>-1.013239</td>\n",
       "      <td>-1.469071</td>\n",
       "      <td>-1.101011</td>\n",
       "      <td>2.281673</td>\n",
       "      <td>-0.531491</td>\n",
       "      <td>-0.947232</td>\n",
       "      <td>0.296502</td>\n",
       "      <td>-0.169433</td>\n",
       "      <td>-0.170668</td>\n",
       "      <td>-0.170668</td>\n",
       "      <td>-0.17513</td>\n",
       "    </tr>\n",
       "    <tr>\n",
       "      <th>3</th>\n",
       "      <td>-1.013239</td>\n",
       "      <td>-0.263360</td>\n",
       "      <td>-0.512791</td>\n",
       "      <td>-0.319523</td>\n",
       "      <td>-0.531491</td>\n",
       "      <td>-0.953281</td>\n",
       "      <td>0.296502</td>\n",
       "      <td>-0.169433</td>\n",
       "      <td>-0.170668</td>\n",
       "      <td>-0.170668</td>\n",
       "      <td>-0.17513</td>\n",
       "    </tr>\n",
       "    <tr>\n",
       "      <th>4</th>\n",
       "      <td>-0.135176</td>\n",
       "      <td>-0.192436</td>\n",
       "      <td>0.327524</td>\n",
       "      <td>0.510182</td>\n",
       "      <td>-0.531491</td>\n",
       "      <td>-0.948314</td>\n",
       "      <td>0.296502</td>\n",
       "      <td>-0.169433</td>\n",
       "      <td>-0.170668</td>\n",
       "      <td>-0.170668</td>\n",
       "      <td>-0.17513</td>\n",
       "    </tr>\n",
       "  </tbody>\n",
       "</table>\n",
       "</div>"
      ],
      "text/plain": [
       "   Active Months       Age  Avg. Annual Income/Month  Delta Balance   Diff PH  \\\n",
       "0      -0.135176 -1.185374                  0.663649       1.964593 -0.531491   \n",
       "1      -1.013239  1.580668                 -0.680854      -0.319523 -0.531491   \n",
       "2      -1.013239 -1.469071                 -1.101011       2.281673 -0.531491   \n",
       "3      -1.013239 -0.263360                 -0.512791      -0.319523 -0.531491   \n",
       "4      -0.135176 -0.192436                  0.327524       0.510182 -0.531491   \n",
       "\n",
       "   Mean Balance  Vintage_CR  Branch Code_1001  Branch Code_1002  \\\n",
       "0     -0.947970    0.296502          5.902044         -0.170668   \n",
       "1     -0.953281    0.296502         -0.169433         -0.170668   \n",
       "2     -0.947232    0.296502         -0.169433         -0.170668   \n",
       "3     -0.953281    0.296502         -0.169433         -0.170668   \n",
       "4     -0.948314    0.296502         -0.169433         -0.170668   \n",
       "\n",
       "   Branch Code_1003  Branch Code_1004  \n",
       "0         -0.170668          -0.17513  \n",
       "1         -0.170668          -0.17513  \n",
       "2         -0.170668          -0.17513  \n",
       "3         -0.170668          -0.17513  \n",
       "4         -0.170668          -0.17513  "
      ]
     },
     "execution_count": 55,
     "metadata": {},
     "output_type": "execute_result"
    }
   ],
   "source": [
    "X1_num.columns = predname_num\n",
    "X1_num.head()"
   ]
  },
  {
   "cell_type": "code",
   "execution_count": 56,
   "metadata": {
    "colab": {
     "base_uri": "https://localhost:8080/",
     "height": 206
    },
    "id": "0iuFe_NDb5Lc",
    "outputId": "e8cea873-0ffc-41c1-ac9a-211cbde39993"
   },
   "outputs": [
    {
     "data": {
      "text/html": [
       "<div>\n",
       "<style scoped>\n",
       "    .dataframe tbody tr th:only-of-type {\n",
       "        vertical-align: middle;\n",
       "    }\n",
       "\n",
       "    .dataframe tbody tr th {\n",
       "        vertical-align: top;\n",
       "    }\n",
       "\n",
       "    .dataframe thead th {\n",
       "        text-align: right;\n",
       "    }\n",
       "</style>\n",
       "<table border=\"1\" class=\"dataframe\">\n",
       "  <thead>\n",
       "    <tr style=\"text-align: right;\">\n",
       "      <th></th>\n",
       "      <th>0</th>\n",
       "      <th>1</th>\n",
       "      <th>2</th>\n",
       "      <th>3</th>\n",
       "      <th>4</th>\n",
       "      <th>5</th>\n",
       "      <th>6</th>\n",
       "      <th>7</th>\n",
       "      <th>8</th>\n",
       "      <th>9</th>\n",
       "      <th>10</th>\n",
       "    </tr>\n",
       "  </thead>\n",
       "  <tbody>\n",
       "    <tr>\n",
       "      <th>0</th>\n",
       "      <td>-0.165835</td>\n",
       "      <td>-1.185374</td>\n",
       "      <td>0.663649</td>\n",
       "      <td>2.641819</td>\n",
       "      <td>-0.440014</td>\n",
       "      <td>-0.944440</td>\n",
       "      <td>0.296502</td>\n",
       "      <td>5.902044</td>\n",
       "      <td>-0.170668</td>\n",
       "      <td>-0.170668</td>\n",
       "      <td>-0.17513</td>\n",
       "    </tr>\n",
       "    <tr>\n",
       "      <th>1</th>\n",
       "      <td>-1.471959</td>\n",
       "      <td>1.580668</td>\n",
       "      <td>-0.680854</td>\n",
       "      <td>-0.233476</td>\n",
       "      <td>-0.440014</td>\n",
       "      <td>-0.955071</td>\n",
       "      <td>0.296502</td>\n",
       "      <td>-0.169433</td>\n",
       "      <td>-0.170668</td>\n",
       "      <td>-0.170668</td>\n",
       "      <td>-0.17513</td>\n",
       "    </tr>\n",
       "    <tr>\n",
       "      <th>2</th>\n",
       "      <td>-0.165835</td>\n",
       "      <td>-1.469071</td>\n",
       "      <td>-1.101011</td>\n",
       "      <td>3.040967</td>\n",
       "      <td>-0.440014</td>\n",
       "      <td>-0.942964</td>\n",
       "      <td>0.296502</td>\n",
       "      <td>-0.169433</td>\n",
       "      <td>-0.170668</td>\n",
       "      <td>-0.170668</td>\n",
       "      <td>-0.17513</td>\n",
       "    </tr>\n",
       "    <tr>\n",
       "      <th>3</th>\n",
       "      <td>-1.471959</td>\n",
       "      <td>-0.263360</td>\n",
       "      <td>-0.512791</td>\n",
       "      <td>-0.233476</td>\n",
       "      <td>-0.440014</td>\n",
       "      <td>-0.955071</td>\n",
       "      <td>0.296502</td>\n",
       "      <td>-0.169433</td>\n",
       "      <td>-0.170668</td>\n",
       "      <td>-0.170668</td>\n",
       "      <td>-0.17513</td>\n",
       "    </tr>\n",
       "    <tr>\n",
       "      <th>4</th>\n",
       "      <td>1.140289</td>\n",
       "      <td>-0.192436</td>\n",
       "      <td>0.327524</td>\n",
       "      <td>0.810974</td>\n",
       "      <td>-0.440014</td>\n",
       "      <td>-0.945129</td>\n",
       "      <td>0.296502</td>\n",
       "      <td>-0.169433</td>\n",
       "      <td>-0.170668</td>\n",
       "      <td>-0.170668</td>\n",
       "      <td>-0.17513</td>\n",
       "    </tr>\n",
       "  </tbody>\n",
       "</table>\n",
       "</div>"
      ],
      "text/plain": [
       "         0         1         2         3         4         5         6   \\\n",
       "0 -0.165835 -1.185374  0.663649  2.641819 -0.440014 -0.944440  0.296502   \n",
       "1 -1.471959  1.580668 -0.680854 -0.233476 -0.440014 -0.955071  0.296502   \n",
       "2 -0.165835 -1.469071 -1.101011  3.040967 -0.440014 -0.942964  0.296502   \n",
       "3 -1.471959 -0.263360 -0.512791 -0.233476 -0.440014 -0.955071  0.296502   \n",
       "4  1.140289 -0.192436  0.327524  0.810974 -0.440014 -0.945129  0.296502   \n",
       "\n",
       "         7         8         9        10  \n",
       "0  5.902044 -0.170668 -0.170668 -0.17513  \n",
       "1 -0.169433 -0.170668 -0.170668 -0.17513  \n",
       "2 -0.169433 -0.170668 -0.170668 -0.17513  \n",
       "3 -0.169433 -0.170668 -0.170668 -0.17513  \n",
       "4 -0.169433 -0.170668 -0.170668 -0.17513  "
      ]
     },
     "execution_count": 56,
     "metadata": {},
     "output_type": "execute_result"
    }
   ],
   "source": [
    "X2_num = pd.DataFrame(pt.fit_transform(X2_num))\n",
    "X2_num.head()"
   ]
  },
  {
   "cell_type": "code",
   "execution_count": 57,
   "metadata": {
    "colab": {
     "base_uri": "https://localhost:8080/",
     "height": 206
    },
    "id": "4o5CwVTMb5Ld",
    "outputId": "d8a54aff-3980-43dd-bd5a-b0bc9e1efc64"
   },
   "outputs": [
    {
     "data": {
      "text/html": [
       "<div>\n",
       "<style scoped>\n",
       "    .dataframe tbody tr th:only-of-type {\n",
       "        vertical-align: middle;\n",
       "    }\n",
       "\n",
       "    .dataframe tbody tr th {\n",
       "        vertical-align: top;\n",
       "    }\n",
       "\n",
       "    .dataframe thead th {\n",
       "        text-align: right;\n",
       "    }\n",
       "</style>\n",
       "<table border=\"1\" class=\"dataframe\">\n",
       "  <thead>\n",
       "    <tr style=\"text-align: right;\">\n",
       "      <th></th>\n",
       "      <th>Active Months</th>\n",
       "      <th>Age</th>\n",
       "      <th>Avg. Annual Income/Month</th>\n",
       "      <th>Delta Balance</th>\n",
       "      <th>Diff PH</th>\n",
       "      <th>Mean Balance</th>\n",
       "      <th>Vintage_CR</th>\n",
       "      <th>Branch Code_1001</th>\n",
       "      <th>Branch Code_1002</th>\n",
       "      <th>Branch Code_1003</th>\n",
       "      <th>Branch Code_1004</th>\n",
       "    </tr>\n",
       "  </thead>\n",
       "  <tbody>\n",
       "    <tr>\n",
       "      <th>0</th>\n",
       "      <td>-0.165835</td>\n",
       "      <td>-1.185374</td>\n",
       "      <td>0.663649</td>\n",
       "      <td>2.641819</td>\n",
       "      <td>-0.440014</td>\n",
       "      <td>-0.944440</td>\n",
       "      <td>0.296502</td>\n",
       "      <td>5.902044</td>\n",
       "      <td>-0.170668</td>\n",
       "      <td>-0.170668</td>\n",
       "      <td>-0.17513</td>\n",
       "    </tr>\n",
       "    <tr>\n",
       "      <th>1</th>\n",
       "      <td>-1.471959</td>\n",
       "      <td>1.580668</td>\n",
       "      <td>-0.680854</td>\n",
       "      <td>-0.233476</td>\n",
       "      <td>-0.440014</td>\n",
       "      <td>-0.955071</td>\n",
       "      <td>0.296502</td>\n",
       "      <td>-0.169433</td>\n",
       "      <td>-0.170668</td>\n",
       "      <td>-0.170668</td>\n",
       "      <td>-0.17513</td>\n",
       "    </tr>\n",
       "    <tr>\n",
       "      <th>2</th>\n",
       "      <td>-0.165835</td>\n",
       "      <td>-1.469071</td>\n",
       "      <td>-1.101011</td>\n",
       "      <td>3.040967</td>\n",
       "      <td>-0.440014</td>\n",
       "      <td>-0.942964</td>\n",
       "      <td>0.296502</td>\n",
       "      <td>-0.169433</td>\n",
       "      <td>-0.170668</td>\n",
       "      <td>-0.170668</td>\n",
       "      <td>-0.17513</td>\n",
       "    </tr>\n",
       "    <tr>\n",
       "      <th>3</th>\n",
       "      <td>-1.471959</td>\n",
       "      <td>-0.263360</td>\n",
       "      <td>-0.512791</td>\n",
       "      <td>-0.233476</td>\n",
       "      <td>-0.440014</td>\n",
       "      <td>-0.955071</td>\n",
       "      <td>0.296502</td>\n",
       "      <td>-0.169433</td>\n",
       "      <td>-0.170668</td>\n",
       "      <td>-0.170668</td>\n",
       "      <td>-0.17513</td>\n",
       "    </tr>\n",
       "    <tr>\n",
       "      <th>4</th>\n",
       "      <td>1.140289</td>\n",
       "      <td>-0.192436</td>\n",
       "      <td>0.327524</td>\n",
       "      <td>0.810974</td>\n",
       "      <td>-0.440014</td>\n",
       "      <td>-0.945129</td>\n",
       "      <td>0.296502</td>\n",
       "      <td>-0.169433</td>\n",
       "      <td>-0.170668</td>\n",
       "      <td>-0.170668</td>\n",
       "      <td>-0.17513</td>\n",
       "    </tr>\n",
       "  </tbody>\n",
       "</table>\n",
       "</div>"
      ],
      "text/plain": [
       "   Active Months       Age  Avg. Annual Income/Month  Delta Balance   Diff PH  \\\n",
       "0      -0.165835 -1.185374                  0.663649       2.641819 -0.440014   \n",
       "1      -1.471959  1.580668                 -0.680854      -0.233476 -0.440014   \n",
       "2      -0.165835 -1.469071                 -1.101011       3.040967 -0.440014   \n",
       "3      -1.471959 -0.263360                 -0.512791      -0.233476 -0.440014   \n",
       "4       1.140289 -0.192436                  0.327524       0.810974 -0.440014   \n",
       "\n",
       "   Mean Balance  Vintage_CR  Branch Code_1001  Branch Code_1002  \\\n",
       "0     -0.944440    0.296502          5.902044         -0.170668   \n",
       "1     -0.955071    0.296502         -0.169433         -0.170668   \n",
       "2     -0.942964    0.296502         -0.169433         -0.170668   \n",
       "3     -0.955071    0.296502         -0.169433         -0.170668   \n",
       "4     -0.945129    0.296502         -0.169433         -0.170668   \n",
       "\n",
       "   Branch Code_1003  Branch Code_1004  \n",
       "0         -0.170668          -0.17513  \n",
       "1         -0.170668          -0.17513  \n",
       "2         -0.170668          -0.17513  \n",
       "3         -0.170668          -0.17513  \n",
       "4         -0.170668          -0.17513  "
      ]
     },
     "execution_count": 57,
     "metadata": {},
     "output_type": "execute_result"
    }
   ],
   "source": [
    "X2_num.columns = predname_num\n",
    "X2_num.head()"
   ]
  },
  {
   "cell_type": "markdown",
   "metadata": {
    "id": "vW5yTf_sb5Ld"
   },
   "source": [
    "## Menggabungkan Dataset Prediktor"
   ]
  },
  {
   "cell_type": "code",
   "execution_count": 58,
   "metadata": {
    "id": "WNCynNwwb5Lh"
   },
   "outputs": [],
   "source": [
    "X1 = pd.concat([X1_cat, X1_num], axis = 1)\n",
    "X2 = pd.concat([X2_cat, X2_num], axis = 1)"
   ]
  },
  {
   "cell_type": "code",
   "execution_count": 59,
   "metadata": {
    "colab": {
     "base_uri": "https://localhost:8080/",
     "height": 243
    },
    "id": "EEDFmtVxb5Lh",
    "outputId": "2816fad1-c4f3-453e-9f72-9d6d4d3df535"
   },
   "outputs": [
    {
     "data": {
      "text/html": [
       "<div>\n",
       "<style scoped>\n",
       "    .dataframe tbody tr th:only-of-type {\n",
       "        vertical-align: middle;\n",
       "    }\n",
       "\n",
       "    .dataframe tbody tr th {\n",
       "        vertical-align: top;\n",
       "    }\n",
       "\n",
       "    .dataframe thead th {\n",
       "        text-align: right;\n",
       "    }\n",
       "</style>\n",
       "<table border=\"1\" class=\"dataframe\">\n",
       "  <thead>\n",
       "    <tr style=\"text-align: right;\">\n",
       "      <th></th>\n",
       "      <th>Branch Code_1005</th>\n",
       "      <th>Branch Code_1006</th>\n",
       "      <th>Branch Code_1007</th>\n",
       "      <th>Branch Code_1008</th>\n",
       "      <th>Branch Code_1009</th>\n",
       "      <th>Branch Code_1011</th>\n",
       "      <th>Branch Code_1012</th>\n",
       "      <th>Branch Code_1013</th>\n",
       "      <th>Branch Code_1014</th>\n",
       "      <th>Branch Code_1015</th>\n",
       "      <th>Branch Code_1021</th>\n",
       "      <th>Branch Code_1022</th>\n",
       "      <th>Branch Code_1023</th>\n",
       "      <th>Branch Code_1024</th>\n",
       "      <th>City_Bandung</th>\n",
       "      <th>City_Jakarta</th>\n",
       "      <th>City_Surabaya</th>\n",
       "      <th>Active Months</th>\n",
       "      <th>Age</th>\n",
       "      <th>Avg. Annual Income/Month</th>\n",
       "      <th>Delta Balance</th>\n",
       "      <th>Diff PH</th>\n",
       "      <th>Mean Balance</th>\n",
       "      <th>Vintage_CR</th>\n",
       "      <th>Branch Code_1001</th>\n",
       "      <th>Branch Code_1002</th>\n",
       "      <th>Branch Code_1003</th>\n",
       "      <th>Branch Code_1004</th>\n",
       "    </tr>\n",
       "  </thead>\n",
       "  <tbody>\n",
       "    <tr>\n",
       "      <th>0</th>\n",
       "      <td>False</td>\n",
       "      <td>False</td>\n",
       "      <td>False</td>\n",
       "      <td>False</td>\n",
       "      <td>False</td>\n",
       "      <td>False</td>\n",
       "      <td>False</td>\n",
       "      <td>False</td>\n",
       "      <td>False</td>\n",
       "      <td>False</td>\n",
       "      <td>False</td>\n",
       "      <td>False</td>\n",
       "      <td>False</td>\n",
       "      <td>False</td>\n",
       "      <td>False</td>\n",
       "      <td>True</td>\n",
       "      <td>False</td>\n",
       "      <td>-0.135176</td>\n",
       "      <td>-1.185374</td>\n",
       "      <td>0.663649</td>\n",
       "      <td>1.964593</td>\n",
       "      <td>-0.531491</td>\n",
       "      <td>-0.947970</td>\n",
       "      <td>0.296502</td>\n",
       "      <td>5.902044</td>\n",
       "      <td>-0.170668</td>\n",
       "      <td>-0.170668</td>\n",
       "      <td>-0.17513</td>\n",
       "    </tr>\n",
       "    <tr>\n",
       "      <th>1</th>\n",
       "      <td>True</td>\n",
       "      <td>False</td>\n",
       "      <td>False</td>\n",
       "      <td>False</td>\n",
       "      <td>False</td>\n",
       "      <td>False</td>\n",
       "      <td>False</td>\n",
       "      <td>False</td>\n",
       "      <td>False</td>\n",
       "      <td>False</td>\n",
       "      <td>False</td>\n",
       "      <td>False</td>\n",
       "      <td>False</td>\n",
       "      <td>False</td>\n",
       "      <td>False</td>\n",
       "      <td>True</td>\n",
       "      <td>False</td>\n",
       "      <td>-1.013239</td>\n",
       "      <td>1.580668</td>\n",
       "      <td>-0.680854</td>\n",
       "      <td>-0.319523</td>\n",
       "      <td>-0.531491</td>\n",
       "      <td>-0.953281</td>\n",
       "      <td>0.296502</td>\n",
       "      <td>-0.169433</td>\n",
       "      <td>-0.170668</td>\n",
       "      <td>-0.170668</td>\n",
       "      <td>-0.17513</td>\n",
       "    </tr>\n",
       "    <tr>\n",
       "      <th>2</th>\n",
       "      <td>False</td>\n",
       "      <td>False</td>\n",
       "      <td>False</td>\n",
       "      <td>False</td>\n",
       "      <td>True</td>\n",
       "      <td>False</td>\n",
       "      <td>False</td>\n",
       "      <td>False</td>\n",
       "      <td>False</td>\n",
       "      <td>False</td>\n",
       "      <td>False</td>\n",
       "      <td>False</td>\n",
       "      <td>False</td>\n",
       "      <td>False</td>\n",
       "      <td>False</td>\n",
       "      <td>True</td>\n",
       "      <td>False</td>\n",
       "      <td>-1.013239</td>\n",
       "      <td>-1.469071</td>\n",
       "      <td>-1.101011</td>\n",
       "      <td>2.281673</td>\n",
       "      <td>-0.531491</td>\n",
       "      <td>-0.947232</td>\n",
       "      <td>0.296502</td>\n",
       "      <td>-0.169433</td>\n",
       "      <td>-0.170668</td>\n",
       "      <td>-0.170668</td>\n",
       "      <td>-0.17513</td>\n",
       "    </tr>\n",
       "    <tr>\n",
       "      <th>3</th>\n",
       "      <td>False</td>\n",
       "      <td>False</td>\n",
       "      <td>False</td>\n",
       "      <td>True</td>\n",
       "      <td>False</td>\n",
       "      <td>False</td>\n",
       "      <td>False</td>\n",
       "      <td>False</td>\n",
       "      <td>False</td>\n",
       "      <td>False</td>\n",
       "      <td>False</td>\n",
       "      <td>False</td>\n",
       "      <td>False</td>\n",
       "      <td>False</td>\n",
       "      <td>False</td>\n",
       "      <td>True</td>\n",
       "      <td>False</td>\n",
       "      <td>-1.013239</td>\n",
       "      <td>-0.263360</td>\n",
       "      <td>-0.512791</td>\n",
       "      <td>-0.319523</td>\n",
       "      <td>-0.531491</td>\n",
       "      <td>-0.953281</td>\n",
       "      <td>0.296502</td>\n",
       "      <td>-0.169433</td>\n",
       "      <td>-0.170668</td>\n",
       "      <td>-0.170668</td>\n",
       "      <td>-0.17513</td>\n",
       "    </tr>\n",
       "    <tr>\n",
       "      <th>4</th>\n",
       "      <td>False</td>\n",
       "      <td>False</td>\n",
       "      <td>False</td>\n",
       "      <td>False</td>\n",
       "      <td>True</td>\n",
       "      <td>False</td>\n",
       "      <td>False</td>\n",
       "      <td>False</td>\n",
       "      <td>False</td>\n",
       "      <td>False</td>\n",
       "      <td>False</td>\n",
       "      <td>False</td>\n",
       "      <td>False</td>\n",
       "      <td>False</td>\n",
       "      <td>False</td>\n",
       "      <td>True</td>\n",
       "      <td>False</td>\n",
       "      <td>-0.135176</td>\n",
       "      <td>-0.192436</td>\n",
       "      <td>0.327524</td>\n",
       "      <td>0.510182</td>\n",
       "      <td>-0.531491</td>\n",
       "      <td>-0.948314</td>\n",
       "      <td>0.296502</td>\n",
       "      <td>-0.169433</td>\n",
       "      <td>-0.170668</td>\n",
       "      <td>-0.170668</td>\n",
       "      <td>-0.17513</td>\n",
       "    </tr>\n",
       "  </tbody>\n",
       "</table>\n",
       "</div>"
      ],
      "text/plain": [
       "   Branch Code_1005  Branch Code_1006  Branch Code_1007  Branch Code_1008  \\\n",
       "0             False             False             False             False   \n",
       "1              True             False             False             False   \n",
       "2             False             False             False             False   \n",
       "3             False             False             False              True   \n",
       "4             False             False             False             False   \n",
       "\n",
       "   Branch Code_1009  Branch Code_1011  Branch Code_1012  Branch Code_1013  \\\n",
       "0             False             False             False             False   \n",
       "1             False             False             False             False   \n",
       "2              True             False             False             False   \n",
       "3             False             False             False             False   \n",
       "4              True             False             False             False   \n",
       "\n",
       "   Branch Code_1014  Branch Code_1015  Branch Code_1021  Branch Code_1022  \\\n",
       "0             False             False             False             False   \n",
       "1             False             False             False             False   \n",
       "2             False             False             False             False   \n",
       "3             False             False             False             False   \n",
       "4             False             False             False             False   \n",
       "\n",
       "   Branch Code_1023  Branch Code_1024  City_Bandung  City_Jakarta  \\\n",
       "0             False             False         False          True   \n",
       "1             False             False         False          True   \n",
       "2             False             False         False          True   \n",
       "3             False             False         False          True   \n",
       "4             False             False         False          True   \n",
       "\n",
       "   City_Surabaya  Active Months       Age  Avg. Annual Income/Month  \\\n",
       "0          False      -0.135176 -1.185374                  0.663649   \n",
       "1          False      -1.013239  1.580668                 -0.680854   \n",
       "2          False      -1.013239 -1.469071                 -1.101011   \n",
       "3          False      -1.013239 -0.263360                 -0.512791   \n",
       "4          False      -0.135176 -0.192436                  0.327524   \n",
       "\n",
       "   Delta Balance   Diff PH  Mean Balance  Vintage_CR  Branch Code_1001  \\\n",
       "0       1.964593 -0.531491     -0.947970    0.296502          5.902044   \n",
       "1      -0.319523 -0.531491     -0.953281    0.296502         -0.169433   \n",
       "2       2.281673 -0.531491     -0.947232    0.296502         -0.169433   \n",
       "3      -0.319523 -0.531491     -0.953281    0.296502         -0.169433   \n",
       "4       0.510182 -0.531491     -0.948314    0.296502         -0.169433   \n",
       "\n",
       "   Branch Code_1002  Branch Code_1003  Branch Code_1004  \n",
       "0         -0.170668         -0.170668          -0.17513  \n",
       "1         -0.170668         -0.170668          -0.17513  \n",
       "2         -0.170668         -0.170668          -0.17513  \n",
       "3         -0.170668         -0.170668          -0.17513  \n",
       "4         -0.170668         -0.170668          -0.17513  "
      ]
     },
     "execution_count": 59,
     "metadata": {},
     "output_type": "execute_result"
    }
   ],
   "source": [
    "X1.head()"
   ]
  },
  {
   "cell_type": "code",
   "execution_count": 60,
   "metadata": {
    "colab": {
     "base_uri": "https://localhost:8080/",
     "height": 243
    },
    "id": "72oUwOUa1db7",
    "outputId": "e6fb2aa2-58ab-40c3-d36b-1826a34510f7"
   },
   "outputs": [
    {
     "data": {
      "text/html": [
       "<div>\n",
       "<style scoped>\n",
       "    .dataframe tbody tr th:only-of-type {\n",
       "        vertical-align: middle;\n",
       "    }\n",
       "\n",
       "    .dataframe tbody tr th {\n",
       "        vertical-align: top;\n",
       "    }\n",
       "\n",
       "    .dataframe thead th {\n",
       "        text-align: right;\n",
       "    }\n",
       "</style>\n",
       "<table border=\"1\" class=\"dataframe\">\n",
       "  <thead>\n",
       "    <tr style=\"text-align: right;\">\n",
       "      <th></th>\n",
       "      <th>Branch Code_1005</th>\n",
       "      <th>Branch Code_1006</th>\n",
       "      <th>Branch Code_1007</th>\n",
       "      <th>Branch Code_1008</th>\n",
       "      <th>Branch Code_1009</th>\n",
       "      <th>Branch Code_1011</th>\n",
       "      <th>Branch Code_1012</th>\n",
       "      <th>Branch Code_1013</th>\n",
       "      <th>Branch Code_1014</th>\n",
       "      <th>Branch Code_1015</th>\n",
       "      <th>Branch Code_1021</th>\n",
       "      <th>Branch Code_1022</th>\n",
       "      <th>Branch Code_1023</th>\n",
       "      <th>Branch Code_1024</th>\n",
       "      <th>City_Bandung</th>\n",
       "      <th>City_Jakarta</th>\n",
       "      <th>City_Surabaya</th>\n",
       "      <th>Active Months</th>\n",
       "      <th>Age</th>\n",
       "      <th>Avg. Annual Income/Month</th>\n",
       "      <th>Delta Balance</th>\n",
       "      <th>Diff PH</th>\n",
       "      <th>Mean Balance</th>\n",
       "      <th>Vintage_CR</th>\n",
       "      <th>Branch Code_1001</th>\n",
       "      <th>Branch Code_1002</th>\n",
       "      <th>Branch Code_1003</th>\n",
       "      <th>Branch Code_1004</th>\n",
       "    </tr>\n",
       "  </thead>\n",
       "  <tbody>\n",
       "    <tr>\n",
       "      <th>0</th>\n",
       "      <td>False</td>\n",
       "      <td>False</td>\n",
       "      <td>False</td>\n",
       "      <td>False</td>\n",
       "      <td>False</td>\n",
       "      <td>False</td>\n",
       "      <td>False</td>\n",
       "      <td>False</td>\n",
       "      <td>False</td>\n",
       "      <td>False</td>\n",
       "      <td>False</td>\n",
       "      <td>False</td>\n",
       "      <td>False</td>\n",
       "      <td>False</td>\n",
       "      <td>False</td>\n",
       "      <td>True</td>\n",
       "      <td>False</td>\n",
       "      <td>-0.165835</td>\n",
       "      <td>-1.185374</td>\n",
       "      <td>0.663649</td>\n",
       "      <td>2.641819</td>\n",
       "      <td>-0.440014</td>\n",
       "      <td>-0.944440</td>\n",
       "      <td>0.296502</td>\n",
       "      <td>5.902044</td>\n",
       "      <td>-0.170668</td>\n",
       "      <td>-0.170668</td>\n",
       "      <td>-0.17513</td>\n",
       "    </tr>\n",
       "    <tr>\n",
       "      <th>1</th>\n",
       "      <td>True</td>\n",
       "      <td>False</td>\n",
       "      <td>False</td>\n",
       "      <td>False</td>\n",
       "      <td>False</td>\n",
       "      <td>False</td>\n",
       "      <td>False</td>\n",
       "      <td>False</td>\n",
       "      <td>False</td>\n",
       "      <td>False</td>\n",
       "      <td>False</td>\n",
       "      <td>False</td>\n",
       "      <td>False</td>\n",
       "      <td>False</td>\n",
       "      <td>False</td>\n",
       "      <td>True</td>\n",
       "      <td>False</td>\n",
       "      <td>-1.471959</td>\n",
       "      <td>1.580668</td>\n",
       "      <td>-0.680854</td>\n",
       "      <td>-0.233476</td>\n",
       "      <td>-0.440014</td>\n",
       "      <td>-0.955071</td>\n",
       "      <td>0.296502</td>\n",
       "      <td>-0.169433</td>\n",
       "      <td>-0.170668</td>\n",
       "      <td>-0.170668</td>\n",
       "      <td>-0.17513</td>\n",
       "    </tr>\n",
       "    <tr>\n",
       "      <th>2</th>\n",
       "      <td>False</td>\n",
       "      <td>False</td>\n",
       "      <td>False</td>\n",
       "      <td>False</td>\n",
       "      <td>True</td>\n",
       "      <td>False</td>\n",
       "      <td>False</td>\n",
       "      <td>False</td>\n",
       "      <td>False</td>\n",
       "      <td>False</td>\n",
       "      <td>False</td>\n",
       "      <td>False</td>\n",
       "      <td>False</td>\n",
       "      <td>False</td>\n",
       "      <td>False</td>\n",
       "      <td>True</td>\n",
       "      <td>False</td>\n",
       "      <td>-0.165835</td>\n",
       "      <td>-1.469071</td>\n",
       "      <td>-1.101011</td>\n",
       "      <td>3.040967</td>\n",
       "      <td>-0.440014</td>\n",
       "      <td>-0.942964</td>\n",
       "      <td>0.296502</td>\n",
       "      <td>-0.169433</td>\n",
       "      <td>-0.170668</td>\n",
       "      <td>-0.170668</td>\n",
       "      <td>-0.17513</td>\n",
       "    </tr>\n",
       "    <tr>\n",
       "      <th>3</th>\n",
       "      <td>False</td>\n",
       "      <td>False</td>\n",
       "      <td>False</td>\n",
       "      <td>True</td>\n",
       "      <td>False</td>\n",
       "      <td>False</td>\n",
       "      <td>False</td>\n",
       "      <td>False</td>\n",
       "      <td>False</td>\n",
       "      <td>False</td>\n",
       "      <td>False</td>\n",
       "      <td>False</td>\n",
       "      <td>False</td>\n",
       "      <td>False</td>\n",
       "      <td>False</td>\n",
       "      <td>True</td>\n",
       "      <td>False</td>\n",
       "      <td>-1.471959</td>\n",
       "      <td>-0.263360</td>\n",
       "      <td>-0.512791</td>\n",
       "      <td>-0.233476</td>\n",
       "      <td>-0.440014</td>\n",
       "      <td>-0.955071</td>\n",
       "      <td>0.296502</td>\n",
       "      <td>-0.169433</td>\n",
       "      <td>-0.170668</td>\n",
       "      <td>-0.170668</td>\n",
       "      <td>-0.17513</td>\n",
       "    </tr>\n",
       "    <tr>\n",
       "      <th>4</th>\n",
       "      <td>False</td>\n",
       "      <td>False</td>\n",
       "      <td>False</td>\n",
       "      <td>False</td>\n",
       "      <td>True</td>\n",
       "      <td>False</td>\n",
       "      <td>False</td>\n",
       "      <td>False</td>\n",
       "      <td>False</td>\n",
       "      <td>False</td>\n",
       "      <td>False</td>\n",
       "      <td>False</td>\n",
       "      <td>False</td>\n",
       "      <td>False</td>\n",
       "      <td>False</td>\n",
       "      <td>True</td>\n",
       "      <td>False</td>\n",
       "      <td>1.140289</td>\n",
       "      <td>-0.192436</td>\n",
       "      <td>0.327524</td>\n",
       "      <td>0.810974</td>\n",
       "      <td>-0.440014</td>\n",
       "      <td>-0.945129</td>\n",
       "      <td>0.296502</td>\n",
       "      <td>-0.169433</td>\n",
       "      <td>-0.170668</td>\n",
       "      <td>-0.170668</td>\n",
       "      <td>-0.17513</td>\n",
       "    </tr>\n",
       "  </tbody>\n",
       "</table>\n",
       "</div>"
      ],
      "text/plain": [
       "   Branch Code_1005  Branch Code_1006  Branch Code_1007  Branch Code_1008  \\\n",
       "0             False             False             False             False   \n",
       "1              True             False             False             False   \n",
       "2             False             False             False             False   \n",
       "3             False             False             False              True   \n",
       "4             False             False             False             False   \n",
       "\n",
       "   Branch Code_1009  Branch Code_1011  Branch Code_1012  Branch Code_1013  \\\n",
       "0             False             False             False             False   \n",
       "1             False             False             False             False   \n",
       "2              True             False             False             False   \n",
       "3             False             False             False             False   \n",
       "4              True             False             False             False   \n",
       "\n",
       "   Branch Code_1014  Branch Code_1015  Branch Code_1021  Branch Code_1022  \\\n",
       "0             False             False             False             False   \n",
       "1             False             False             False             False   \n",
       "2             False             False             False             False   \n",
       "3             False             False             False             False   \n",
       "4             False             False             False             False   \n",
       "\n",
       "   Branch Code_1023  Branch Code_1024  City_Bandung  City_Jakarta  \\\n",
       "0             False             False         False          True   \n",
       "1             False             False         False          True   \n",
       "2             False             False         False          True   \n",
       "3             False             False         False          True   \n",
       "4             False             False         False          True   \n",
       "\n",
       "   City_Surabaya  Active Months       Age  Avg. Annual Income/Month  \\\n",
       "0          False      -0.165835 -1.185374                  0.663649   \n",
       "1          False      -1.471959  1.580668                 -0.680854   \n",
       "2          False      -0.165835 -1.469071                 -1.101011   \n",
       "3          False      -1.471959 -0.263360                 -0.512791   \n",
       "4          False       1.140289 -0.192436                  0.327524   \n",
       "\n",
       "   Delta Balance   Diff PH  Mean Balance  Vintage_CR  Branch Code_1001  \\\n",
       "0       2.641819 -0.440014     -0.944440    0.296502          5.902044   \n",
       "1      -0.233476 -0.440014     -0.955071    0.296502         -0.169433   \n",
       "2       3.040967 -0.440014     -0.942964    0.296502         -0.169433   \n",
       "3      -0.233476 -0.440014     -0.955071    0.296502         -0.169433   \n",
       "4       0.810974 -0.440014     -0.945129    0.296502         -0.169433   \n",
       "\n",
       "   Branch Code_1002  Branch Code_1003  Branch Code_1004  \n",
       "0         -0.170668         -0.170668          -0.17513  \n",
       "1         -0.170668         -0.170668          -0.17513  \n",
       "2         -0.170668         -0.170668          -0.17513  \n",
       "3         -0.170668         -0.170668          -0.17513  \n",
       "4         -0.170668         -0.170668          -0.17513  "
      ]
     },
     "execution_count": 60,
     "metadata": {},
     "output_type": "execute_result"
    }
   ],
   "source": [
    "X2.head()"
   ]
  },
  {
   "cell_type": "code",
   "execution_count": 61,
   "metadata": {
    "id": "DiJv7uf8b5Li"
   },
   "outputs": [],
   "source": [
    "y1 = df1['Unpaid Tagging']\n",
    "y2 = df2['Unpaid Tagging']"
   ]
  },
  {
   "cell_type": "markdown",
   "metadata": {
    "id": "BhvFfegMb5Li"
   },
   "source": [
    "## Mempersiapkan Dataset untuk Validation"
   ]
  },
  {
   "cell_type": "markdown",
   "metadata": {
    "id": "8ncCAUhTb5Li"
   },
   "source": [
    "### Import Data"
   ]
  },
  {
   "cell_type": "code",
   "execution_count": 62,
   "metadata": {
    "id": "IhkerSdmb5Lj"
   },
   "outputs": [],
   "source": [
    "df1_val = pd.read_csv(path_2)\n",
    "df2_val = pd.read_csv(path_2)"
   ]
  },
  {
   "cell_type": "code",
   "execution_count": 63,
   "metadata": {
    "colab": {
     "base_uri": "https://localhost:8080/",
     "height": 243
    },
    "id": "R2amUBLCb5Lj",
    "outputId": "a0097ea4-f136-414b-d57a-2fc2dd0e6ab5"
   },
   "outputs": [
    {
     "data": {
      "text/html": [
       "<div>\n",
       "<style scoped>\n",
       "    .dataframe tbody tr th:only-of-type {\n",
       "        vertical-align: middle;\n",
       "    }\n",
       "\n",
       "    .dataframe tbody tr th {\n",
       "        vertical-align: top;\n",
       "    }\n",
       "\n",
       "    .dataframe thead th {\n",
       "        text-align: right;\n",
       "    }\n",
       "</style>\n",
       "<table border=\"1\" class=\"dataframe\">\n",
       "  <thead>\n",
       "    <tr style=\"text-align: right;\">\n",
       "      <th></th>\n",
       "      <th>Customer ID</th>\n",
       "      <th>Branch Code</th>\n",
       "      <th>City</th>\n",
       "      <th>Age</th>\n",
       "      <th>Avg. Annual Income/Month</th>\n",
       "      <th>Balance Q2</th>\n",
       "      <th>NumOfProducts Q2</th>\n",
       "      <th>HasCrCard Q2</th>\n",
       "      <th>ActiveMember Q2</th>\n",
       "      <th>Balance Q3</th>\n",
       "      <th>NumOfProducts Q3</th>\n",
       "      <th>HasCrCard Q3</th>\n",
       "      <th>ActiveMember Q3</th>\n",
       "      <th>Balance Q4</th>\n",
       "      <th>NumOfProducts Q4</th>\n",
       "      <th>HasCrCard Q4</th>\n",
       "      <th>ActiveMember Q4</th>\n",
       "      <th>Balance Q5</th>\n",
       "      <th>NumOfProducts Q5</th>\n",
       "      <th>HasCrCard Q5</th>\n",
       "      <th>ActiveMember Q5</th>\n",
       "      <th>Unpaid Tagging</th>\n",
       "    </tr>\n",
       "  </thead>\n",
       "  <tbody>\n",
       "    <tr>\n",
       "      <th>0</th>\n",
       "      <td>15565701</td>\n",
       "      <td>1001</td>\n",
       "      <td>Jakarta</td>\n",
       "      <td>29</td>\n",
       "      <td>33000000</td>\n",
       "      <td>0.0</td>\n",
       "      <td>1</td>\n",
       "      <td>1</td>\n",
       "      <td>0</td>\n",
       "      <td>0.00</td>\n",
       "      <td>1</td>\n",
       "      <td>1</td>\n",
       "      <td>0</td>\n",
       "      <td>1187036.18</td>\n",
       "      <td>1</td>\n",
       "      <td>1</td>\n",
       "      <td>1</td>\n",
       "      <td>1305739.798</td>\n",
       "      <td>1</td>\n",
       "      <td>1</td>\n",
       "      <td>1</td>\n",
       "      <td>1</td>\n",
       "    </tr>\n",
       "    <tr>\n",
       "      <th>1</th>\n",
       "      <td>15565878</td>\n",
       "      <td>1005</td>\n",
       "      <td>Jakarta</td>\n",
       "      <td>68</td>\n",
       "      <td>17000000</td>\n",
       "      <td>0.0</td>\n",
       "      <td>2</td>\n",
       "      <td>1</td>\n",
       "      <td>0</td>\n",
       "      <td>0.00</td>\n",
       "      <td>2</td>\n",
       "      <td>1</td>\n",
       "      <td>0</td>\n",
       "      <td>0.00</td>\n",
       "      <td>2</td>\n",
       "      <td>1</td>\n",
       "      <td>0</td>\n",
       "      <td>0.000</td>\n",
       "      <td>2</td>\n",
       "      <td>1</td>\n",
       "      <td>0</td>\n",
       "      <td>1</td>\n",
       "    </tr>\n",
       "    <tr>\n",
       "      <th>2</th>\n",
       "      <td>15566091</td>\n",
       "      <td>1009</td>\n",
       "      <td>Jakarta</td>\n",
       "      <td>25</td>\n",
       "      <td>12000000</td>\n",
       "      <td>0.0</td>\n",
       "      <td>2</td>\n",
       "      <td>1</td>\n",
       "      <td>0</td>\n",
       "      <td>0.00</td>\n",
       "      <td>2</td>\n",
       "      <td>1</td>\n",
       "      <td>0</td>\n",
       "      <td>1351820.24</td>\n",
       "      <td>2</td>\n",
       "      <td>1</td>\n",
       "      <td>1</td>\n",
       "      <td>1622184.288</td>\n",
       "      <td>2</td>\n",
       "      <td>1</td>\n",
       "      <td>1</td>\n",
       "      <td>0</td>\n",
       "    </tr>\n",
       "    <tr>\n",
       "      <th>3</th>\n",
       "      <td>15566292</td>\n",
       "      <td>1008</td>\n",
       "      <td>Jakarta</td>\n",
       "      <td>42</td>\n",
       "      <td>19000000</td>\n",
       "      <td>0.0</td>\n",
       "      <td>2</td>\n",
       "      <td>1</td>\n",
       "      <td>0</td>\n",
       "      <td>0.00</td>\n",
       "      <td>2</td>\n",
       "      <td>1</td>\n",
       "      <td>0</td>\n",
       "      <td>0.00</td>\n",
       "      <td>2</td>\n",
       "      <td>1</td>\n",
       "      <td>0</td>\n",
       "      <td>0.000</td>\n",
       "      <td>4</td>\n",
       "      <td>1</td>\n",
       "      <td>0</td>\n",
       "      <td>1</td>\n",
       "    </tr>\n",
       "    <tr>\n",
       "      <th>4</th>\n",
       "      <td>15566312</td>\n",
       "      <td>1009</td>\n",
       "      <td>Jakarta</td>\n",
       "      <td>43</td>\n",
       "      <td>29000000</td>\n",
       "      <td>0.0</td>\n",
       "      <td>2</td>\n",
       "      <td>1</td>\n",
       "      <td>0</td>\n",
       "      <td>678905.68</td>\n",
       "      <td>2</td>\n",
       "      <td>1</td>\n",
       "      <td>1</td>\n",
       "      <td>431190.68</td>\n",
       "      <td>2</td>\n",
       "      <td>1</td>\n",
       "      <td>1</td>\n",
       "      <td>431190.680</td>\n",
       "      <td>3</td>\n",
       "      <td>1</td>\n",
       "      <td>0</td>\n",
       "      <td>0</td>\n",
       "    </tr>\n",
       "  </tbody>\n",
       "</table>\n",
       "</div>"
      ],
      "text/plain": [
       "   Customer ID  Branch Code     City  Age  Avg. Annual Income/Month  \\\n",
       "0     15565701         1001  Jakarta   29                  33000000   \n",
       "1     15565878         1005  Jakarta   68                  17000000   \n",
       "2     15566091         1009  Jakarta   25                  12000000   \n",
       "3     15566292         1008  Jakarta   42                  19000000   \n",
       "4     15566312         1009  Jakarta   43                  29000000   \n",
       "\n",
       "   Balance Q2  NumOfProducts Q2  HasCrCard Q2  ActiveMember Q2  Balance Q3  \\\n",
       "0         0.0                 1             1                0        0.00   \n",
       "1         0.0                 2             1                0        0.00   \n",
       "2         0.0                 2             1                0        0.00   \n",
       "3         0.0                 2             1                0        0.00   \n",
       "4         0.0                 2             1                0   678905.68   \n",
       "\n",
       "   NumOfProducts Q3  HasCrCard Q3  ActiveMember Q3  Balance Q4  \\\n",
       "0                 1             1                0  1187036.18   \n",
       "1                 2             1                0        0.00   \n",
       "2                 2             1                0  1351820.24   \n",
       "3                 2             1                0        0.00   \n",
       "4                 2             1                1   431190.68   \n",
       "\n",
       "   NumOfProducts Q4  HasCrCard Q4  ActiveMember Q4   Balance Q5  \\\n",
       "0                 1             1                1  1305739.798   \n",
       "1                 2             1                0        0.000   \n",
       "2                 2             1                1  1622184.288   \n",
       "3                 2             1                0        0.000   \n",
       "4                 2             1                1   431190.680   \n",
       "\n",
       "   NumOfProducts Q5  HasCrCard Q5  ActiveMember Q5  Unpaid Tagging  \n",
       "0                 1             1                1               1  \n",
       "1                 2             1                0               1  \n",
       "2                 2             1                1               0  \n",
       "3                 4             1                0               1  \n",
       "4                 3             1                0               0  "
      ]
     },
     "execution_count": 63,
     "metadata": {},
     "output_type": "execute_result"
    }
   ],
   "source": [
    "df1_val.head()"
   ]
  },
  {
   "cell_type": "code",
   "execution_count": 64,
   "metadata": {
    "colab": {
     "base_uri": "https://localhost:8080/",
     "height": 243
    },
    "id": "PfoCqvfX1w2J",
    "outputId": "26d5b44f-75fe-48fe-807d-6986db73f96c"
   },
   "outputs": [
    {
     "data": {
      "text/html": [
       "<div>\n",
       "<style scoped>\n",
       "    .dataframe tbody tr th:only-of-type {\n",
       "        vertical-align: middle;\n",
       "    }\n",
       "\n",
       "    .dataframe tbody tr th {\n",
       "        vertical-align: top;\n",
       "    }\n",
       "\n",
       "    .dataframe thead th {\n",
       "        text-align: right;\n",
       "    }\n",
       "</style>\n",
       "<table border=\"1\" class=\"dataframe\">\n",
       "  <thead>\n",
       "    <tr style=\"text-align: right;\">\n",
       "      <th></th>\n",
       "      <th>Customer ID</th>\n",
       "      <th>Branch Code</th>\n",
       "      <th>City</th>\n",
       "      <th>Age</th>\n",
       "      <th>Avg. Annual Income/Month</th>\n",
       "      <th>Balance Q2</th>\n",
       "      <th>NumOfProducts Q2</th>\n",
       "      <th>HasCrCard Q2</th>\n",
       "      <th>ActiveMember Q2</th>\n",
       "      <th>Balance Q3</th>\n",
       "      <th>NumOfProducts Q3</th>\n",
       "      <th>HasCrCard Q3</th>\n",
       "      <th>ActiveMember Q3</th>\n",
       "      <th>Balance Q4</th>\n",
       "      <th>NumOfProducts Q4</th>\n",
       "      <th>HasCrCard Q4</th>\n",
       "      <th>ActiveMember Q4</th>\n",
       "      <th>Balance Q5</th>\n",
       "      <th>NumOfProducts Q5</th>\n",
       "      <th>HasCrCard Q5</th>\n",
       "      <th>ActiveMember Q5</th>\n",
       "      <th>Unpaid Tagging</th>\n",
       "    </tr>\n",
       "  </thead>\n",
       "  <tbody>\n",
       "    <tr>\n",
       "      <th>0</th>\n",
       "      <td>15565701</td>\n",
       "      <td>1001</td>\n",
       "      <td>Jakarta</td>\n",
       "      <td>29</td>\n",
       "      <td>33000000</td>\n",
       "      <td>0.0</td>\n",
       "      <td>1</td>\n",
       "      <td>1</td>\n",
       "      <td>0</td>\n",
       "      <td>0.00</td>\n",
       "      <td>1</td>\n",
       "      <td>1</td>\n",
       "      <td>0</td>\n",
       "      <td>1187036.18</td>\n",
       "      <td>1</td>\n",
       "      <td>1</td>\n",
       "      <td>1</td>\n",
       "      <td>1305739.798</td>\n",
       "      <td>1</td>\n",
       "      <td>1</td>\n",
       "      <td>1</td>\n",
       "      <td>1</td>\n",
       "    </tr>\n",
       "    <tr>\n",
       "      <th>1</th>\n",
       "      <td>15565878</td>\n",
       "      <td>1005</td>\n",
       "      <td>Jakarta</td>\n",
       "      <td>68</td>\n",
       "      <td>17000000</td>\n",
       "      <td>0.0</td>\n",
       "      <td>2</td>\n",
       "      <td>1</td>\n",
       "      <td>0</td>\n",
       "      <td>0.00</td>\n",
       "      <td>2</td>\n",
       "      <td>1</td>\n",
       "      <td>0</td>\n",
       "      <td>0.00</td>\n",
       "      <td>2</td>\n",
       "      <td>1</td>\n",
       "      <td>0</td>\n",
       "      <td>0.000</td>\n",
       "      <td>2</td>\n",
       "      <td>1</td>\n",
       "      <td>0</td>\n",
       "      <td>1</td>\n",
       "    </tr>\n",
       "    <tr>\n",
       "      <th>2</th>\n",
       "      <td>15566091</td>\n",
       "      <td>1009</td>\n",
       "      <td>Jakarta</td>\n",
       "      <td>25</td>\n",
       "      <td>12000000</td>\n",
       "      <td>0.0</td>\n",
       "      <td>2</td>\n",
       "      <td>1</td>\n",
       "      <td>0</td>\n",
       "      <td>0.00</td>\n",
       "      <td>2</td>\n",
       "      <td>1</td>\n",
       "      <td>0</td>\n",
       "      <td>1351820.24</td>\n",
       "      <td>2</td>\n",
       "      <td>1</td>\n",
       "      <td>1</td>\n",
       "      <td>1622184.288</td>\n",
       "      <td>2</td>\n",
       "      <td>1</td>\n",
       "      <td>1</td>\n",
       "      <td>0</td>\n",
       "    </tr>\n",
       "    <tr>\n",
       "      <th>3</th>\n",
       "      <td>15566292</td>\n",
       "      <td>1008</td>\n",
       "      <td>Jakarta</td>\n",
       "      <td>42</td>\n",
       "      <td>19000000</td>\n",
       "      <td>0.0</td>\n",
       "      <td>2</td>\n",
       "      <td>1</td>\n",
       "      <td>0</td>\n",
       "      <td>0.00</td>\n",
       "      <td>2</td>\n",
       "      <td>1</td>\n",
       "      <td>0</td>\n",
       "      <td>0.00</td>\n",
       "      <td>2</td>\n",
       "      <td>1</td>\n",
       "      <td>0</td>\n",
       "      <td>0.000</td>\n",
       "      <td>4</td>\n",
       "      <td>1</td>\n",
       "      <td>0</td>\n",
       "      <td>1</td>\n",
       "    </tr>\n",
       "    <tr>\n",
       "      <th>4</th>\n",
       "      <td>15566312</td>\n",
       "      <td>1009</td>\n",
       "      <td>Jakarta</td>\n",
       "      <td>43</td>\n",
       "      <td>29000000</td>\n",
       "      <td>0.0</td>\n",
       "      <td>2</td>\n",
       "      <td>1</td>\n",
       "      <td>0</td>\n",
       "      <td>678905.68</td>\n",
       "      <td>2</td>\n",
       "      <td>1</td>\n",
       "      <td>1</td>\n",
       "      <td>431190.68</td>\n",
       "      <td>2</td>\n",
       "      <td>1</td>\n",
       "      <td>1</td>\n",
       "      <td>431190.680</td>\n",
       "      <td>3</td>\n",
       "      <td>1</td>\n",
       "      <td>0</td>\n",
       "      <td>0</td>\n",
       "    </tr>\n",
       "  </tbody>\n",
       "</table>\n",
       "</div>"
      ],
      "text/plain": [
       "   Customer ID  Branch Code     City  Age  Avg. Annual Income/Month  \\\n",
       "0     15565701         1001  Jakarta   29                  33000000   \n",
       "1     15565878         1005  Jakarta   68                  17000000   \n",
       "2     15566091         1009  Jakarta   25                  12000000   \n",
       "3     15566292         1008  Jakarta   42                  19000000   \n",
       "4     15566312         1009  Jakarta   43                  29000000   \n",
       "\n",
       "   Balance Q2  NumOfProducts Q2  HasCrCard Q2  ActiveMember Q2  Balance Q3  \\\n",
       "0         0.0                 1             1                0        0.00   \n",
       "1         0.0                 2             1                0        0.00   \n",
       "2         0.0                 2             1                0        0.00   \n",
       "3         0.0                 2             1                0        0.00   \n",
       "4         0.0                 2             1                0   678905.68   \n",
       "\n",
       "   NumOfProducts Q3  HasCrCard Q3  ActiveMember Q3  Balance Q4  \\\n",
       "0                 1             1                0  1187036.18   \n",
       "1                 2             1                0        0.00   \n",
       "2                 2             1                0  1351820.24   \n",
       "3                 2             1                0        0.00   \n",
       "4                 2             1                1   431190.68   \n",
       "\n",
       "   NumOfProducts Q4  HasCrCard Q4  ActiveMember Q4   Balance Q5  \\\n",
       "0                 1             1                1  1305739.798   \n",
       "1                 2             1                0        0.000   \n",
       "2                 2             1                1  1622184.288   \n",
       "3                 2             1                0        0.000   \n",
       "4                 2             1                1   431190.680   \n",
       "\n",
       "   NumOfProducts Q5  HasCrCard Q5  ActiveMember Q5  Unpaid Tagging  \n",
       "0                 1             1                1               1  \n",
       "1                 2             1                0               1  \n",
       "2                 2             1                1               0  \n",
       "3                 4             1                0               1  \n",
       "4                 3             1                0               0  "
      ]
     },
     "execution_count": 64,
     "metadata": {},
     "output_type": "execute_result"
    }
   ],
   "source": [
    "df2_val.head()"
   ]
  },
  {
   "cell_type": "markdown",
   "metadata": {
    "id": "a2kL7_5pb5Lj"
   },
   "source": [
    "### Penambahan Variabel Relevan"
   ]
  },
  {
   "cell_type": "markdown",
   "metadata": {
    "id": "u1xJbkeJ14_q"
   },
   "source": [
    "Rata-rata Balance & Perubahan Saldo"
   ]
  },
  {
   "cell_type": "code",
   "execution_count": null,
   "metadata": {
    "id": "F-wcQNYzb5Lj"
   },
   "outputs": [],
   "source": [
    "df1_val['Mean Balance'] = (df1_val['Balance Q2']+df1_val['Balance Q3']+df1_val['Balance Q4']+df1_val['Balance Q5'])/4\n",
    "df2_val['Mean Balance'] = (df2_val['Balance Q4']+df1_val['Balance Q5'])/2"
   ]
  },
  {
   "cell_type": "code",
   "execution_count": null,
   "metadata": {
    "id": "F-098bLJb5Lk"
   },
   "outputs": [],
   "source": [
    "df1_val['Delta Balance'] = df1_val['Balance Q5']-df1_val['Balance Q2']\n",
    "df2_val['Delta Balance'] = df2_val['Balance Q5']-df2_val['Balance Q3']"
   ]
  },
  {
   "cell_type": "markdown",
   "metadata": {
    "id": "8CFG9VxLb5Lk"
   },
   "source": [
    "### Status Keaktifan"
   ]
  },
  {
   "cell_type": "code",
   "execution_count": null,
   "metadata": {
    "id": "lEiJY3aPb5Lk"
   },
   "outputs": [],
   "source": [
    "df1_val['Active Months'] = (df1_val['ActiveMember Q2']+df1_val['ActiveMember Q3']+df1_val['ActiveMember Q4']+df1_val['ActiveMember Q5'])*3\n",
    "df2_val['Active Months'] = (df2_val['ActiveMember Q4']+df1_val['ActiveMember Q5'])*3"
   ]
  },
  {
   "cell_type": "markdown",
   "metadata": {
    "id": "ICNB3yu5b5Lk"
   },
   "source": [
    "### Penambahan/Pengurangan Product Holding"
   ]
  },
  {
   "cell_type": "code",
   "execution_count": null,
   "metadata": {
    "id": "846INDVXb5Ll"
   },
   "outputs": [],
   "source": [
    "df1_val['Diff PH'] = df1_val['NumOfProducts Q5']-df1_val['NumOfProducts Q2']\n",
    "df2_val['Diff PH'] = df2_val['NumOfProducts Q5']-df1_val['NumOfProducts Q3']"
   ]
  },
  {
   "cell_type": "markdown",
   "metadata": {
    "id": "DrYcWrkZ2-1Z"
   },
   "source": [
    "### Lama Kepemilikan Kartu Kredit"
   ]
  },
  {
   "cell_type": "code",
   "execution_count": null,
   "metadata": {
    "id": "W3w1dGtp26bY"
   },
   "outputs": [],
   "source": [
    "def assign_cr2(df):\n",
    "    if df['HasCrCard Q2'] == 1:\n",
    "        return 12\n",
    "    elif df['HasCrCard Q3'] == 1:\n",
    "        return 9\n",
    "    elif df['HasCrCard Q4'] == 1:\n",
    "        return 6\n",
    "    else:\n",
    "        return 3\n",
    "    return np.nan"
   ]
  },
  {
   "cell_type": "code",
   "execution_count": null,
   "metadata": {
    "id": "_SssSj-f3Cxc"
   },
   "outputs": [],
   "source": [
    "df1_val['Vintage_CR'] = df1_val.apply(assign_cr2, axis = 1)\n",
    "df2_val['Vintage_CR'] = df2_val.apply(assign_cr2, axis = 1)"
   ]
  },
  {
   "cell_type": "markdown",
   "metadata": {
    "id": "W0b4f7rFb5Ll"
   },
   "source": [
    "### Penghapusan Variabel"
   ]
  },
  {
   "cell_type": "code",
   "execution_count": null,
   "metadata": {
    "id": "bzMD5G2tb5Ll"
   },
   "outputs": [],
   "source": [
    "df1_val = df1_val.drop(columns = ['HasCrCard Q5', 'HasCrCard Q2', 'HasCrCard Q3', 'HasCrCard Q4','Balance Q5', 'Balance Q2', 'Balance Q3', 'Balance Q4','NumOfProducts Q5', 'NumOfProducts Q2', 'NumOfProducts Q3', 'NumOfProducts Q4','ActiveMember Q5', 'ActiveMember Q2', 'ActiveMember Q3', 'ActiveMember Q4'])\n",
    "df2_val = df2_val.drop(columns = ['HasCrCard Q5', 'HasCrCard Q2', 'HasCrCard Q3', 'HasCrCard Q4','Balance Q5', 'Balance Q2', 'Balance Q3', 'Balance Q4','NumOfProducts Q5', 'NumOfProducts Q2', 'NumOfProducts Q3', 'NumOfProducts Q4','ActiveMember Q5', 'ActiveMember Q2', 'ActiveMember Q3', 'ActiveMember Q4'])"
   ]
  },
  {
   "cell_type": "code",
   "execution_count": null,
   "metadata": {
    "colab": {
     "base_uri": "https://localhost:8080/",
     "height": 363
    },
    "id": "_RECHXvTb5Ll",
    "outputId": "7ce05894-6d4d-4f0e-c19b-3535eeb81ec5"
   },
   "outputs": [],
   "source": [
    "df1_val.head(10)"
   ]
  },
  {
   "cell_type": "code",
   "execution_count": null,
   "metadata": {
    "colab": {
     "base_uri": "https://localhost:8080/",
     "height": 363
    },
    "id": "agjIzgI5b5Ll",
    "outputId": "86160d2f-6bec-463b-f4d6-2a0f42e11b26",
    "scrolled": true
   },
   "outputs": [],
   "source": [
    "df2_val.head(10)"
   ]
  },
  {
   "cell_type": "markdown",
   "metadata": {
    "id": "02UUBJAob5Lm"
   },
   "source": [
    "### Pemilihan Variabel Prediktor"
   ]
  },
  {
   "cell_type": "code",
   "execution_count": null,
   "metadata": {
    "id": "FVec2YWkb5Lm"
   },
   "outputs": [],
   "source": [
    "predictor1_val = df1_val[df1_val.columns.difference(['Customer ID', 'Unpaid Tagging'])]\n",
    "predictor2_val = df2_val[df2_val.columns.difference(['Customer ID', 'Unpaid Tagging'])]"
   ]
  },
  {
   "cell_type": "code",
   "execution_count": null,
   "metadata": {
    "colab": {
     "base_uri": "https://localhost:8080/"
    },
    "id": "rBiLzs46b5Lm",
    "outputId": "7b1137e7-2f51-4c1c-cd3c-29a451ea8d65"
   },
   "outputs": [],
   "source": [
    "predictor1_val['Branch Code'] = predictor1_val['Branch Code'].astype(str)\n",
    "predictor2_val['Branch Code'] = predictor2_val['Branch Code'].astype(str)"
   ]
  },
  {
   "cell_type": "code",
   "execution_count": null,
   "metadata": {
    "id": "hVKEu9nsb5Lm"
   },
   "outputs": [],
   "source": [
    "predictor1_val = pd.get_dummies(predictor1_val)\n",
    "predictor2_val = pd.get_dummies(predictor2_val)"
   ]
  },
  {
   "cell_type": "code",
   "execution_count": null,
   "metadata": {
    "colab": {
     "base_uri": "https://localhost:8080/",
     "height": 243
    },
    "id": "61bEI_8Zb5Lm",
    "outputId": "3d50d153-c3a6-402c-d4f0-9edf2024fdae"
   },
   "outputs": [],
   "source": [
    "predictor1_val.head()"
   ]
  },
  {
   "cell_type": "code",
   "execution_count": null,
   "metadata": {
    "id": "BuqEkXz3b5Lm"
   },
   "outputs": [],
   "source": [
    "X1_num_val = predictor1_val[predname_num]\n",
    "X2_num_val = predictor2_val[predname_num]\n",
    "X1_cat_val = predictor1_val[predname_cat]\n",
    "X2_cat_val = predictor2_val[predname_cat]"
   ]
  },
  {
   "cell_type": "code",
   "execution_count": null,
   "metadata": {
    "id": "JNX8gWY5b5Lm"
   },
   "outputs": [],
   "source": [
    "X1_num_val = pd.DataFrame(pt.fit_transform(X1_num_val))\n",
    "X1_num_val.columns = predname_num\n",
    "\n",
    "X2_num_val = pd.DataFrame(pt.fit_transform(X2_num_val))\n",
    "X2_num_val.columns = predname_num"
   ]
  },
  {
   "cell_type": "code",
   "execution_count": null,
   "metadata": {
    "id": "AwIQYILRb5Ln"
   },
   "outputs": [],
   "source": [
    "X1_val = pd.concat([X1_cat, X1_num], axis = 1)\n",
    "X2_val = pd.concat([X2_cat, X2_num], axis = 1)"
   ]
  },
  {
   "cell_type": "code",
   "execution_count": null,
   "metadata": {
    "colab": {
     "base_uri": "https://localhost:8080/",
     "height": 243
    },
    "id": "-IGdWeXmb5Ln",
    "outputId": "4a819f3c-2990-4b0d-ad64-d4923388d910"
   },
   "outputs": [],
   "source": [
    "X1_val.head()"
   ]
  },
  {
   "cell_type": "code",
   "execution_count": null,
   "metadata": {
    "id": "2i1NYFz3b5Ln"
   },
   "outputs": [],
   "source": [
    "y1_val = df1_val['Unpaid Tagging']\n",
    "y2_val = df2_val['Unpaid Tagging']"
   ]
  },
  {
   "cell_type": "markdown",
   "metadata": {
    "id": "J09kWaNj5Mo1"
   },
   "source": [
    "## Pengecekan Korelasi\n",
    "\n",
    "Variabel yang berkorelasi lebih dari 0.7 akan di drop."
   ]
  },
  {
   "cell_type": "code",
   "execution_count": null,
   "metadata": {
    "id": "YjVSEF935MB_"
   },
   "outputs": [],
   "source": [
    "corrtest1 = X1.corr().abs()\n",
    "corrtest2 = X2.corr().abs()"
   ]
  },
  {
   "cell_type": "code",
   "execution_count": null,
   "metadata": {
    "colab": {
     "base_uri": "https://localhost:8080/",
     "height": 1000
    },
    "id": "UWfvwOl95_w9",
    "outputId": "a6756610-f57c-4523-bafd-2f2ac9e8bf55"
   },
   "outputs": [],
   "source": [
    "corrtest1"
   ]
  },
  {
   "cell_type": "code",
   "execution_count": null,
   "metadata": {
    "colab": {
     "base_uri": "https://localhost:8080/",
     "height": 1000
    },
    "id": "_NxO1KVs66WC",
    "outputId": "6071eefa-b730-4ae6-82bb-28f140732336"
   },
   "outputs": [],
   "source": [
    "corrtest2"
   ]
  },
  {
   "cell_type": "code",
   "execution_count": null,
   "metadata": {
    "colab": {
     "base_uri": "https://localhost:8080/"
    },
    "id": "9m2-TmPe68uL",
    "outputId": "2d2c26e4-aa68-499e-b237-6f5c9a95dd85"
   },
   "outputs": [],
   "source": [
    "# Membuang Nilai Redundan Pada Matriks\n",
    "upper = corrtest1.where(np.triu(np.ones(corrtest1.shape), k=1).astype(np.bool))\n",
    "\n",
    "# Mencari Nilai Yang Berkorelasi di atas 0.7\n",
    "to_drop = [column for column in upper.columns if any(upper[column] > 0.7)]\n",
    "\n",
    "# Menghapus Kolom Yang Berkorelasi di atas 0.7\n",
    "X1 = X1.drop(to_drop, axis=1)\n",
    "X1_val = X1_val.drop(to_drop, axis=1)"
   ]
  },
  {
   "cell_type": "code",
   "execution_count": null,
   "metadata": {
    "colab": {
     "base_uri": "https://localhost:8080/",
     "height": 243
    },
    "id": "vZA0p4kX7ZLH",
    "outputId": "f2a1f6ab-8728-4cbb-be4f-e532880866b1"
   },
   "outputs": [],
   "source": [
    "X1.head()"
   ]
  },
  {
   "cell_type": "code",
   "execution_count": null,
   "metadata": {
    "colab": {
     "base_uri": "https://localhost:8080/"
    },
    "id": "A91Kgt3Z7csz",
    "outputId": "78c578ac-7e69-4e03-b878-efaed2d1708c"
   },
   "outputs": [],
   "source": [
    "# Membuang Nilai Redundan Pada Matriks\n",
    "upper2 = corrtest2.where(np.triu(np.ones(corrtest2.shape), k=1).astype(np.bool))\n",
    "\n",
    "# Mencari Nilai Yang Berkorelasi di atas 0.7\n",
    "to_drop2 = [column for column in upper2.columns if any(upper2[column] > 0.7)]\n",
    "\n",
    "# Menghapus Kolom Yang Berkorelasi di atas 0.7\n",
    "X2 = X2.drop(to_drop2, axis=1)\n",
    "X2_val = X2_val.drop(to_drop2, axis=1)"
   ]
  },
  {
   "cell_type": "code",
   "execution_count": null,
   "metadata": {
    "colab": {
     "base_uri": "https://localhost:8080/",
     "height": 243
    },
    "id": "mF3WkRJE72US",
    "outputId": "eb38b165-61dc-45fa-88b8-0b913c5b8266"
   },
   "outputs": [],
   "source": [
    "X2.head()"
   ]
  },
  {
   "cell_type": "markdown",
   "metadata": {
    "id": "Pbyu2nPHb5Ln"
   },
   "source": [
    "## Splitting Train-Test Data"
   ]
  },
  {
   "cell_type": "code",
   "execution_count": null,
   "metadata": {
    "colab": {
     "base_uri": "https://localhost:8080/"
    },
    "id": "fDq5F5wCb5Ln",
    "outputId": "b82b57c1-fb62-4cef-938e-f06f4ab709d0"
   },
   "outputs": [],
   "source": [
    "y1.value_counts()"
   ]
  },
  {
   "cell_type": "code",
   "execution_count": null,
   "metadata": {
    "colab": {
     "base_uri": "https://localhost:8080/"
    },
    "id": "q2cI6uJib5Ln",
    "outputId": "c4ad50c5-3b87-41cf-c08c-05ad04be7ce5"
   },
   "outputs": [],
   "source": [
    "y2.value_counts()"
   ]
  },
  {
   "cell_type": "code",
   "execution_count": null,
   "metadata": {
    "id": "lyz8HlPLb5Ln"
   },
   "outputs": [],
   "source": [
    "from sklearn.model_selection import train_test_split\n",
    "\n",
    "X1_train, X1_test, y1_train, y1_test = train_test_split(X1, y1, test_size=0.3, stratify=y1, random_state=30)\n",
    "X2_train, X2_test, y2_train, y2_test = train_test_split(X2, y2, test_size=0.3, stratify=y2, random_state=30)"
   ]
  },
  {
   "cell_type": "markdown",
   "metadata": {
    "id": "x4EZ90cqb5Lo"
   },
   "source": [
    "# **Modeling**\n",
    "\n",
    "Pembangunan model akan menggunakan 3 algoritma:\n",
    "1. Logistic Regression\n",
    "2. Gradient Boosting\n",
    "3. Random Forest"
   ]
  },
  {
   "cell_type": "markdown",
   "metadata": {
    "id": "gPS-C4E74Tnj"
   },
   "source": [
    "## Logistic Regression"
   ]
  },
  {
   "cell_type": "markdown",
   "metadata": {
    "id": "Y6e8DG3L4NQx"
   },
   "source": [
    "Melakukan Definisi Hyperparameter"
   ]
  },
  {
   "cell_type": "code",
   "execution_count": null,
   "metadata": {
    "id": "RPVOV4RJb5Lo"
   },
   "outputs": [],
   "source": [
    "penalty = ['l2']\n",
    "tol = [0.001, 0.0001, 0.00001]\n",
    "C = [100.0, 10.0, 1.00, 0.1, 0.01, 0.001]\n",
    "fit_intercept = [True, False]\n",
    "intercept_scaling = [1.0, 0.75, 0.5, 0.25]\n",
    "class_weight = ['balanced', None]\n",
    "solver = ['newton-cg', 'sag', 'lbfgs', 'saga']\n",
    "max_iter=[14000]\n",
    "param_distributions = dict(penalty=penalty, tol=tol, C=C, fit_intercept=fit_intercept, intercept_scaling=intercept_scaling,\n",
    "                  class_weight=class_weight, solver=solver, max_iter=max_iter)"
   ]
  },
  {
   "cell_type": "markdown",
   "metadata": {
    "id": "8vAhdA3t8a5J"
   },
   "source": [
    "Melakukan Pencarian Hyperparameter Terbaik"
   ]
  },
  {
   "cell_type": "code",
   "execution_count": null,
   "metadata": {
    "id": "xjJzXiDmb5Lo"
   },
   "outputs": [],
   "source": [
    "from sklearn.model_selection import GridSearchCV"
   ]
  },
  {
   "cell_type": "markdown",
   "metadata": {
    "id": "FVYmhe6J_GMp"
   },
   "source": [
    "### Eksperimen 1"
   ]
  },
  {
   "cell_type": "code",
   "execution_count": null,
   "metadata": {
    "colab": {
     "base_uri": "https://localhost:8080/"
    },
    "id": "nBj8PZdib5Lo",
    "outputId": "94bdac25-c8ae-40e3-86b7-f4ad86fc4900"
   },
   "outputs": [],
   "source": [
    "import time\n",
    "\n",
    "#cv = cross validation\n",
    "logreg = LogisticRegression()\n",
    "grid = GridSearchCV(estimator=logreg, param_grid = param_distributions , scoring = 'recall', cv = 5, n_jobs=-1)\n",
    "\n",
    "start_time = time.time()\n",
    "grid_result = grid.fit(X1_train, y1_train)\n",
    "# Summarize results\n",
    "print(\"Best: %f using %s\" % (grid_result.best_score_, grid_result.best_params_))\n",
    "print(\"Execution time: \" + str((time.time() - start_time)) + ' s')"
   ]
  },
  {
   "cell_type": "markdown",
   "metadata": {
    "id": "VGNqMifU_Mdw"
   },
   "source": [
    "### Eksperimen 2"
   ]
  },
  {
   "cell_type": "code",
   "execution_count": null,
   "metadata": {
    "id": "IUZ9591ib5Lo"
   },
   "outputs": [],
   "source": [
    "grid2 = GridSearchCV(estimator=logreg, param_grid = param_distributions , scoring = 'recall', cv = 5, n_jobs=-1)\n",
    "start_time = time.time()\n",
    "grid_result2 = grid2.fit(X2_train, y2_train)\n",
    "# Summarize results\n",
    "print(\"Best: %f using %s\" % (grid_result2.best_score_, grid_result2.best_params_))\n",
    "print(\"Execution time: \" + str((time.time() - start_time)) + ' s')"
   ]
  },
  {
   "cell_type": "markdown",
   "metadata": {
    "id": "yiaf8uHLb5Lo"
   },
   "source": [
    "## Gradient Boosting"
   ]
  },
  {
   "cell_type": "code",
   "execution_count": null,
   "metadata": {
    "id": "7W5A3oEcb5Lo"
   },
   "outputs": [],
   "source": [
    "from xgboost import XGBClassifier\n",
    "from sklearn.metrics import confusion_matrix, classification_report, make_scorer,accuracy_score,precision_score,recall_score,f1_score"
   ]
  },
  {
   "cell_type": "code",
   "execution_count": null,
   "metadata": {
    "id": "w6Xpop_mb5Lo"
   },
   "outputs": [],
   "source": [
    "gbparameter = {'max_depth':[5,10,15],'gamma':[0.0,0.1,0.2,0.3], 'n_estimators':[25,50,75,100],'learning_rate':[0.05,0.1,0.2,0.3], 'scale_pos_weight':[1,3]}\n",
    "score = {'accuracy':make_scorer(accuracy_score), 'precision':make_scorer(precision_score),'recall':make_scorer(recall_score), 'f1':make_scorer(f1_score)}"
   ]
  },
  {
   "cell_type": "markdown",
   "metadata": {
    "id": "SFidbv2Ab5Lp"
   },
   "source": [
    "Gamma: nilai minimal loss reduction yang dibutuhkan pada saat pemecahan cabang. Semakin besar nilai gamma yang ditetapkan, model yang dibangun akan lebih konservatif dan memungkinkan terjadinya underfitting.\n",
    "\n",
    "Learning_rate: tingkat penyesuaian bobot fitur. Dalam pembangunan model, setiap iterasi menghasilkan bobot untuk fitur-fitur yang dimiliki. Learning_rate berguna untuk membantu menyusutkan nilai bobot tersebut agar model yang dibangun tidak mengalami overfitting.\n",
    "\n",
    "Scale_pos_weight: pengaturan bobot antara kelas positif (churn) dengan kelas negatif (not churn). Hyperparameter ini sangat berguna ketika dataset yang digunakan merupakan imbalance datasets. Nilai yang biasa digunakan yaitu jumlah dari majority class dibagi dengan jumlah minority class."
   ]
  },
  {
   "cell_type": "markdown",
   "metadata": {
    "id": "79y86XoIb5Lp"
   },
   "source": [
    "### Eksperimen 1"
   ]
  },
  {
   "cell_type": "code",
   "execution_count": null,
   "metadata": {
    "id": "wL1QshTXb5Lp"
   },
   "outputs": [],
   "source": [
    "GB_Grid = GridSearchCV(XGBClassifier(), gbparameter, cv=5,refit='recall', verbose=0, n_jobs=-1, scoring=score)"
   ]
  },
  {
   "cell_type": "code",
   "execution_count": null,
   "metadata": {
    "id": "cvRkzwBJb5Lp"
   },
   "outputs": [],
   "source": [
    "start_time = time.time()\n",
    "GB_result = GB_Grid.fit(X1_train, y1_train)\n",
    "# Summarize results\n",
    "print(\"Best: %f using %s\" % (GB_result.best_score_, GB_result.best_params_))\n",
    "print(\"Execution time: \" + str((time.time() - start_time)) + ' s')"
   ]
  },
  {
   "cell_type": "markdown",
   "metadata": {
    "id": "_epJcxl1b5Lp"
   },
   "source": [
    "### Eksperimen 2"
   ]
  },
  {
   "cell_type": "code",
   "execution_count": null,
   "metadata": {
    "id": "hUWUpfieb5Lp"
   },
   "outputs": [],
   "source": [
    "GB_Grid2 = GridSearchCV(XGBClassifier(), gbparameter, cv=5,refit='recall', verbose=0, n_jobs=-1, scoring=score)"
   ]
  },
  {
   "cell_type": "code",
   "execution_count": null,
   "metadata": {
    "id": "cqhhFWd3b5Lp"
   },
   "outputs": [],
   "source": [
    "start_time = time.time()\n",
    "GB2_result = GB_Grid2.fit(X2_train, y2_train)\n",
    "# Summarize results\n",
    "print(\"Best: %f using %s\" % (GB2_result.best_score_, GB2_result.best_params_))\n",
    "print(\"Execution time: \" + str((time.time() - start_time)) + ' s')"
   ]
  },
  {
   "cell_type": "markdown",
   "metadata": {
    "id": "B_Et0UPgb5Lp"
   },
   "source": [
    "## Random Forest"
   ]
  },
  {
   "cell_type": "code",
   "execution_count": null,
   "metadata": {
    "id": "PAEUNLvyb5Lq"
   },
   "outputs": [],
   "source": [
    "from sklearn.ensemble import RandomForestClassifier"
   ]
  },
  {
   "cell_type": "code",
   "execution_count": null,
   "metadata": {
    "id": "ibsgHL5Hb5Lq"
   },
   "outputs": [],
   "source": [
    "parameter = {'max_depth':[5,10,15,20],'max_features':['auto','sqrt','log2'], 'n_estimators':[25,50,75,100,125],'min_samples_split':[2,3,5,7]}\n",
    "score = {'accuracy':make_scorer(accuracy_score), 'precision':make_scorer(precision_score),'recall':make_scorer(recall_score), 'f1':make_scorer(f1_score)}"
   ]
  },
  {
   "cell_type": "markdown",
   "metadata": {
    "id": "1TwxuySlb5Lq"
   },
   "source": [
    "Max_depth: jumlah maksimal pemecahan cabang atau level dalam satu pohon. Semakin besar nilai max_depth yang ditetapkan, model akan semakin presisi dalam menggolongkan data ke suatu kelas. Akan tetapi semakin besar nilai max_depth juga akan membuat model overfitting.\n",
    "\n",
    "Max_features: jumlah maksimal fitur yang dipertimbangkan ketika melakukan pemecahan cabang (splitting node). Sama halnya dengan max_depth¸ semakin banyak jumlah fitur yang dipertimbangkan dalam pemecahan cabang, akan semakin detail hasil yang didapatkan tetapi juga akan membuat model overfitting terhadap data trainingnya.\n",
    "\n",
    "N_estimator: jumlah pohon yang akan dibangun. Semakin banyak pohon, tingkat akurasi yang didapatkan menjadi lebih baik mengingat Random Forest menggunakan konsep majority vote dalam melakukan klasifikasi. Akan tetapi semakin banyak pohon yang dibangun, waktu komputasi yang dibutuhkan juga akan semakin tinggi.\n",
    "\n",
    "Min_sample_split: jumlah sampel data minimal pada sebuah internal node. Nilai yang besar dapat membuat model yang dibangun lebih konservatif. Akan tetapi, jika terlalu besar dapat menyebabkan model yang dibangun underfitting."
   ]
  },
  {
   "cell_type": "markdown",
   "metadata": {
    "id": "dJHNDbQdb5Lq"
   },
   "source": [
    "#### Eksperimen 1"
   ]
  },
  {
   "cell_type": "code",
   "execution_count": null,
   "metadata": {
    "id": "vC3-Lonfb5Lq"
   },
   "outputs": [],
   "source": [
    "RF_Grid = GridSearchCV(RandomForestClassifier(), parameter, cv=5,refit='recall', verbose=0, n_jobs=-1, scoring=score)"
   ]
  },
  {
   "cell_type": "code",
   "execution_count": null,
   "metadata": {
    "id": "0tGHfk70b5Lq"
   },
   "outputs": [],
   "source": [
    "start_time = time.time()\n",
    "RF_result = RF_Grid.fit(X1_train, y1_train)\n",
    "# Summarize results\n",
    "print(\"Best: %f using %s\" % (RF_result.best_score_, RF_result.best_params_))\n",
    "print(\"Execution time: \" + str((time.time() - start_time)) + ' s')"
   ]
  },
  {
   "cell_type": "markdown",
   "metadata": {
    "id": "X-nfI8Vlb5Lq"
   },
   "source": [
    "#### Eksperimen 2"
   ]
  },
  {
   "cell_type": "code",
   "execution_count": null,
   "metadata": {
    "id": "He61anxBb5Lr"
   },
   "outputs": [],
   "source": [
    "RF_Grid2 = GridSearchCV(RandomForestClassifier(), parameter, cv=5,refit='recall', verbose=0, n_jobs=-1, scoring=score)"
   ]
  },
  {
   "cell_type": "code",
   "execution_count": null,
   "metadata": {
    "id": "BeSZLDibb5Lr"
   },
   "outputs": [],
   "source": [
    "start_time = time.time()\n",
    "RF_result2 = RF_Grid2.fit(X2_train, y2_train)\n",
    "# Summarize results\n",
    "print(\"Best: %f using %s\" % (RF_result2.best_score_, RF_result2.best_params_))\n",
    "print(\"Execution time: \" + str((time.time() - start_time)) + ' s')"
   ]
  },
  {
   "cell_type": "markdown",
   "metadata": {
    "id": "ab87lOOKb5Lr"
   },
   "source": [
    "# Evaluation"
   ]
  },
  {
   "cell_type": "markdown",
   "metadata": {
    "id": "JMTnMYEIb5Lr"
   },
   "source": [
    "## Logistic Regression"
   ]
  },
  {
   "cell_type": "markdown",
   "metadata": {
    "id": "btkBK0blb5Lr"
   },
   "source": [
    "#### Eksperimen 1"
   ]
  },
  {
   "cell_type": "code",
   "execution_count": null,
   "metadata": {
    "id": "5m75Lcy8b5Lr"
   },
   "outputs": [],
   "source": [
    "y1_pred =grid.predict(X1_test)"
   ]
  },
  {
   "cell_type": "code",
   "execution_count": null,
   "metadata": {
    "id": "P1FU__xKb5Lr"
   },
   "outputs": [],
   "source": [
    "from sklearn import metrics\n",
    "print(\"Accuracy:\",metrics.accuracy_score(y1_test, y1_pred))\n",
    "print(\"Recall:\",metrics.recall_score(y1_test, y1_pred))\n",
    "metrics.completeness_score"
   ]
  },
  {
   "cell_type": "code",
   "execution_count": null,
   "metadata": {
    "id": "ivKPD9ANb5Lr"
   },
   "outputs": [],
   "source": [
    "y1_pred_val =grid.predict(X1_val)"
   ]
  },
  {
   "cell_type": "code",
   "execution_count": null,
   "metadata": {
    "id": "uStGhf1xb5Ls"
   },
   "outputs": [],
   "source": [
    "from sklearn import metrics\n",
    "print(\"Accuracy:\",metrics.accuracy_score(y1_val, y1_pred_val))\n",
    "print(\"Recall:\",metrics.recall_score(y1_val, y1_pred_val))\n",
    "metrics.completeness_score"
   ]
  },
  {
   "cell_type": "code",
   "execution_count": null,
   "metadata": {
    "id": "LHG29Amdb5Ls"
   },
   "outputs": [],
   "source": [
    "from jcopml.feature_importance import mean_score_decrease\n",
    "df_imp1 = mean_score_decrease(X1_train, y1_train, grid, plot= True, topk=20)"
   ]
  },
  {
   "cell_type": "markdown",
   "metadata": {
    "id": "r2TAlT16b5Ls"
   },
   "source": [
    "#### Eksperimen 2"
   ]
  },
  {
   "cell_type": "code",
   "execution_count": null,
   "metadata": {
    "id": "8vHAbe0Mb5Ls"
   },
   "outputs": [],
   "source": [
    "y2_pred =grid2.predict(X2_test)"
   ]
  },
  {
   "cell_type": "code",
   "execution_count": null,
   "metadata": {
    "id": "VGoawKFDb5Ls"
   },
   "outputs": [],
   "source": [
    "from sklearn import metrics\n",
    "print(\"Accuracy:\",metrics.accuracy_score(y2_test, y2_pred))\n",
    "print(\"Recall:\",metrics.recall_score(y2_test, y2_pred))\n",
    "metrics.completeness_score"
   ]
  },
  {
   "cell_type": "code",
   "execution_count": null,
   "metadata": {
    "id": "R0RkzC-Mb5Ls"
   },
   "outputs": [],
   "source": [
    "y2_pred_val =grid2.predict(X2_val)"
   ]
  },
  {
   "cell_type": "code",
   "execution_count": null,
   "metadata": {
    "id": "Kjm_UpwXb5Ls"
   },
   "outputs": [],
   "source": [
    "from sklearn import metrics\n",
    "print(\"Accuracy:\",metrics.accuracy_score(y2_val, y2_pred_val))\n",
    "print(\"Recall:\",metrics.recall_score(y2_val, y2_pred_val))\n",
    "metrics.completeness_score"
   ]
  },
  {
   "cell_type": "code",
   "execution_count": null,
   "metadata": {
    "id": "l3ij_Ju2b5Ls"
   },
   "outputs": [],
   "source": [
    "df_imp2 = mean_score_decrease(X2_train, y2_train, grid2, plot= True, topk=20)"
   ]
  },
  {
   "cell_type": "markdown",
   "metadata": {
    "id": "xEsqxBRSb5Lt"
   },
   "source": [
    "## Gradient Boosting"
   ]
  },
  {
   "cell_type": "markdown",
   "metadata": {
    "id": "D3HqQ07Nb5Lt"
   },
   "source": [
    "#### Eksperimen 1"
   ]
  },
  {
   "cell_type": "code",
   "execution_count": null,
   "metadata": {
    "id": "0mwIrzWWb5Lt"
   },
   "outputs": [],
   "source": [
    "y11_pred =GB_Grid.predict(X1_test)"
   ]
  },
  {
   "cell_type": "code",
   "execution_count": null,
   "metadata": {
    "id": "HBMkpP2Qb5Lt"
   },
   "outputs": [],
   "source": [
    "from sklearn import metrics\n",
    "print(\"Accuracy:\",metrics.accuracy_score(y1_test, y11_pred))\n",
    "print(\"Recall:\",metrics.recall_score(y1_test, y11_pred))\n",
    "metrics.completeness_score"
   ]
  },
  {
   "cell_type": "code",
   "execution_count": null,
   "metadata": {
    "id": "lrh18FHZb5Lt"
   },
   "outputs": [],
   "source": [
    "y11_pred_val =GB_Grid.predict(X1_val)"
   ]
  },
  {
   "cell_type": "code",
   "execution_count": null,
   "metadata": {
    "id": "K3ZLIjVsb5Lt"
   },
   "outputs": [],
   "source": [
    "from sklearn import metrics\n",
    "print(\"Accuracy:\",metrics.accuracy_score(y1_val, y11_pred_val))\n",
    "print(\"Recall:\",metrics.recall_score(y1_val, y11_pred_val))\n",
    "metrics.completeness_score"
   ]
  },
  {
   "cell_type": "code",
   "execution_count": null,
   "metadata": {
    "id": "TfiDgNiyb5Lu"
   },
   "outputs": [],
   "source": [
    "df_imp3 = mean_score_decrease(X1_train, y1_train, GB_Grid, plot= True, topk=20)"
   ]
  },
  {
   "cell_type": "markdown",
   "metadata": {
    "id": "Asy4q7bLb5Lu"
   },
   "source": [
    "#### Eksperimen 2"
   ]
  },
  {
   "cell_type": "code",
   "execution_count": null,
   "metadata": {
    "id": "6_0OiB3Eb5Lu"
   },
   "outputs": [],
   "source": [
    "y22_pred =GB_Grid2.predict(X2_test)"
   ]
  },
  {
   "cell_type": "code",
   "execution_count": null,
   "metadata": {
    "id": "POQ12sZbb5Lu"
   },
   "outputs": [],
   "source": [
    "from sklearn import metrics\n",
    "print(\"Accuracy:\",metrics.accuracy_score(y2_test, y22_pred))\n",
    "print(\"Recall:\",metrics.recall_score(y2_test, y22_pred))\n",
    "metrics.completeness_score"
   ]
  },
  {
   "cell_type": "code",
   "execution_count": null,
   "metadata": {
    "id": "GjVhT78Lb5Lu"
   },
   "outputs": [],
   "source": [
    "y22_pred_val =GB_Grid2.predict(X2_val)"
   ]
  },
  {
   "cell_type": "code",
   "execution_count": null,
   "metadata": {
    "id": "sSjqewTrb5Lu"
   },
   "outputs": [],
   "source": [
    "from sklearn import metrics\n",
    "print(\"Accuracy:\",metrics.accuracy_score(y2_val, y22_pred_val))\n",
    "print(\"Recall:\",metrics.recall_score(y2_val, y22_pred_val))\n",
    "metrics.completeness_score"
   ]
  },
  {
   "cell_type": "code",
   "execution_count": null,
   "metadata": {
    "id": "L1VKiAzIb5Lu"
   },
   "outputs": [],
   "source": [
    "df_imp4 = mean_score_decrease(X2_train, y2_train, GB_Grid2, plot= True, topk=20)"
   ]
  },
  {
   "cell_type": "markdown",
   "metadata": {
    "id": "t-8CnfQkb5Lv"
   },
   "source": [
    "## Random Forest"
   ]
  },
  {
   "cell_type": "markdown",
   "metadata": {
    "id": "B2oeM_rYb5Lv"
   },
   "source": [
    "#### Eksperimen 1"
   ]
  },
  {
   "cell_type": "code",
   "execution_count": null,
   "metadata": {
    "id": "NT-4pMGEb5Lv"
   },
   "outputs": [],
   "source": [
    "y12_pred =RF_Grid.predict(X1_test)"
   ]
  },
  {
   "cell_type": "code",
   "execution_count": null,
   "metadata": {
    "id": "PJC_Yq4Tb5Lv"
   },
   "outputs": [],
   "source": [
    "from sklearn import metrics\n",
    "print(\"Accuracy:\",metrics.accuracy_score(y1_test, y12_pred))\n",
    "print(\"Recall:\",metrics.recall_score(y1_test, y12_pred))\n",
    "metrics.completeness_score"
   ]
  },
  {
   "cell_type": "code",
   "execution_count": null,
   "metadata": {
    "id": "xtQldCd1b5Lv"
   },
   "outputs": [],
   "source": [
    "y12_pred_val =RF_Grid.predict(X1_val)"
   ]
  },
  {
   "cell_type": "code",
   "execution_count": null,
   "metadata": {
    "id": "CShyl0Swb5Lv"
   },
   "outputs": [],
   "source": [
    "from sklearn import metrics\n",
    "print(\"Accuracy:\",metrics.accuracy_score(y1_val, y12_pred_val))\n",
    "print(\"Recall:\",metrics.recall_score(y1_val, y12_pred_val))\n",
    "metrics.completeness_score"
   ]
  },
  {
   "cell_type": "code",
   "execution_count": null,
   "metadata": {
    "id": "qe-DxyzKb5Lv"
   },
   "outputs": [],
   "source": [
    "df_imp5 = mean_score_decrease(X1_train, y1_train, RF_Grid, plot= True, topk=20)"
   ]
  },
  {
   "cell_type": "markdown",
   "metadata": {
    "id": "_0QZ0GMZb5Lv"
   },
   "source": [
    "#### Eksperimen 2"
   ]
  },
  {
   "cell_type": "code",
   "execution_count": null,
   "metadata": {
    "id": "A3jQSc6kb5Lv"
   },
   "outputs": [],
   "source": [
    "y21_pred =RF_Grid2.predict(X2_test)"
   ]
  },
  {
   "cell_type": "code",
   "execution_count": null,
   "metadata": {
    "id": "n_9Q4axFb5Lw"
   },
   "outputs": [],
   "source": [
    "from sklearn import metrics\n",
    "print(\"Accuracy:\",metrics.accuracy_score(y2_test, y21_pred))\n",
    "print(\"Recall:\",metrics.recall_score(y2_test, y21_pred))\n",
    "metrics.completeness_score"
   ]
  },
  {
   "cell_type": "code",
   "execution_count": null,
   "metadata": {
    "id": "D-o8DxwPb5Lw"
   },
   "outputs": [],
   "source": [
    "y21_pred_val =RF_Grid2.predict(X2_val)"
   ]
  },
  {
   "cell_type": "code",
   "execution_count": null,
   "metadata": {
    "id": "lcLHPyGUb5Lw"
   },
   "outputs": [],
   "source": [
    "from sklearn import metrics\n",
    "print(\"Accuracy:\",metrics.accuracy_score(y2_val, y21_pred_val))\n",
    "print(\"Recall:\",metrics.recall_score(y2_val, y21_pred_val))\n",
    "metrics.completeness_score"
   ]
  },
  {
   "cell_type": "code",
   "execution_count": null,
   "metadata": {
    "id": "8tbUCwVCb5Lw"
   },
   "outputs": [],
   "source": [
    "df_imp6 = mean_score_decrease(X2_train, y2_train, RF_Grid2, plot= True, topk=20)"
   ]
  },
  {
   "cell_type": "markdown",
   "metadata": {
    "id": "HkPQfPxlb5Lw"
   },
   "source": [
    "# Kesimpulan"
   ]
  },
  {
   "cell_type": "markdown",
   "metadata": {
    "id": "PpThmh0Ob5Lw"
   },
   "source": [
    "Dari semua model, rata-rata memiliki accuracy di atas 60% namun memiliki recall di bawah 40%. Artinya, masih banyak nasabah yang sebenarnya berpotensi gagal bayar namun diprediksi tidak akan gagal bayar. Sehingga bisa disampaikan bahwa dalam iterasi pembangunan model kali ini, objektif yang diinginkan masih belum dapat tercapai.\n",
    "\n",
    "Solusi pengembangan kedepannya yang bisa dilakukan di antaranya:\n",
    "\n",
    "1. Memperbanyak sample (jumlah nasabah dgn asumsi dataset yang tersedia saat ini bukan total populasi nasabah)\n",
    "2. Melakukan oversampling terhadap kelas minoritas (gagal bayar) agar pembangunan model tidak bias\n",
    "3. Memperluas horizon waktu\n",
    "4. Mencoba variasi variabel lainnya (menambah variabel baru, atau membuang variabel yang memiliki nilai importance rendah pada hasil terakhir)\n",
    "5. Mencoba memperluas kombinasi hyperparameter dalam pembangunan model\n",
    "6. Mencoba algoritma supervised machine learning lainnya"
   ]
  }
 ],
 "metadata": {
  "colab": {
   "provenance": [],
   "toc_visible": true
  },
  "kernelspec": {
   "display_name": "Python 3 (ipykernel)",
   "language": "python",
   "name": "python3"
  },
  "language_info": {
   "codemirror_mode": {
    "name": "ipython",
    "version": 3
   },
   "file_extension": ".py",
   "mimetype": "text/x-python",
   "name": "python",
   "nbconvert_exporter": "python",
   "pygments_lexer": "ipython3",
   "version": "3.11.4"
  }
 },
 "nbformat": 4,
 "nbformat_minor": 4
}
